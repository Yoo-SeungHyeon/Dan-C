{
 "cells": [
  {
   "cell_type": "markdown",
   "metadata": {},
   "source": [
    "# CUDA 및 Pytorch 버전 확인"
   ]
  },
  {
   "cell_type": "code",
   "execution_count": null,
   "metadata": {},
   "outputs": [],
   "source": [
    "import torch\n",
    "print(torch.__version__)"
   ]
  },
  {
   "cell_type": "code",
   "execution_count": null,
   "metadata": {},
   "outputs": [],
   "source": [
    "USE_CUDA = torch.cuda.is_available()\n",
    "device = torch.device('cuda:0' if USE_CUDA else 'cpu')\n",
    "\n",
    "print('CUDA 사용 가능 여부 :', USE_CUDA)\n",
    "print('현재 사용 device :', device)\n",
    "print('CUDA Index :', torch.cuda.current_device())\n",
    "print('GPU 이름 :', torch.cuda.get_device_name())\n",
    "print('GPU 개수 :', torch.cuda.device_count())"
   ]
  },
  {
   "cell_type": "markdown",
   "metadata": {},
   "source": [
    "# pdf를 전부 고화질 jpg로 변경"
   ]
  },
  {
   "cell_type": "code",
   "execution_count": 10,
   "metadata": {},
   "outputs": [
    {
     "name": "stdout",
     "output_type": "stream",
     "text": [
      "True\n"
     ]
    }
   ],
   "source": [
    "import os\n",
    "print(os.path.exists(pdf_path))  # True면 파일이 존재, False면 없음"
   ]
  },
  {
   "cell_type": "code",
   "execution_count": 9,
   "metadata": {},
   "outputs": [
    {
     "ename": "PDFInfoNotInstalledError",
     "evalue": "Unable to get page count. Is poppler installed and in PATH?",
     "output_type": "error",
     "traceback": [
      "\u001b[1;31m---------------------------------------------------------------------------\u001b[0m",
      "\u001b[1;31mFileNotFoundError\u001b[0m                         Traceback (most recent call last)",
      "File \u001b[1;32mc:\\Users\\SSAFY\\Desktop\\개인폴더\\Dan-C\\venv\\lib\\site-packages\\pdf2image\\pdf2image.py:581\u001b[0m, in \u001b[0;36mpdfinfo_from_path\u001b[1;34m(pdf_path, userpw, ownerpw, poppler_path, rawdates, timeout, first_page, last_page)\u001b[0m\n\u001b[0;32m    580\u001b[0m     env[\u001b[38;5;124m\"\u001b[39m\u001b[38;5;124mLD_LIBRARY_PATH\u001b[39m\u001b[38;5;124m\"\u001b[39m] \u001b[38;5;241m=\u001b[39m poppler_path \u001b[38;5;241m+\u001b[39m \u001b[38;5;124m\"\u001b[39m\u001b[38;5;124m:\u001b[39m\u001b[38;5;124m\"\u001b[39m \u001b[38;5;241m+\u001b[39m env\u001b[38;5;241m.\u001b[39mget(\u001b[38;5;124m\"\u001b[39m\u001b[38;5;124mLD_LIBRARY_PATH\u001b[39m\u001b[38;5;124m\"\u001b[39m, \u001b[38;5;124m\"\u001b[39m\u001b[38;5;124m\"\u001b[39m)\n\u001b[1;32m--> 581\u001b[0m proc \u001b[38;5;241m=\u001b[39m \u001b[43mPopen\u001b[49m\u001b[43m(\u001b[49m\u001b[43mcommand\u001b[49m\u001b[43m,\u001b[49m\u001b[43m \u001b[49m\u001b[43menv\u001b[49m\u001b[38;5;241;43m=\u001b[39;49m\u001b[43menv\u001b[49m\u001b[43m,\u001b[49m\u001b[43m \u001b[49m\u001b[43mstdout\u001b[49m\u001b[38;5;241;43m=\u001b[39;49m\u001b[43mPIPE\u001b[49m\u001b[43m,\u001b[49m\u001b[43m \u001b[49m\u001b[43mstderr\u001b[49m\u001b[38;5;241;43m=\u001b[39;49m\u001b[43mPIPE\u001b[49m\u001b[43m)\u001b[49m\n\u001b[0;32m    583\u001b[0m \u001b[38;5;28;01mtry\u001b[39;00m:\n",
      "File \u001b[1;32m~\\AppData\\Local\\Programs\\Python\\Python39\\lib\\subprocess.py:951\u001b[0m, in \u001b[0;36mPopen.__init__\u001b[1;34m(self, args, bufsize, executable, stdin, stdout, stderr, preexec_fn, close_fds, shell, cwd, env, universal_newlines, startupinfo, creationflags, restore_signals, start_new_session, pass_fds, user, group, extra_groups, encoding, errors, text, umask)\u001b[0m\n\u001b[0;32m    948\u001b[0m             \u001b[38;5;28mself\u001b[39m\u001b[38;5;241m.\u001b[39mstderr \u001b[38;5;241m=\u001b[39m io\u001b[38;5;241m.\u001b[39mTextIOWrapper(\u001b[38;5;28mself\u001b[39m\u001b[38;5;241m.\u001b[39mstderr,\n\u001b[0;32m    949\u001b[0m                     encoding\u001b[38;5;241m=\u001b[39mencoding, errors\u001b[38;5;241m=\u001b[39merrors)\n\u001b[1;32m--> 951\u001b[0m     \u001b[38;5;28;43mself\u001b[39;49m\u001b[38;5;241;43m.\u001b[39;49m\u001b[43m_execute_child\u001b[49m\u001b[43m(\u001b[49m\u001b[43margs\u001b[49m\u001b[43m,\u001b[49m\u001b[43m \u001b[49m\u001b[43mexecutable\u001b[49m\u001b[43m,\u001b[49m\u001b[43m \u001b[49m\u001b[43mpreexec_fn\u001b[49m\u001b[43m,\u001b[49m\u001b[43m \u001b[49m\u001b[43mclose_fds\u001b[49m\u001b[43m,\u001b[49m\n\u001b[0;32m    952\u001b[0m \u001b[43m                        \u001b[49m\u001b[43mpass_fds\u001b[49m\u001b[43m,\u001b[49m\u001b[43m \u001b[49m\u001b[43mcwd\u001b[49m\u001b[43m,\u001b[49m\u001b[43m \u001b[49m\u001b[43menv\u001b[49m\u001b[43m,\u001b[49m\n\u001b[0;32m    953\u001b[0m \u001b[43m                        \u001b[49m\u001b[43mstartupinfo\u001b[49m\u001b[43m,\u001b[49m\u001b[43m \u001b[49m\u001b[43mcreationflags\u001b[49m\u001b[43m,\u001b[49m\u001b[43m \u001b[49m\u001b[43mshell\u001b[49m\u001b[43m,\u001b[49m\n\u001b[0;32m    954\u001b[0m \u001b[43m                        \u001b[49m\u001b[43mp2cread\u001b[49m\u001b[43m,\u001b[49m\u001b[43m \u001b[49m\u001b[43mp2cwrite\u001b[49m\u001b[43m,\u001b[49m\n\u001b[0;32m    955\u001b[0m \u001b[43m                        \u001b[49m\u001b[43mc2pread\u001b[49m\u001b[43m,\u001b[49m\u001b[43m \u001b[49m\u001b[43mc2pwrite\u001b[49m\u001b[43m,\u001b[49m\n\u001b[0;32m    956\u001b[0m \u001b[43m                        \u001b[49m\u001b[43merrread\u001b[49m\u001b[43m,\u001b[49m\u001b[43m \u001b[49m\u001b[43merrwrite\u001b[49m\u001b[43m,\u001b[49m\n\u001b[0;32m    957\u001b[0m \u001b[43m                        \u001b[49m\u001b[43mrestore_signals\u001b[49m\u001b[43m,\u001b[49m\n\u001b[0;32m    958\u001b[0m \u001b[43m                        \u001b[49m\u001b[43mgid\u001b[49m\u001b[43m,\u001b[49m\u001b[43m \u001b[49m\u001b[43mgids\u001b[49m\u001b[43m,\u001b[49m\u001b[43m \u001b[49m\u001b[43muid\u001b[49m\u001b[43m,\u001b[49m\u001b[43m \u001b[49m\u001b[43mumask\u001b[49m\u001b[43m,\u001b[49m\n\u001b[0;32m    959\u001b[0m \u001b[43m                        \u001b[49m\u001b[43mstart_new_session\u001b[49m\u001b[43m)\u001b[49m\n\u001b[0;32m    960\u001b[0m \u001b[38;5;28;01mexcept\u001b[39;00m:\n\u001b[0;32m    961\u001b[0m     \u001b[38;5;66;03m# Cleanup if the child failed starting.\u001b[39;00m\n",
      "File \u001b[1;32m~\\AppData\\Local\\Programs\\Python\\Python39\\lib\\subprocess.py:1420\u001b[0m, in \u001b[0;36mPopen._execute_child\u001b[1;34m(self, args, executable, preexec_fn, close_fds, pass_fds, cwd, env, startupinfo, creationflags, shell, p2cread, p2cwrite, c2pread, c2pwrite, errread, errwrite, unused_restore_signals, unused_gid, unused_gids, unused_uid, unused_umask, unused_start_new_session)\u001b[0m\n\u001b[0;32m   1419\u001b[0m \u001b[38;5;28;01mtry\u001b[39;00m:\n\u001b[1;32m-> 1420\u001b[0m     hp, ht, pid, tid \u001b[38;5;241m=\u001b[39m \u001b[43m_winapi\u001b[49m\u001b[38;5;241;43m.\u001b[39;49m\u001b[43mCreateProcess\u001b[49m\u001b[43m(\u001b[49m\u001b[43mexecutable\u001b[49m\u001b[43m,\u001b[49m\u001b[43m \u001b[49m\u001b[43margs\u001b[49m\u001b[43m,\u001b[49m\n\u001b[0;32m   1421\u001b[0m \u001b[43m                             \u001b[49m\u001b[38;5;66;43;03m# no special security\u001b[39;49;00m\n\u001b[0;32m   1422\u001b[0m \u001b[43m                             \u001b[49m\u001b[38;5;28;43;01mNone\u001b[39;49;00m\u001b[43m,\u001b[49m\u001b[43m \u001b[49m\u001b[38;5;28;43;01mNone\u001b[39;49;00m\u001b[43m,\u001b[49m\n\u001b[0;32m   1423\u001b[0m \u001b[43m                             \u001b[49m\u001b[38;5;28;43mint\u001b[39;49m\u001b[43m(\u001b[49m\u001b[38;5;129;43;01mnot\u001b[39;49;00m\u001b[43m \u001b[49m\u001b[43mclose_fds\u001b[49m\u001b[43m)\u001b[49m\u001b[43m,\u001b[49m\n\u001b[0;32m   1424\u001b[0m \u001b[43m                             \u001b[49m\u001b[43mcreationflags\u001b[49m\u001b[43m,\u001b[49m\n\u001b[0;32m   1425\u001b[0m \u001b[43m                             \u001b[49m\u001b[43menv\u001b[49m\u001b[43m,\u001b[49m\n\u001b[0;32m   1426\u001b[0m \u001b[43m                             \u001b[49m\u001b[43mcwd\u001b[49m\u001b[43m,\u001b[49m\n\u001b[0;32m   1427\u001b[0m \u001b[43m                             \u001b[49m\u001b[43mstartupinfo\u001b[49m\u001b[43m)\u001b[49m\n\u001b[0;32m   1428\u001b[0m \u001b[38;5;28;01mfinally\u001b[39;00m:\n\u001b[0;32m   1429\u001b[0m     \u001b[38;5;66;03m# Child is launched. Close the parent's copy of those pipe\u001b[39;00m\n\u001b[0;32m   1430\u001b[0m     \u001b[38;5;66;03m# handles that only the child should have open.  You need\u001b[39;00m\n\u001b[1;32m   (...)\u001b[0m\n\u001b[0;32m   1433\u001b[0m     \u001b[38;5;66;03m# pipe will not close when the child process exits and the\u001b[39;00m\n\u001b[0;32m   1434\u001b[0m     \u001b[38;5;66;03m# ReadFile will hang.\u001b[39;00m\n",
      "\u001b[1;31mFileNotFoundError\u001b[0m: [WinError 2] 지정된 파일을 찾을 수 없습니다",
      "\nDuring handling of the above exception, another exception occurred:\n",
      "\u001b[1;31mPDFInfoNotInstalledError\u001b[0m                  Traceback (most recent call last)",
      "Cell \u001b[1;32mIn[9], line 14\u001b[0m\n\u001b[0;32m     10\u001b[0m os\u001b[38;5;241m.\u001b[39mmakedirs(output_dir, exist_ok\u001b[38;5;241m=\u001b[39m\u001b[38;5;28;01mTrue\u001b[39;00m)\n\u001b[0;32m     12\u001b[0m \u001b[38;5;66;03m# PDF 파일의 모든 페이지를 고해상도로 변환\u001b[39;00m\n\u001b[0;32m     13\u001b[0m \u001b[38;5;66;03m# dpi를 높이면 화질이 개선됩니다. 일반적으로 300 ~ 600dpi가 고해상도 출력에 적합합니다.\u001b[39;00m\n\u001b[1;32m---> 14\u001b[0m images \u001b[38;5;241m=\u001b[39m \u001b[43mconvert_from_path\u001b[49m\u001b[43m(\u001b[49m\u001b[43mpdf_path\u001b[49m\u001b[43m,\u001b[49m\u001b[43m \u001b[49m\u001b[43mdpi\u001b[49m\u001b[38;5;241;43m=\u001b[39;49m\u001b[38;5;241;43m600\u001b[39;49m\u001b[43m)\u001b[49m\n\u001b[0;32m     16\u001b[0m \u001b[38;5;66;03m# 변환된 이미지들을 JPG로 저장\u001b[39;00m\n\u001b[0;32m     17\u001b[0m \u001b[38;5;28;01mfor\u001b[39;00m i, image \u001b[38;5;129;01min\u001b[39;00m \u001b[38;5;28menumerate\u001b[39m(images):\n",
      "File \u001b[1;32mc:\\Users\\SSAFY\\Desktop\\개인폴더\\Dan-C\\venv\\lib\\site-packages\\pdf2image\\pdf2image.py:127\u001b[0m, in \u001b[0;36mconvert_from_path\u001b[1;34m(pdf_path, dpi, output_folder, first_page, last_page, fmt, jpegopt, thread_count, userpw, ownerpw, use_cropbox, strict, transparent, single_file, output_file, poppler_path, grayscale, size, paths_only, use_pdftocairo, timeout, hide_annotations)\u001b[0m\n\u001b[0;32m    124\u001b[0m \u001b[38;5;28;01mif\u001b[39;00m \u001b[38;5;28misinstance\u001b[39m(poppler_path, PurePath):\n\u001b[0;32m    125\u001b[0m     poppler_path \u001b[38;5;241m=\u001b[39m poppler_path\u001b[38;5;241m.\u001b[39mas_posix()\n\u001b[1;32m--> 127\u001b[0m page_count \u001b[38;5;241m=\u001b[39m \u001b[43mpdfinfo_from_path\u001b[49m\u001b[43m(\u001b[49m\n\u001b[0;32m    128\u001b[0m \u001b[43m    \u001b[49m\u001b[43mpdf_path\u001b[49m\u001b[43m,\u001b[49m\u001b[43m \u001b[49m\u001b[43muserpw\u001b[49m\u001b[43m,\u001b[49m\u001b[43m \u001b[49m\u001b[43mownerpw\u001b[49m\u001b[43m,\u001b[49m\u001b[43m \u001b[49m\u001b[43mpoppler_path\u001b[49m\u001b[38;5;241;43m=\u001b[39;49m\u001b[43mpoppler_path\u001b[49m\n\u001b[0;32m    129\u001b[0m \u001b[43m\u001b[49m\u001b[43m)\u001b[49m[\u001b[38;5;124m\"\u001b[39m\u001b[38;5;124mPages\u001b[39m\u001b[38;5;124m\"\u001b[39m]\n\u001b[0;32m    131\u001b[0m \u001b[38;5;66;03m# We start by getting the output format, the buffer processing function and if we need pdftocairo\u001b[39;00m\n\u001b[0;32m    132\u001b[0m parsed_fmt, final_extension, parse_buffer_func, use_pdfcairo_format \u001b[38;5;241m=\u001b[39m _parse_format(\n\u001b[0;32m    133\u001b[0m     fmt, grayscale\n\u001b[0;32m    134\u001b[0m )\n",
      "File \u001b[1;32mc:\\Users\\SSAFY\\Desktop\\개인폴더\\Dan-C\\venv\\lib\\site-packages\\pdf2image\\pdf2image.py:607\u001b[0m, in \u001b[0;36mpdfinfo_from_path\u001b[1;34m(pdf_path, userpw, ownerpw, poppler_path, rawdates, timeout, first_page, last_page)\u001b[0m\n\u001b[0;32m    604\u001b[0m     \u001b[38;5;28;01mreturn\u001b[39;00m d\n\u001b[0;32m    606\u001b[0m \u001b[38;5;28;01mexcept\u001b[39;00m \u001b[38;5;167;01mOSError\u001b[39;00m:\n\u001b[1;32m--> 607\u001b[0m     \u001b[38;5;28;01mraise\u001b[39;00m PDFInfoNotInstalledError(\n\u001b[0;32m    608\u001b[0m         \u001b[38;5;124m\"\u001b[39m\u001b[38;5;124mUnable to get page count. Is poppler installed and in PATH?\u001b[39m\u001b[38;5;124m\"\u001b[39m\n\u001b[0;32m    609\u001b[0m     )\n\u001b[0;32m    610\u001b[0m \u001b[38;5;28;01mexcept\u001b[39;00m \u001b[38;5;167;01mValueError\u001b[39;00m:\n\u001b[0;32m    611\u001b[0m     \u001b[38;5;28;01mraise\u001b[39;00m PDFPageCountError(\n\u001b[0;32m    612\u001b[0m         \u001b[38;5;124mf\u001b[39m\u001b[38;5;124m\"\u001b[39m\u001b[38;5;124mUnable to get page count.\u001b[39m\u001b[38;5;130;01m\\n\u001b[39;00m\u001b[38;5;132;01m{\u001b[39;00merr\u001b[38;5;241m.\u001b[39mdecode(\u001b[38;5;124m'\u001b[39m\u001b[38;5;124mutf8\u001b[39m\u001b[38;5;124m'\u001b[39m,\u001b[38;5;250m \u001b[39m\u001b[38;5;124m'\u001b[39m\u001b[38;5;124mignore\u001b[39m\u001b[38;5;124m'\u001b[39m)\u001b[38;5;132;01m}\u001b[39;00m\u001b[38;5;124m\"\u001b[39m\n\u001b[0;32m    613\u001b[0m     )\n",
      "\u001b[1;31mPDFInfoNotInstalledError\u001b[0m: Unable to get page count. Is poppler installed and in PATH?"
     ]
    }
   ],
   "source": [
    "# example.pdf 이미지로 변환\n",
    "from pdf2image import convert_from_path\n",
    "import os\n",
    "\n",
    "# PDF 파일 경로\n",
    "pdf_path = 'C:/Users/SSAFY/Desktop/개인폴더/Dan-C/example.pdf'\n",
    "\n",
    "# 출력 디렉토리 (JPG 파일을 저장할 경로)\n",
    "output_dir = 'output1/'\n",
    "os.makedirs(output_dir, exist_ok=True)\n",
    "\n",
    "# PDF 파일의 모든 페이지를 고해상도로 변환\n",
    "# dpi를 높이면 화질이 개선됩니다. 일반적으로 300 ~ 600dpi가 고해상도 출력에 적합합니다.\n",
    "images = convert_from_path(pdf_path, dpi=600)\n",
    "\n",
    "# 변환된 이미지들을 JPG로 저장\n",
    "for i, image in enumerate(images):\n",
    "    output_image_path = os.path.join(output_dir, f'page_{i+1}.jpg')\n",
    "    \n",
    "    # 이미지의 화질을 유지하며 저장 (JPEG 품질 95 설정)\n",
    "    image.save(output_image_path, 'JPEG', quality=95)\n",
    "    print(f'Saved: {output_image_path}')\n",
    "\n",
    "print(\"모든 페이지가 성공적으로 JPG로 변환되었습니다.\")"
   ]
  },
  {
   "cell_type": "code",
   "execution_count": null,
   "metadata": {},
   "outputs": [],
   "source": [
    "# example2.pdf 이미지로 변환\n",
    "from pdf2image import convert_from_path\n",
    "import os\n",
    "\n",
    "# PDF 파일 경로\n",
    "pdf_path = 'example2.pdf'\n",
    "\n",
    "# 출력 디렉토리 (JPG 파일을 저장할 경로)\n",
    "output_dir = 'output2/'\n",
    "os.makedirs(output_dir, exist_ok=True)\n",
    "\n",
    "# PDF 파일의 모든 페이지를 고해상도로 변환\n",
    "# dpi를 높이면 화질이 개선됩니다. 일반적으로 300 ~ 600dpi가 고해상도 출력에 적합합니다.\n",
    "images = convert_from_path(pdf_path, dpi=600)\n",
    "\n",
    "# 변환된 이미지들을 JPG로 저장\n",
    "for i, image in enumerate(images):\n",
    "    output_image_path = os.path.join(output_dir, f'page_{i+1}.jpg')\n",
    "    \n",
    "    # 이미지의 화질을 유지하며 저장 (JPEG 품질 95 설정)\n",
    "    image.save(output_image_path, 'JPEG', quality=95)\n",
    "    print(f'Saved: {output_image_path}')\n",
    "\n",
    "print(\"모든 페이지가 성공적으로 JPG로 변환되었습니다.\")"
   ]
  },
  {
   "cell_type": "markdown",
   "metadata": {},
   "source": [
    "# Roboflow로 데이터셋 생성"
   ]
  },
  {
   "cell_type": "markdown",
   "metadata": {},
   "source": [
    "# YOLO v8로 학습 및 테스트"
   ]
  },
  {
   "cell_type": "code",
   "execution_count": null,
   "metadata": {},
   "outputs": [],
   "source": [
    "# GPU 사용 가능 여부 확인\n",
    "import torch\n",
    "print(torch.cuda.is_available())  # True가 출력되면 GPU 사용 가능"
   ]
  },
  {
   "cell_type": "code",
   "execution_count": 1,
   "metadata": {},
   "outputs": [],
   "source": [
    "# 모델 학습\n",
    "from ultralytics import YOLO\n",
    "\n",
    "model = YOLO('yolov8m.pt')"
   ]
  },
  {
   "cell_type": "code",
   "execution_count": 2,
   "metadata": {},
   "outputs": [
    {
     "name": "stdout",
     "output_type": "stream",
     "text": [
      "YOLOv8m summary: 169 layers, 25,902,640 parameters, 0 gradients, 79.3 GFLOPs\n"
     ]
    },
    {
     "data": {
      "text/plain": [
       "(169, 25902640, 0, 79.3204224)"
      ]
     },
     "execution_count": 2,
     "metadata": {},
     "output_type": "execute_result"
    }
   ],
   "source": [
    "model.info()"
   ]
  },
  {
   "cell_type": "code",
   "execution_count": 3,
   "metadata": {},
   "outputs": [
    {
     "name": "stdout",
     "output_type": "stream",
     "text": [
      "Ultralytics 8.3.87  Python-3.9.13 torch-2.6.0+cpu CPU (Intel Core(TM) i7-14700)\n",
      "\u001b[34m\u001b[1mengine\\trainer: \u001b[0mtask=detect, mode=train, model=yolov8m.pt, data=dataset/data.yaml, epochs=20, time=None, patience=100, batch=16, imgsz=640, save=True, save_period=-1, cache=False, device=None, workers=8, project=None, name=train11, exist_ok=False, pretrained=True, optimizer=auto, verbose=True, seed=0, deterministic=True, single_cls=False, rect=False, cos_lr=False, close_mosaic=10, resume=False, amp=True, fraction=1.0, profile=False, freeze=None, multi_scale=False, overlap_mask=True, mask_ratio=4, dropout=0.0, val=True, split=val, save_json=False, save_hybrid=False, conf=None, iou=0.7, max_det=300, half=False, dnn=False, plots=True, source=None, vid_stride=1, stream_buffer=False, visualize=False, augment=False, agnostic_nms=False, classes=None, retina_masks=False, embed=None, show=False, save_frames=False, save_txt=False, save_conf=False, save_crop=False, show_labels=True, show_conf=True, show_boxes=True, line_width=None, format=torchscript, keras=False, optimize=False, int8=False, dynamic=False, simplify=True, opset=None, workspace=None, nms=False, lr0=0.01, lrf=0.01, momentum=0.937, weight_decay=0.0005, warmup_epochs=3.0, warmup_momentum=0.8, warmup_bias_lr=0.1, box=7.5, cls=0.5, dfl=1.5, pose=12.0, kobj=1.0, nbs=64, hsv_h=0.015, hsv_s=0.7, hsv_v=0.4, degrees=0.0, translate=0.1, scale=0.5, shear=0.0, perspective=0.0, flipud=0.0, fliplr=0.5, bgr=0.0, mosaic=1.0, mixup=0.0, copy_paste=0.0, copy_paste_mode=flip, auto_augment=randaugment, erasing=0.4, crop_fraction=1.0, cfg=None, tracker=botsort.yaml, save_dir=c:\\Users\\SSAFY\\Desktop\\\\Dan-C\\runs\\detect\\train11\n",
      "Downloading https://ultralytics.com/assets/Arial.ttf to 'C:\\Users\\SSAFY\\AppData\\Roaming\\Ultralytics\\Arial.ttf'...\n"
     ]
    },
    {
     "name": "stderr",
     "output_type": "stream",
     "text": [
      "100%|██████████| 755k/755k [00:00<00:00, 61.3MB/s]"
     ]
    },
    {
     "name": "stdout",
     "output_type": "stream",
     "text": [
      "Overriding model.yaml nc=80 with nc=1\n",
      "\n",
      "                   from  n    params  module                                       arguments                     \n",
      "  0                  -1  1      1392  ultralytics.nn.modules.conv.Conv             [3, 48, 3, 2]                 \n",
      "  1                  -1  1     41664  ultralytics.nn.modules.conv.Conv             [48, 96, 3, 2]                \n",
      "  2                  -1  2    111360  ultralytics.nn.modules.block.C2f             [96, 96, 2, True]             \n",
      "  3                  -1  1    166272  ultralytics.nn.modules.conv.Conv             [96, 192, 3, 2]               \n",
      "  4                  -1  4    813312  ultralytics.nn.modules.block.C2f             [192, 192, 4, True]           \n",
      "  5                  -1  1    664320  ultralytics.nn.modules.conv.Conv             [192, 384, 3, 2]              \n",
      "  6                  -1  4   3248640  ultralytics.nn.modules.block.C2f             [384, 384, 4, True]           \n",
      "  7                  -1  1   1991808  ultralytics.nn.modules.conv.Conv             [384, 576, 3, 2]              \n",
      "  8                  -1  2   3985920  ultralytics.nn.modules.block.C2f             [576, 576, 2, True]           \n",
      "  9                  -1  1    831168  ultralytics.nn.modules.block.SPPF            [576, 576, 5]                 \n",
      " 10                  -1  1         0  torch.nn.modules.upsampling.Upsample         [None, 2, 'nearest']          \n",
      " 11             [-1, 6]  1         0  ultralytics.nn.modules.conv.Concat           [1]                           \n",
      " 12                  -1  2   1993728  ultralytics.nn.modules.block.C2f             [960, 384, 2]                 \n",
      " 13                  -1  1         0  torch.nn.modules.upsampling.Upsample         [None, 2, 'nearest']          \n",
      " 14             [-1, 4]  1         0  ultralytics.nn.modules.conv.Concat           [1]                           \n",
      " 15                  -1  2    517632  ultralytics.nn.modules.block.C2f             [576, 192, 2]                 \n",
      " 16                  -1  1    332160  ultralytics.nn.modules.conv.Conv             [192, 192, 3, 2]              \n",
      " 17            [-1, 12]  1         0  ultralytics.nn.modules.conv.Concat           [1]                           \n",
      " 18                  -1  2   1846272  ultralytics.nn.modules.block.C2f             [576, 384, 2]                 \n",
      " 19                  -1  1   1327872  ultralytics.nn.modules.conv.Conv             [384, 384, 3, 2]              \n",
      " 20             [-1, 9]  1         0  ultralytics.nn.modules.conv.Concat           [1]                           \n",
      " 21                  -1  2   4207104  ultralytics.nn.modules.block.C2f             [960, 576, 2]                 \n",
      " 22        [15, 18, 21]  1   3776275  ultralytics.nn.modules.head.Detect           [1, [192, 384, 576]]          \n"
     ]
    },
    {
     "name": "stderr",
     "output_type": "stream",
     "text": [
      "\n"
     ]
    },
    {
     "name": "stdout",
     "output_type": "stream",
     "text": [
      "Model summary: 169 layers, 25,856,899 parameters, 25,856,883 gradients, 79.1 GFLOPs\n",
      "\n",
      "Transferred 469/475 items from pretrained weights\n",
      "Freezing layer 'model.22.dfl.conv.weight'\n"
     ]
    },
    {
     "name": "stderr",
     "output_type": "stream",
     "text": [
      "\u001b[34m\u001b[1mtrain: \u001b[0mScanning C:\\Users\\SSAFY\\Desktop\\개인폴더\\Dan-C\\dataset\\train\\labels... 47 images, 0 backgrounds, 0 corrupt: 100%|██████████| 47/47 [00:00<00:00, 1911.10it/s]"
     ]
    },
    {
     "name": "stdout",
     "output_type": "stream",
     "text": [
      "\u001b[34m\u001b[1mtrain: \u001b[0mNew cache created: C:\\Users\\SSAFY\\Desktop\\\\Dan-C\\dataset\\train\\labels.cache\n"
     ]
    },
    {
     "name": "stderr",
     "output_type": "stream",
     "text": [
      "\n",
      "\u001b[34m\u001b[1mval: \u001b[0mScanning C:\\Users\\SSAFY\\Desktop\\개인폴더\\Dan-C\\dataset\\valid\\labels... 13 images, 0 backgrounds, 0 corrupt: 100%|██████████| 13/13 [00:00<?, ?it/s]"
     ]
    },
    {
     "name": "stdout",
     "output_type": "stream",
     "text": [
      "\u001b[34m\u001b[1mval: \u001b[0mNew cache created: C:\\Users\\SSAFY\\Desktop\\\\Dan-C\\dataset\\valid\\labels.cache\n"
     ]
    },
    {
     "name": "stderr",
     "output_type": "stream",
     "text": [
      "\n"
     ]
    },
    {
     "name": "stdout",
     "output_type": "stream",
     "text": [
      "Plotting labels to c:\\Users\\SSAFY\\Desktop\\\\Dan-C\\runs\\detect\\train11\\labels.jpg... \n",
      "\u001b[34m\u001b[1moptimizer:\u001b[0m 'optimizer=auto' found, ignoring 'lr0=0.01' and 'momentum=0.937' and determining best 'optimizer', 'lr0' and 'momentum' automatically... \n",
      "\u001b[34m\u001b[1moptimizer:\u001b[0m AdamW(lr=0.002, momentum=0.9) with parameter groups 77 weight(decay=0.0), 84 weight(decay=0.0005), 83 bias(decay=0.0)\n",
      "Image sizes 640 train, 640 val\n",
      "Using 0 dataloader workers\n",
      "Logging results to \u001b[1mc:\\Users\\SSAFY\\Desktop\\\\Dan-C\\runs\\detect\\train11\u001b[0m\n",
      "Starting training for 20 epochs...\n",
      "\n",
      "      Epoch    GPU_mem   box_loss   cls_loss   dfl_loss  Instances       Size\n"
     ]
    },
    {
     "name": "stderr",
     "output_type": "stream",
     "text": [
      "       1/20         0G      1.646      2.746      1.614        142        640: 100%|██████████| 3/3 [00:29<00:00,  9.73s/it]\n",
      "                 Class     Images  Instances      Box(P          R      mAP50  mAP50-95): 100%|██████████| 1/1 [00:02<00:00,  2.82s/it]"
     ]
    },
    {
     "name": "stdout",
     "output_type": "stream",
     "text": [
      "                   all         13         70      0.284      0.329      0.246      0.131\n"
     ]
    },
    {
     "name": "stderr",
     "output_type": "stream",
     "text": [
      "\n"
     ]
    },
    {
     "name": "stdout",
     "output_type": "stream",
     "text": [
      "\n",
      "      Epoch    GPU_mem   box_loss   cls_loss   dfl_loss  Instances       Size\n"
     ]
    },
    {
     "name": "stderr",
     "output_type": "stream",
     "text": [
      "       2/20         0G      1.033      1.452      1.239        143        640: 100%|██████████| 3/3 [00:26<00:00,  8.70s/it]\n",
      "                 Class     Images  Instances      Box(P          R      mAP50  mAP50-95): 100%|██████████| 1/1 [00:02<00:00,  2.68s/it]"
     ]
    },
    {
     "name": "stdout",
     "output_type": "stream",
     "text": [
      "                   all         13         70      0.617      0.599      0.652      0.541\n"
     ]
    },
    {
     "name": "stderr",
     "output_type": "stream",
     "text": [
      "\n"
     ]
    },
    {
     "name": "stdout",
     "output_type": "stream",
     "text": [
      "\n",
      "      Epoch    GPU_mem   box_loss   cls_loss   dfl_loss  Instances       Size\n"
     ]
    },
    {
     "name": "stderr",
     "output_type": "stream",
     "text": [
      "       3/20         0G     0.7223      0.899      1.024        189        640: 100%|██████████| 3/3 [00:33<00:00, 11.02s/it]\n",
      "                 Class     Images  Instances      Box(P          R      mAP50  mAP50-95): 100%|██████████| 1/1 [00:03<00:00,  3.36s/it]"
     ]
    },
    {
     "name": "stdout",
     "output_type": "stream",
     "text": [
      "                   all         13         70      0.789      0.871      0.938      0.835\n"
     ]
    },
    {
     "name": "stderr",
     "output_type": "stream",
     "text": [
      "\n"
     ]
    },
    {
     "name": "stdout",
     "output_type": "stream",
     "text": [
      "\n",
      "      Epoch    GPU_mem   box_loss   cls_loss   dfl_loss  Instances       Size\n"
     ]
    },
    {
     "name": "stderr",
     "output_type": "stream",
     "text": [
      "       4/20         0G     0.6808     0.7069     0.9622        181        640: 100%|██████████| 3/3 [00:25<00:00,  8.60s/it]\n",
      "                 Class     Images  Instances      Box(P          R      mAP50  mAP50-95): 100%|██████████| 1/1 [00:02<00:00,  2.71s/it]"
     ]
    },
    {
     "name": "stdout",
     "output_type": "stream",
     "text": [
      "                   all         13         70      0.771      0.957      0.954      0.868\n"
     ]
    },
    {
     "name": "stderr",
     "output_type": "stream",
     "text": [
      "\n"
     ]
    },
    {
     "name": "stdout",
     "output_type": "stream",
     "text": [
      "\n",
      "      Epoch    GPU_mem   box_loss   cls_loss   dfl_loss  Instances       Size\n"
     ]
    },
    {
     "name": "stderr",
     "output_type": "stream",
     "text": [
      "       5/20         0G     0.6677     0.5616     0.9428        193        640: 100%|██████████| 3/3 [00:26<00:00,  8.68s/it]\n",
      "                 Class     Images  Instances      Box(P          R      mAP50  mAP50-95): 100%|██████████| 1/1 [00:02<00:00,  2.74s/it]"
     ]
    },
    {
     "name": "stdout",
     "output_type": "stream",
     "text": [
      "                   all         13         70       0.97      0.957      0.993      0.868\n"
     ]
    },
    {
     "name": "stderr",
     "output_type": "stream",
     "text": [
      "\n"
     ]
    },
    {
     "name": "stdout",
     "output_type": "stream",
     "text": [
      "\n",
      "      Epoch    GPU_mem   box_loss   cls_loss   dfl_loss  Instances       Size\n"
     ]
    },
    {
     "name": "stderr",
     "output_type": "stream",
     "text": [
      "       6/20         0G     0.5948     0.4926     0.9137        195        640: 100%|██████████| 3/3 [00:26<00:00,  8.71s/it]\n",
      "                 Class     Images  Instances      Box(P          R      mAP50  mAP50-95): 100%|██████████| 1/1 [00:02<00:00,  2.61s/it]"
     ]
    },
    {
     "name": "stdout",
     "output_type": "stream",
     "text": [
      "                   all         13         70      0.954          1      0.991      0.911\n"
     ]
    },
    {
     "name": "stderr",
     "output_type": "stream",
     "text": [
      "\n"
     ]
    },
    {
     "name": "stdout",
     "output_type": "stream",
     "text": [
      "\n",
      "      Epoch    GPU_mem   box_loss   cls_loss   dfl_loss  Instances       Size\n"
     ]
    },
    {
     "name": "stderr",
     "output_type": "stream",
     "text": [
      "       7/20         0G     0.6204     0.5775     0.9591        155        640: 100%|██████████| 3/3 [00:26<00:00,  8.72s/it]\n",
      "                 Class     Images  Instances      Box(P          R      mAP50  mAP50-95): 100%|██████████| 1/1 [00:02<00:00,  2.76s/it]"
     ]
    },
    {
     "name": "stdout",
     "output_type": "stream",
     "text": [
      "                   all         13         70      0.971          1      0.992      0.852\n"
     ]
    },
    {
     "name": "stderr",
     "output_type": "stream",
     "text": [
      "\n"
     ]
    },
    {
     "name": "stdout",
     "output_type": "stream",
     "text": [
      "\n",
      "      Epoch    GPU_mem   box_loss   cls_loss   dfl_loss  Instances       Size\n"
     ]
    },
    {
     "name": "stderr",
     "output_type": "stream",
     "text": [
      "       8/20         0G     0.5812     0.4696      0.949        165        640: 100%|██████████| 3/3 [00:26<00:00,  8.98s/it]\n",
      "                 Class     Images  Instances      Box(P          R      mAP50  mAP50-95): 100%|██████████| 1/1 [00:02<00:00,  2.78s/it]"
     ]
    },
    {
     "name": "stdout",
     "output_type": "stream",
     "text": [
      "                   all         13         70      0.903          1      0.993      0.826\n"
     ]
    },
    {
     "name": "stderr",
     "output_type": "stream",
     "text": [
      "\n"
     ]
    },
    {
     "name": "stdout",
     "output_type": "stream",
     "text": [
      "\n",
      "      Epoch    GPU_mem   box_loss   cls_loss   dfl_loss  Instances       Size\n"
     ]
    },
    {
     "name": "stderr",
     "output_type": "stream",
     "text": [
      "       9/20         0G     0.6136     0.4636      0.965        156        640: 100%|██████████| 3/3 [00:30<00:00, 10.24s/it]\n",
      "                 Class     Images  Instances      Box(P          R      mAP50  mAP50-95): 100%|██████████| 1/1 [00:03<00:00,  3.30s/it]"
     ]
    },
    {
     "name": "stdout",
     "output_type": "stream",
     "text": [
      "                   all         13         70       0.97          1      0.994      0.913\n"
     ]
    },
    {
     "name": "stderr",
     "output_type": "stream",
     "text": [
      "\n"
     ]
    },
    {
     "name": "stdout",
     "output_type": "stream",
     "text": [
      "\n",
      "      Epoch    GPU_mem   box_loss   cls_loss   dfl_loss  Instances       Size\n"
     ]
    },
    {
     "name": "stderr",
     "output_type": "stream",
     "text": [
      "      10/20         0G     0.5907     0.4499     0.9336        172        640: 100%|██████████| 3/3 [00:29<00:00,  9.72s/it]\n",
      "                 Class     Images  Instances      Box(P          R      mAP50  mAP50-95): 100%|██████████| 1/1 [00:03<00:00,  3.14s/it]"
     ]
    },
    {
     "name": "stdout",
     "output_type": "stream",
     "text": [
      "                   all         13         70      0.972      0.997      0.994      0.911\n"
     ]
    },
    {
     "name": "stderr",
     "output_type": "stream",
     "text": [
      "\n"
     ]
    },
    {
     "name": "stdout",
     "output_type": "stream",
     "text": [
      "Closing dataloader mosaic\n",
      "\n",
      "      Epoch    GPU_mem   box_loss   cls_loss   dfl_loss  Instances       Size\n"
     ]
    },
    {
     "name": "stderr",
     "output_type": "stream",
     "text": [
      "      11/20         0G       0.56     0.4874     0.9397         82        640: 100%|██████████| 3/3 [00:31<00:00, 10.51s/it]\n",
      "                 Class     Images  Instances      Box(P          R      mAP50  mAP50-95): 100%|██████████| 1/1 [00:03<00:00,  3.26s/it]"
     ]
    },
    {
     "name": "stdout",
     "output_type": "stream",
     "text": [
      "                   all         13         70       0.95      0.943      0.979      0.806\n"
     ]
    },
    {
     "name": "stderr",
     "output_type": "stream",
     "text": [
      "\n"
     ]
    },
    {
     "name": "stdout",
     "output_type": "stream",
     "text": [
      "\n",
      "      Epoch    GPU_mem   box_loss   cls_loss   dfl_loss  Instances       Size\n"
     ]
    },
    {
     "name": "stderr",
     "output_type": "stream",
     "text": [
      "      12/20         0G     0.5202     0.4158     0.8941         85        640: 100%|██████████| 3/3 [00:30<00:00, 10.05s/it]\n",
      "                 Class     Images  Instances      Box(P          R      mAP50  mAP50-95): 100%|██████████| 1/1 [00:02<00:00,  2.83s/it]"
     ]
    },
    {
     "name": "stdout",
     "output_type": "stream",
     "text": [
      "                   all         13         70      0.942      0.986      0.986      0.866\n"
     ]
    },
    {
     "name": "stderr",
     "output_type": "stream",
     "text": [
      "\n"
     ]
    },
    {
     "name": "stdout",
     "output_type": "stream",
     "text": [
      "\n",
      "      Epoch    GPU_mem   box_loss   cls_loss   dfl_loss  Instances       Size\n"
     ]
    },
    {
     "name": "stderr",
     "output_type": "stream",
     "text": [
      "      13/20         0G     0.4827     0.3704     0.8554         82        640: 100%|██████████| 3/3 [00:26<00:00,  8.98s/it]\n",
      "                 Class     Images  Instances      Box(P          R      mAP50  mAP50-95): 100%|██████████| 1/1 [00:02<00:00,  2.69s/it]"
     ]
    },
    {
     "name": "stdout",
     "output_type": "stream",
     "text": [
      "                   all         13         70      0.972      0.983       0.99      0.924\n"
     ]
    },
    {
     "name": "stderr",
     "output_type": "stream",
     "text": [
      "\n"
     ]
    },
    {
     "name": "stdout",
     "output_type": "stream",
     "text": [
      "\n",
      "      Epoch    GPU_mem   box_loss   cls_loss   dfl_loss  Instances       Size\n"
     ]
    },
    {
     "name": "stderr",
     "output_type": "stream",
     "text": [
      "      14/20         0G     0.5243      0.436     0.8834         87        640: 100%|██████████| 3/3 [00:26<00:00,  8.81s/it]\n",
      "                 Class     Images  Instances      Box(P          R      mAP50  mAP50-95): 100%|██████████| 1/1 [00:02<00:00,  2.98s/it]"
     ]
    },
    {
     "name": "stdout",
     "output_type": "stream",
     "text": [
      "                   all         13         70          1      0.986      0.994      0.927\n"
     ]
    },
    {
     "name": "stderr",
     "output_type": "stream",
     "text": [
      "\n"
     ]
    },
    {
     "name": "stdout",
     "output_type": "stream",
     "text": [
      "\n",
      "      Epoch    GPU_mem   box_loss   cls_loss   dfl_loss  Instances       Size\n"
     ]
    },
    {
     "name": "stderr",
     "output_type": "stream",
     "text": [
      "      15/20         0G     0.5037     0.3924     0.8941         98        640: 100%|██████████| 3/3 [00:26<00:00,  8.86s/it]\n",
      "                 Class     Images  Instances      Box(P          R      mAP50  mAP50-95): 100%|██████████| 1/1 [00:02<00:00,  2.76s/it]"
     ]
    },
    {
     "name": "stdout",
     "output_type": "stream",
     "text": [
      "                   all         13         70      0.981      0.986       0.99      0.938\n"
     ]
    },
    {
     "name": "stderr",
     "output_type": "stream",
     "text": [
      "\n"
     ]
    },
    {
     "name": "stdout",
     "output_type": "stream",
     "text": [
      "\n",
      "      Epoch    GPU_mem   box_loss   cls_loss   dfl_loss  Instances       Size\n"
     ]
    },
    {
     "name": "stderr",
     "output_type": "stream",
     "text": [
      "      16/20         0G     0.4839     0.3983     0.8873         85        640: 100%|██████████| 3/3 [00:30<00:00, 10.14s/it]\n",
      "                 Class     Images  Instances      Box(P          R      mAP50  mAP50-95): 100%|██████████| 1/1 [00:03<00:00,  3.10s/it]"
     ]
    },
    {
     "name": "stdout",
     "output_type": "stream",
     "text": [
      "                   all         13         70       0.98      0.986      0.988      0.935\n"
     ]
    },
    {
     "name": "stderr",
     "output_type": "stream",
     "text": [
      "\n"
     ]
    },
    {
     "name": "stdout",
     "output_type": "stream",
     "text": [
      "\n",
      "      Epoch    GPU_mem   box_loss   cls_loss   dfl_loss  Instances       Size\n"
     ]
    },
    {
     "name": "stderr",
     "output_type": "stream",
     "text": [
      "      17/20         0G     0.4443     0.3611     0.8794         85        640: 100%|██████████| 3/3 [00:29<00:00,  9.82s/it]\n",
      "                 Class     Images  Instances      Box(P          R      mAP50  mAP50-95): 100%|██████████| 1/1 [00:02<00:00,  2.99s/it]"
     ]
    },
    {
     "name": "stdout",
     "output_type": "stream",
     "text": [
      "                   all         13         70      0.984      0.986      0.994      0.919\n"
     ]
    },
    {
     "name": "stderr",
     "output_type": "stream",
     "text": [
      "\n"
     ]
    },
    {
     "name": "stdout",
     "output_type": "stream",
     "text": [
      "\n",
      "      Epoch    GPU_mem   box_loss   cls_loss   dfl_loss  Instances       Size\n"
     ]
    },
    {
     "name": "stderr",
     "output_type": "stream",
     "text": [
      "      18/20         0G     0.4802     0.3789     0.8836         82        640: 100%|██████████| 3/3 [00:28<00:00,  9.54s/it]\n",
      "                 Class     Images  Instances      Box(P          R      mAP50  mAP50-95): 100%|██████████| 1/1 [00:03<00:00,  3.14s/it]"
     ]
    },
    {
     "name": "stdout",
     "output_type": "stream",
     "text": [
      "                   all         13         70          1      0.999      0.995      0.917\n"
     ]
    },
    {
     "name": "stderr",
     "output_type": "stream",
     "text": [
      "\n"
     ]
    },
    {
     "name": "stdout",
     "output_type": "stream",
     "text": [
      "\n",
      "      Epoch    GPU_mem   box_loss   cls_loss   dfl_loss  Instances       Size\n"
     ]
    },
    {
     "name": "stderr",
     "output_type": "stream",
     "text": [
      "      19/20         0G       0.43     0.3715     0.8797         83        640: 100%|██████████| 3/3 [00:28<00:00,  9.56s/it]\n",
      "                 Class     Images  Instances      Box(P          R      mAP50  mAP50-95): 100%|██████████| 1/1 [00:03<00:00,  3.14s/it]"
     ]
    },
    {
     "name": "stdout",
     "output_type": "stream",
     "text": [
      "                   all         13         70          1          1      0.995      0.932\n"
     ]
    },
    {
     "name": "stderr",
     "output_type": "stream",
     "text": [
      "\n"
     ]
    },
    {
     "name": "stdout",
     "output_type": "stream",
     "text": [
      "\n",
      "      Epoch    GPU_mem   box_loss   cls_loss   dfl_loss  Instances       Size\n"
     ]
    },
    {
     "name": "stderr",
     "output_type": "stream",
     "text": [
      "      20/20         0G     0.4345     0.3571     0.8682         85        640: 100%|██████████| 3/3 [00:28<00:00,  9.52s/it]\n",
      "                 Class     Images  Instances      Box(P          R      mAP50  mAP50-95): 100%|██████████| 1/1 [00:03<00:00,  3.37s/it]"
     ]
    },
    {
     "name": "stdout",
     "output_type": "stream",
     "text": [
      "                   all         13         70      0.986          1      0.993      0.957\n"
     ]
    },
    {
     "name": "stderr",
     "output_type": "stream",
     "text": [
      "\n"
     ]
    },
    {
     "name": "stdout",
     "output_type": "stream",
     "text": [
      "\n",
      "20 epochs completed in 0.179 hours.\n",
      "Optimizer stripped from c:\\Users\\SSAFY\\Desktop\\\\Dan-C\\runs\\detect\\train11\\weights\\last.pt, 52.0MB\n",
      "Optimizer stripped from c:\\Users\\SSAFY\\Desktop\\\\Dan-C\\runs\\detect\\train11\\weights\\best.pt, 52.0MB\n",
      "\n",
      "Validating c:\\Users\\SSAFY\\Desktop\\\\Dan-C\\runs\\detect\\train11\\weights\\best.pt...\n",
      "Ultralytics 8.3.87  Python-3.9.13 torch-2.6.0+cpu CPU (Intel Core(TM) i7-14700)\n",
      "Model summary (fused): 92 layers, 25,840,339 parameters, 0 gradients, 78.7 GFLOPs\n"
     ]
    },
    {
     "name": "stderr",
     "output_type": "stream",
     "text": [
      "                 Class     Images  Instances      Box(P          R      mAP50  mAP50-95): 100%|██████████| 1/1 [00:02<00:00,  2.80s/it]\n"
     ]
    },
    {
     "name": "stdout",
     "output_type": "stream",
     "text": [
      "                   all         13         70      0.986          1      0.993      0.957\n",
      "Speed: 0.9ms preprocess, 146.7ms inference, 0.0ms loss, 0.9ms postprocess per image\n",
      "Results saved to \u001b[1mc:\\Users\\SSAFY\\Desktop\\\\Dan-C\\runs\\detect\\train11\u001b[0m\n"
     ]
    },
    {
     "data": {
      "text/plain": [
       "ultralytics.utils.metrics.DetMetrics object with attributes:\n",
       "\n",
       "ap_class_index: array([0])\n",
       "box: ultralytics.utils.metrics.Metric object\n",
       "confusion_matrix: <ultralytics.utils.metrics.ConfusionMatrix object at 0x000001FD206D3A90>\n",
       "curves: ['Precision-Recall(B)', 'F1-Confidence(B)', 'Precision-Confidence(B)', 'Recall-Confidence(B)']\n",
       "curves_results: [[array([          0,    0.001001,    0.002002,    0.003003,    0.004004,    0.005005,    0.006006,    0.007007,    0.008008,    0.009009,     0.01001,    0.011011,    0.012012,    0.013013,    0.014014,    0.015015,    0.016016,    0.017017,    0.018018,    0.019019,     0.02002,    0.021021,    0.022022,    0.023023,\n",
       "          0.024024,    0.025025,    0.026026,    0.027027,    0.028028,    0.029029,     0.03003,    0.031031,    0.032032,    0.033033,    0.034034,    0.035035,    0.036036,    0.037037,    0.038038,    0.039039,     0.04004,    0.041041,    0.042042,    0.043043,    0.044044,    0.045045,    0.046046,    0.047047,\n",
       "          0.048048,    0.049049,     0.05005,    0.051051,    0.052052,    0.053053,    0.054054,    0.055055,    0.056056,    0.057057,    0.058058,    0.059059,     0.06006,    0.061061,    0.062062,    0.063063,    0.064064,    0.065065,    0.066066,    0.067067,    0.068068,    0.069069,     0.07007,    0.071071,\n",
       "          0.072072,    0.073073,    0.074074,    0.075075,    0.076076,    0.077077,    0.078078,    0.079079,     0.08008,    0.081081,    0.082082,    0.083083,    0.084084,    0.085085,    0.086086,    0.087087,    0.088088,    0.089089,     0.09009,    0.091091,    0.092092,    0.093093,    0.094094,    0.095095,\n",
       "          0.096096,    0.097097,    0.098098,    0.099099,      0.1001,      0.1011,      0.1021,      0.1031,      0.1041,     0.10511,     0.10611,     0.10711,     0.10811,     0.10911,     0.11011,     0.11111,     0.11211,     0.11311,     0.11411,     0.11512,     0.11612,     0.11712,     0.11812,     0.11912,\n",
       "           0.12012,     0.12112,     0.12212,     0.12312,     0.12412,     0.12513,     0.12613,     0.12713,     0.12813,     0.12913,     0.13013,     0.13113,     0.13213,     0.13313,     0.13413,     0.13514,     0.13614,     0.13714,     0.13814,     0.13914,     0.14014,     0.14114,     0.14214,     0.14314,\n",
       "           0.14414,     0.14515,     0.14615,     0.14715,     0.14815,     0.14915,     0.15015,     0.15115,     0.15215,     0.15315,     0.15415,     0.15516,     0.15616,     0.15716,     0.15816,     0.15916,     0.16016,     0.16116,     0.16216,     0.16316,     0.16416,     0.16517,     0.16617,     0.16717,\n",
       "           0.16817,     0.16917,     0.17017,     0.17117,     0.17217,     0.17317,     0.17417,     0.17518,     0.17618,     0.17718,     0.17818,     0.17918,     0.18018,     0.18118,     0.18218,     0.18318,     0.18418,     0.18519,     0.18619,     0.18719,     0.18819,     0.18919,     0.19019,     0.19119,\n",
       "           0.19219,     0.19319,     0.19419,      0.1952,      0.1962,      0.1972,      0.1982,      0.1992,      0.2002,      0.2012,      0.2022,      0.2032,      0.2042,     0.20521,     0.20621,     0.20721,     0.20821,     0.20921,     0.21021,     0.21121,     0.21221,     0.21321,     0.21421,     0.21522,\n",
       "           0.21622,     0.21722,     0.21822,     0.21922,     0.22022,     0.22122,     0.22222,     0.22322,     0.22422,     0.22523,     0.22623,     0.22723,     0.22823,     0.22923,     0.23023,     0.23123,     0.23223,     0.23323,     0.23423,     0.23524,     0.23624,     0.23724,     0.23824,     0.23924,\n",
       "           0.24024,     0.24124,     0.24224,     0.24324,     0.24424,     0.24525,     0.24625,     0.24725,     0.24825,     0.24925,     0.25025,     0.25125,     0.25225,     0.25325,     0.25425,     0.25526,     0.25626,     0.25726,     0.25826,     0.25926,     0.26026,     0.26126,     0.26226,     0.26326,\n",
       "           0.26426,     0.26527,     0.26627,     0.26727,     0.26827,     0.26927,     0.27027,     0.27127,     0.27227,     0.27327,     0.27427,     0.27528,     0.27628,     0.27728,     0.27828,     0.27928,     0.28028,     0.28128,     0.28228,     0.28328,     0.28428,     0.28529,     0.28629,     0.28729,\n",
       "           0.28829,     0.28929,     0.29029,     0.29129,     0.29229,     0.29329,     0.29429,      0.2953,      0.2963,      0.2973,      0.2983,      0.2993,      0.3003,      0.3013,      0.3023,      0.3033,      0.3043,     0.30531,     0.30631,     0.30731,     0.30831,     0.30931,     0.31031,     0.31131,\n",
       "           0.31231,     0.31331,     0.31431,     0.31532,     0.31632,     0.31732,     0.31832,     0.31932,     0.32032,     0.32132,     0.32232,     0.32332,     0.32432,     0.32533,     0.32633,     0.32733,     0.32833,     0.32933,     0.33033,     0.33133,     0.33233,     0.33333,     0.33433,     0.33534,\n",
       "           0.33634,     0.33734,     0.33834,     0.33934,     0.34034,     0.34134,     0.34234,     0.34334,     0.34434,     0.34535,     0.34635,     0.34735,     0.34835,     0.34935,     0.35035,     0.35135,     0.35235,     0.35335,     0.35435,     0.35536,     0.35636,     0.35736,     0.35836,     0.35936,\n",
       "           0.36036,     0.36136,     0.36236,     0.36336,     0.36436,     0.36537,     0.36637,     0.36737,     0.36837,     0.36937,     0.37037,     0.37137,     0.37237,     0.37337,     0.37437,     0.37538,     0.37638,     0.37738,     0.37838,     0.37938,     0.38038,     0.38138,     0.38238,     0.38338,\n",
       "           0.38438,     0.38539,     0.38639,     0.38739,     0.38839,     0.38939,     0.39039,     0.39139,     0.39239,     0.39339,     0.39439,      0.3954,      0.3964,      0.3974,      0.3984,      0.3994,      0.4004,      0.4014,      0.4024,      0.4034,      0.4044,     0.40541,     0.40641,     0.40741,\n",
       "           0.40841,     0.40941,     0.41041,     0.41141,     0.41241,     0.41341,     0.41441,     0.41542,     0.41642,     0.41742,     0.41842,     0.41942,     0.42042,     0.42142,     0.42242,     0.42342,     0.42442,     0.42543,     0.42643,     0.42743,     0.42843,     0.42943,     0.43043,     0.43143,\n",
       "           0.43243,     0.43343,     0.43443,     0.43544,     0.43644,     0.43744,     0.43844,     0.43944,     0.44044,     0.44144,     0.44244,     0.44344,     0.44444,     0.44545,     0.44645,     0.44745,     0.44845,     0.44945,     0.45045,     0.45145,     0.45245,     0.45345,     0.45445,     0.45546,\n",
       "           0.45646,     0.45746,     0.45846,     0.45946,     0.46046,     0.46146,     0.46246,     0.46346,     0.46446,     0.46547,     0.46647,     0.46747,     0.46847,     0.46947,     0.47047,     0.47147,     0.47247,     0.47347,     0.47447,     0.47548,     0.47648,     0.47748,     0.47848,     0.47948,\n",
       "           0.48048,     0.48148,     0.48248,     0.48348,     0.48448,     0.48549,     0.48649,     0.48749,     0.48849,     0.48949,     0.49049,     0.49149,     0.49249,     0.49349,     0.49449,      0.4955,      0.4965,      0.4975,      0.4985,      0.4995,      0.5005,      0.5015,      0.5025,      0.5035,\n",
       "            0.5045,     0.50551,     0.50651,     0.50751,     0.50851,     0.50951,     0.51051,     0.51151,     0.51251,     0.51351,     0.51451,     0.51552,     0.51652,     0.51752,     0.51852,     0.51952,     0.52052,     0.52152,     0.52252,     0.52352,     0.52452,     0.52553,     0.52653,     0.52753,\n",
       "           0.52853,     0.52953,     0.53053,     0.53153,     0.53253,     0.53353,     0.53453,     0.53554,     0.53654,     0.53754,     0.53854,     0.53954,     0.54054,     0.54154,     0.54254,     0.54354,     0.54454,     0.54555,     0.54655,     0.54755,     0.54855,     0.54955,     0.55055,     0.55155,\n",
       "           0.55255,     0.55355,     0.55455,     0.55556,     0.55656,     0.55756,     0.55856,     0.55956,     0.56056,     0.56156,     0.56256,     0.56356,     0.56456,     0.56557,     0.56657,     0.56757,     0.56857,     0.56957,     0.57057,     0.57157,     0.57257,     0.57357,     0.57457,     0.57558,\n",
       "           0.57658,     0.57758,     0.57858,     0.57958,     0.58058,     0.58158,     0.58258,     0.58358,     0.58458,     0.58559,     0.58659,     0.58759,     0.58859,     0.58959,     0.59059,     0.59159,     0.59259,     0.59359,     0.59459,      0.5956,      0.5966,      0.5976,      0.5986,      0.5996,\n",
       "            0.6006,      0.6016,      0.6026,      0.6036,      0.6046,     0.60561,     0.60661,     0.60761,     0.60861,     0.60961,     0.61061,     0.61161,     0.61261,     0.61361,     0.61461,     0.61562,     0.61662,     0.61762,     0.61862,     0.61962,     0.62062,     0.62162,     0.62262,     0.62362,\n",
       "           0.62462,     0.62563,     0.62663,     0.62763,     0.62863,     0.62963,     0.63063,     0.63163,     0.63263,     0.63363,     0.63463,     0.63564,     0.63664,     0.63764,     0.63864,     0.63964,     0.64064,     0.64164,     0.64264,     0.64364,     0.64464,     0.64565,     0.64665,     0.64765,\n",
       "           0.64865,     0.64965,     0.65065,     0.65165,     0.65265,     0.65365,     0.65465,     0.65566,     0.65666,     0.65766,     0.65866,     0.65966,     0.66066,     0.66166,     0.66266,     0.66366,     0.66466,     0.66567,     0.66667,     0.66767,     0.66867,     0.66967,     0.67067,     0.67167,\n",
       "           0.67267,     0.67367,     0.67467,     0.67568,     0.67668,     0.67768,     0.67868,     0.67968,     0.68068,     0.68168,     0.68268,     0.68368,     0.68468,     0.68569,     0.68669,     0.68769,     0.68869,     0.68969,     0.69069,     0.69169,     0.69269,     0.69369,     0.69469,      0.6957,\n",
       "            0.6967,      0.6977,      0.6987,      0.6997,      0.7007,      0.7017,      0.7027,      0.7037,      0.7047,     0.70571,     0.70671,     0.70771,     0.70871,     0.70971,     0.71071,     0.71171,     0.71271,     0.71371,     0.71471,     0.71572,     0.71672,     0.71772,     0.71872,     0.71972,\n",
       "           0.72072,     0.72172,     0.72272,     0.72372,     0.72472,     0.72573,     0.72673,     0.72773,     0.72873,     0.72973,     0.73073,     0.73173,     0.73273,     0.73373,     0.73473,     0.73574,     0.73674,     0.73774,     0.73874,     0.73974,     0.74074,     0.74174,     0.74274,     0.74374,\n",
       "           0.74474,     0.74575,     0.74675,     0.74775,     0.74875,     0.74975,     0.75075,     0.75175,     0.75275,     0.75375,     0.75475,     0.75576,     0.75676,     0.75776,     0.75876,     0.75976,     0.76076,     0.76176,     0.76276,     0.76376,     0.76476,     0.76577,     0.76677,     0.76777,\n",
       "           0.76877,     0.76977,     0.77077,     0.77177,     0.77277,     0.77377,     0.77477,     0.77578,     0.77678,     0.77778,     0.77878,     0.77978,     0.78078,     0.78178,     0.78278,     0.78378,     0.78478,     0.78579,     0.78679,     0.78779,     0.78879,     0.78979,     0.79079,     0.79179,\n",
       "           0.79279,     0.79379,     0.79479,      0.7958,      0.7968,      0.7978,      0.7988,      0.7998,      0.8008,      0.8018,      0.8028,      0.8038,      0.8048,     0.80581,     0.80681,     0.80781,     0.80881,     0.80981,     0.81081,     0.81181,     0.81281,     0.81381,     0.81481,     0.81582,\n",
       "           0.81682,     0.81782,     0.81882,     0.81982,     0.82082,     0.82182,     0.82282,     0.82382,     0.82482,     0.82583,     0.82683,     0.82783,     0.82883,     0.82983,     0.83083,     0.83183,     0.83283,     0.83383,     0.83483,     0.83584,     0.83684,     0.83784,     0.83884,     0.83984,\n",
       "           0.84084,     0.84184,     0.84284,     0.84384,     0.84484,     0.84585,     0.84685,     0.84785,     0.84885,     0.84985,     0.85085,     0.85185,     0.85285,     0.85385,     0.85485,     0.85586,     0.85686,     0.85786,     0.85886,     0.85986,     0.86086,     0.86186,     0.86286,     0.86386,\n",
       "           0.86486,     0.86587,     0.86687,     0.86787,     0.86887,     0.86987,     0.87087,     0.87187,     0.87287,     0.87387,     0.87487,     0.87588,     0.87688,     0.87788,     0.87888,     0.87988,     0.88088,     0.88188,     0.88288,     0.88388,     0.88488,     0.88589,     0.88689,     0.88789,\n",
       "           0.88889,     0.88989,     0.89089,     0.89189,     0.89289,     0.89389,     0.89489,      0.8959,      0.8969,      0.8979,      0.8989,      0.8999,      0.9009,      0.9019,      0.9029,      0.9039,      0.9049,     0.90591,     0.90691,     0.90791,     0.90891,     0.90991,     0.91091,     0.91191,\n",
       "           0.91291,     0.91391,     0.91491,     0.91592,     0.91692,     0.91792,     0.91892,     0.91992,     0.92092,     0.92192,     0.92292,     0.92392,     0.92492,     0.92593,     0.92693,     0.92793,     0.92893,     0.92993,     0.93093,     0.93193,     0.93293,     0.93393,     0.93493,     0.93594,\n",
       "           0.93694,     0.93794,     0.93894,     0.93994,     0.94094,     0.94194,     0.94294,     0.94394,     0.94494,     0.94595,     0.94695,     0.94795,     0.94895,     0.94995,     0.95095,     0.95195,     0.95295,     0.95395,     0.95495,     0.95596,     0.95696,     0.95796,     0.95896,     0.95996,\n",
       "           0.96096,     0.96196,     0.96296,     0.96396,     0.96496,     0.96597,     0.96697,     0.96797,     0.96897,     0.96997,     0.97097,     0.97197,     0.97297,     0.97397,     0.97497,     0.97598,     0.97698,     0.97798,     0.97898,     0.97998,     0.98098,     0.98198,     0.98298,     0.98398,\n",
       "           0.98498,     0.98599,     0.98699,     0.98799,     0.98899,     0.98999,     0.99099,     0.99199,     0.99299,     0.99399,     0.99499,       0.996,       0.997,       0.998,       0.999,           1]), array([[          1,           1,           1,           1,           1,           1,           1,           1,           1,           1,           1,           1,           1,           1,           1,           1,           1,           1,           1,           1,           1,           1,           1,\n",
       "                  1,           1,           1,           1,           1,           1,           1,           1,           1,           1,           1,           1,           1,           1,           1,           1,           1,           1,           1,           1,           1,           1,           1,\n",
       "                  1,           1,           1,           1,           1,           1,           1,           1,           1,           1,           1,           1,           1,           1,           1,           1,           1,           1,           1,           1,           1,           1,           1,\n",
       "                  1,           1,           1,           1,           1,           1,           1,           1,           1,           1,           1,           1,           1,           1,           1,           1,           1,           1,           1,           1,           1,           1,           1,\n",
       "                  1,           1,           1,           1,           1,           1,           1,           1,           1,           1,           1,           1,           1,           1,           1,           1,           1,           1,           1,           1,           1,           1,           1,\n",
       "                  1,           1,           1,           1,           1,           1,           1,           1,           1,           1,           1,           1,           1,           1,           1,           1,           1,           1,           1,           1,           1,           1,           1,\n",
       "                  1,           1,           1,           1,           1,           1,           1,           1,           1,           1,           1,           1,           1,           1,           1,           1,           1,           1,           1,           1,           1,           1,           1,\n",
       "                  1,           1,           1,           1,           1,           1,           1,           1,           1,           1,           1,           1,           1,           1,           1,           1,           1,           1,           1,           1,           1,           1,           1,\n",
       "                  1,           1,           1,           1,           1,           1,           1,           1,           1,           1,           1,           1,           1,           1,           1,           1,           1,           1,           1,           1,           1,           1,           1,\n",
       "                  1,           1,           1,           1,           1,           1,           1,           1,           1,           1,           1,           1,           1,           1,           1,           1,           1,           1,           1,           1,           1,           1,           1,\n",
       "                  1,           1,           1,           1,           1,           1,           1,           1,           1,           1,           1,           1,           1,           1,           1,           1,           1,           1,           1,           1,           1,           1,           1,\n",
       "                  1,           1,           1,           1,           1,           1,           1,           1,           1,           1,           1,           1,           1,           1,           1,           1,           1,           1,           1,           1,           1,           1,           1,\n",
       "                  1,           1,           1,           1,           1,           1,           1,           1,           1,           1,           1,           1,           1,           1,           1,           1,           1,           1,           1,           1,           1,           1,           1,\n",
       "                  1,           1,           1,           1,           1,           1,           1,           1,           1,           1,           1,           1,           1,           1,           1,           1,           1,           1,           1,           1,           1,           1,           1,\n",
       "                  1,           1,           1,           1,           1,           1,           1,           1,           1,           1,           1,           1,           1,           1,           1,           1,           1,           1,           1,           1,           1,           1,           1,\n",
       "                  1,           1,           1,           1,           1,           1,           1,           1,           1,           1,           1,           1,           1,           1,           1,           1,           1,           1,           1,           1,           1,           1,           1,\n",
       "                  1,           1,           1,           1,           1,           1,           1,           1,           1,           1,           1,           1,           1,           1,           1,           1,           1,           1,           1,           1,           1,           1,           1,\n",
       "                  1,           1,           1,           1,           1,           1,           1,           1,           1,           1,           1,           1,           1,           1,           1,           1,           1,           1,           1,           1,           1,           1,           1,\n",
       "                  1,           1,           1,           1,           1,           1,           1,           1,           1,           1,           1,           1,           1,           1,           1,           1,           1,           1,           1,           1,           1,           1,           1,\n",
       "                  1,           1,           1,           1,           1,           1,           1,           1,           1,           1,           1,           1,           1,           1,           1,           1,           1,           1,           1,           1,           1,           1,           1,\n",
       "                  1,           1,           1,           1,           1,           1,           1,           1,           1,           1,           1,           1,           1,           1,           1,           1,           1,           1,           1,           1,           1,           1,           1,\n",
       "                  1,           1,           1,           1,           1,           1,           1,           1,           1,           1,           1,           1,           1,           1,           1,           1,           1,           1,           1,           1,           1,           1,           1,\n",
       "                  1,           1,           1,           1,           1,           1,           1,           1,           1,           1,           1,           1,           1,           1,           1,           1,           1,           1,           1,           1,           1,           1,           1,\n",
       "                  1,           1,           1,           1,           1,           1,           1,           1,           1,           1,           1,           1,           1,           1,           1,           1,           1,           1,           1,           1,           1,           1,           1,\n",
       "                  1,           1,           1,           1,           1,           1,           1,           1,           1,           1,           1,           1,           1,           1,           1,           1,           1,           1,           1,           1,           1,           1,           1,\n",
       "                  1,           1,           1,           1,           1,           1,           1,           1,           1,           1,           1,           1,           1,           1,           1,           1,           1,           1,           1,           1,           1,           1,           1,\n",
       "                  1,           1,           1,           1,           1,           1,           1,           1,           1,           1,           1,           1,           1,           1,           1,           1,           1,           1,           1,           1,           1,           1,           1,\n",
       "                  1,           1,           1,           1,           1,           1,           1,           1,           1,           1,           1,           1,           1,           1,           1,           1,           1,           1,           1,           1,           1,           1,           1,\n",
       "                  1,           1,           1,           1,           1,           1,           1,           1,           1,           1,           1,           1,           1,           1,           1,           1,           1,           1,           1,           1,           1,           1,           1,\n",
       "                  1,           1,           1,           1,           1,           1,           1,           1,           1,           1,           1,           1,           1,           1,           1,           1,           1,           1,           1,           1,           1,           1,           1,\n",
       "                  1,           1,           1,           1,           1,           1,           1,           1,           1,           1,           1,           1,           1,           1,           1,           1,           1,           1,           1,           1,           1,           1,           1,\n",
       "                  1,           1,           1,           1,           1,           1,           1,           1,           1,           1,           1,           1,           1,           1,           1,           1,           1,           1,           1,           1,           1,           1,           1,\n",
       "                  1,           1,           1,           1,           1,           1,           1,           1,           1,           1,           1,           1,           1,           1,           1,           1,           1,           1,           1,           1,           1,           1,           1,\n",
       "                  1,           1,           1,           1,           1,           1,           1,           1,           1,           1,           1,           1,           1,           1,           1,           1,           1,           1,           1,           1,           1,           1,           1,\n",
       "                  1,           1,           1,           1,           1,           1,           1,           1,           1,           1,           1,           1,           1,           1,           1,           1,           1,           1,           1,           1,           1,           1,           1,\n",
       "                  1,           1,           1,           1,           1,           1,           1,           1,           1,           1,           1,           1,           1,           1,           1,           1,           1,           1,           1,           1,           1,           1,           1,\n",
       "                  1,           1,           1,           1,           1,           1,           1,           1,           1,           1,           1,           1,           1,           1,           1,           1,           1,           1,           1,           1,           1,           1,           1,\n",
       "                  1,           1,           1,           1,           1,           1,           1,           1,           1,           1,           1,           1,           1,           1,           1,           1,           1,           1,           1,           1,           1,           1,           1,\n",
       "                  1,           1,           1,           1,           1,           1,           1,           1,           1,           1,           1,     0.98592,     0.98592,     0.98592,     0.98592,     0.98592,     0.98592,     0.98592,     0.98592,     0.98592,     0.98592,     0.98592,     0.98592,\n",
       "            0.98592,     0.98592,     0.98592,     0.98592,     0.98592,     0.98592,     0.98592,     0.98592,     0.98592,     0.98592,     0.98592,     0.98592,     0.98592,     0.98592,     0.98592,     0.98592,     0.98592,     0.98592,     0.98592,     0.98592,     0.98592,     0.98592,     0.98592,\n",
       "            0.98592,     0.98592,     0.98592,     0.98592,     0.98592,     0.98592,     0.98592,     0.98592,     0.98592,     0.98592,     0.98592,     0.98592,     0.98592,     0.98592,     0.98592,     0.98592,     0.98592,     0.98592,     0.98592,     0.98592,     0.98592,     0.98592,     0.98592,\n",
       "            0.98592,     0.98592,     0.98592,     0.98592,     0.98592,     0.98592,     0.98592,     0.98592,     0.98592,     0.98592,     0.98592,     0.98592,     0.98592,     0.98592,     0.98592,     0.98592,     0.98592,     0.98592,     0.98592,     0.98592,     0.98592,     0.98592,     0.98592,\n",
       "            0.98592,     0.98592,     0.98592,     0.98592,     0.98592,     0.98592,     0.98592,     0.98592,     0.98592,     0.98592,     0.98592,     0.98592,     0.98592,     0.98592,     0.98592,     0.98592,     0.98592,     0.98592,     0.98592,     0.98592,     0.98592,     0.98592,     0.98592,\n",
       "            0.98592,     0.98592,     0.98592,     0.98592,     0.98592,     0.98592,     0.98592,     0.98592,     0.98592,     0.98592,           0]]), 'Recall', 'Precision'], [array([          0,    0.001001,    0.002002,    0.003003,    0.004004,    0.005005,    0.006006,    0.007007,    0.008008,    0.009009,     0.01001,    0.011011,    0.012012,    0.013013,    0.014014,    0.015015,    0.016016,    0.017017,    0.018018,    0.019019,     0.02002,    0.021021,    0.022022,    0.023023,\n",
       "          0.024024,    0.025025,    0.026026,    0.027027,    0.028028,    0.029029,     0.03003,    0.031031,    0.032032,    0.033033,    0.034034,    0.035035,    0.036036,    0.037037,    0.038038,    0.039039,     0.04004,    0.041041,    0.042042,    0.043043,    0.044044,    0.045045,    0.046046,    0.047047,\n",
       "          0.048048,    0.049049,     0.05005,    0.051051,    0.052052,    0.053053,    0.054054,    0.055055,    0.056056,    0.057057,    0.058058,    0.059059,     0.06006,    0.061061,    0.062062,    0.063063,    0.064064,    0.065065,    0.066066,    0.067067,    0.068068,    0.069069,     0.07007,    0.071071,\n",
       "          0.072072,    0.073073,    0.074074,    0.075075,    0.076076,    0.077077,    0.078078,    0.079079,     0.08008,    0.081081,    0.082082,    0.083083,    0.084084,    0.085085,    0.086086,    0.087087,    0.088088,    0.089089,     0.09009,    0.091091,    0.092092,    0.093093,    0.094094,    0.095095,\n",
       "          0.096096,    0.097097,    0.098098,    0.099099,      0.1001,      0.1011,      0.1021,      0.1031,      0.1041,     0.10511,     0.10611,     0.10711,     0.10811,     0.10911,     0.11011,     0.11111,     0.11211,     0.11311,     0.11411,     0.11512,     0.11612,     0.11712,     0.11812,     0.11912,\n",
       "           0.12012,     0.12112,     0.12212,     0.12312,     0.12412,     0.12513,     0.12613,     0.12713,     0.12813,     0.12913,     0.13013,     0.13113,     0.13213,     0.13313,     0.13413,     0.13514,     0.13614,     0.13714,     0.13814,     0.13914,     0.14014,     0.14114,     0.14214,     0.14314,\n",
       "           0.14414,     0.14515,     0.14615,     0.14715,     0.14815,     0.14915,     0.15015,     0.15115,     0.15215,     0.15315,     0.15415,     0.15516,     0.15616,     0.15716,     0.15816,     0.15916,     0.16016,     0.16116,     0.16216,     0.16316,     0.16416,     0.16517,     0.16617,     0.16717,\n",
       "           0.16817,     0.16917,     0.17017,     0.17117,     0.17217,     0.17317,     0.17417,     0.17518,     0.17618,     0.17718,     0.17818,     0.17918,     0.18018,     0.18118,     0.18218,     0.18318,     0.18418,     0.18519,     0.18619,     0.18719,     0.18819,     0.18919,     0.19019,     0.19119,\n",
       "           0.19219,     0.19319,     0.19419,      0.1952,      0.1962,      0.1972,      0.1982,      0.1992,      0.2002,      0.2012,      0.2022,      0.2032,      0.2042,     0.20521,     0.20621,     0.20721,     0.20821,     0.20921,     0.21021,     0.21121,     0.21221,     0.21321,     0.21421,     0.21522,\n",
       "           0.21622,     0.21722,     0.21822,     0.21922,     0.22022,     0.22122,     0.22222,     0.22322,     0.22422,     0.22523,     0.22623,     0.22723,     0.22823,     0.22923,     0.23023,     0.23123,     0.23223,     0.23323,     0.23423,     0.23524,     0.23624,     0.23724,     0.23824,     0.23924,\n",
       "           0.24024,     0.24124,     0.24224,     0.24324,     0.24424,     0.24525,     0.24625,     0.24725,     0.24825,     0.24925,     0.25025,     0.25125,     0.25225,     0.25325,     0.25425,     0.25526,     0.25626,     0.25726,     0.25826,     0.25926,     0.26026,     0.26126,     0.26226,     0.26326,\n",
       "           0.26426,     0.26527,     0.26627,     0.26727,     0.26827,     0.26927,     0.27027,     0.27127,     0.27227,     0.27327,     0.27427,     0.27528,     0.27628,     0.27728,     0.27828,     0.27928,     0.28028,     0.28128,     0.28228,     0.28328,     0.28428,     0.28529,     0.28629,     0.28729,\n",
       "           0.28829,     0.28929,     0.29029,     0.29129,     0.29229,     0.29329,     0.29429,      0.2953,      0.2963,      0.2973,      0.2983,      0.2993,      0.3003,      0.3013,      0.3023,      0.3033,      0.3043,     0.30531,     0.30631,     0.30731,     0.30831,     0.30931,     0.31031,     0.31131,\n",
       "           0.31231,     0.31331,     0.31431,     0.31532,     0.31632,     0.31732,     0.31832,     0.31932,     0.32032,     0.32132,     0.32232,     0.32332,     0.32432,     0.32533,     0.32633,     0.32733,     0.32833,     0.32933,     0.33033,     0.33133,     0.33233,     0.33333,     0.33433,     0.33534,\n",
       "           0.33634,     0.33734,     0.33834,     0.33934,     0.34034,     0.34134,     0.34234,     0.34334,     0.34434,     0.34535,     0.34635,     0.34735,     0.34835,     0.34935,     0.35035,     0.35135,     0.35235,     0.35335,     0.35435,     0.35536,     0.35636,     0.35736,     0.35836,     0.35936,\n",
       "           0.36036,     0.36136,     0.36236,     0.36336,     0.36436,     0.36537,     0.36637,     0.36737,     0.36837,     0.36937,     0.37037,     0.37137,     0.37237,     0.37337,     0.37437,     0.37538,     0.37638,     0.37738,     0.37838,     0.37938,     0.38038,     0.38138,     0.38238,     0.38338,\n",
       "           0.38438,     0.38539,     0.38639,     0.38739,     0.38839,     0.38939,     0.39039,     0.39139,     0.39239,     0.39339,     0.39439,      0.3954,      0.3964,      0.3974,      0.3984,      0.3994,      0.4004,      0.4014,      0.4024,      0.4034,      0.4044,     0.40541,     0.40641,     0.40741,\n",
       "           0.40841,     0.40941,     0.41041,     0.41141,     0.41241,     0.41341,     0.41441,     0.41542,     0.41642,     0.41742,     0.41842,     0.41942,     0.42042,     0.42142,     0.42242,     0.42342,     0.42442,     0.42543,     0.42643,     0.42743,     0.42843,     0.42943,     0.43043,     0.43143,\n",
       "           0.43243,     0.43343,     0.43443,     0.43544,     0.43644,     0.43744,     0.43844,     0.43944,     0.44044,     0.44144,     0.44244,     0.44344,     0.44444,     0.44545,     0.44645,     0.44745,     0.44845,     0.44945,     0.45045,     0.45145,     0.45245,     0.45345,     0.45445,     0.45546,\n",
       "           0.45646,     0.45746,     0.45846,     0.45946,     0.46046,     0.46146,     0.46246,     0.46346,     0.46446,     0.46547,     0.46647,     0.46747,     0.46847,     0.46947,     0.47047,     0.47147,     0.47247,     0.47347,     0.47447,     0.47548,     0.47648,     0.47748,     0.47848,     0.47948,\n",
       "           0.48048,     0.48148,     0.48248,     0.48348,     0.48448,     0.48549,     0.48649,     0.48749,     0.48849,     0.48949,     0.49049,     0.49149,     0.49249,     0.49349,     0.49449,      0.4955,      0.4965,      0.4975,      0.4985,      0.4995,      0.5005,      0.5015,      0.5025,      0.5035,\n",
       "            0.5045,     0.50551,     0.50651,     0.50751,     0.50851,     0.50951,     0.51051,     0.51151,     0.51251,     0.51351,     0.51451,     0.51552,     0.51652,     0.51752,     0.51852,     0.51952,     0.52052,     0.52152,     0.52252,     0.52352,     0.52452,     0.52553,     0.52653,     0.52753,\n",
       "           0.52853,     0.52953,     0.53053,     0.53153,     0.53253,     0.53353,     0.53453,     0.53554,     0.53654,     0.53754,     0.53854,     0.53954,     0.54054,     0.54154,     0.54254,     0.54354,     0.54454,     0.54555,     0.54655,     0.54755,     0.54855,     0.54955,     0.55055,     0.55155,\n",
       "           0.55255,     0.55355,     0.55455,     0.55556,     0.55656,     0.55756,     0.55856,     0.55956,     0.56056,     0.56156,     0.56256,     0.56356,     0.56456,     0.56557,     0.56657,     0.56757,     0.56857,     0.56957,     0.57057,     0.57157,     0.57257,     0.57357,     0.57457,     0.57558,\n",
       "           0.57658,     0.57758,     0.57858,     0.57958,     0.58058,     0.58158,     0.58258,     0.58358,     0.58458,     0.58559,     0.58659,     0.58759,     0.58859,     0.58959,     0.59059,     0.59159,     0.59259,     0.59359,     0.59459,      0.5956,      0.5966,      0.5976,      0.5986,      0.5996,\n",
       "            0.6006,      0.6016,      0.6026,      0.6036,      0.6046,     0.60561,     0.60661,     0.60761,     0.60861,     0.60961,     0.61061,     0.61161,     0.61261,     0.61361,     0.61461,     0.61562,     0.61662,     0.61762,     0.61862,     0.61962,     0.62062,     0.62162,     0.62262,     0.62362,\n",
       "           0.62462,     0.62563,     0.62663,     0.62763,     0.62863,     0.62963,     0.63063,     0.63163,     0.63263,     0.63363,     0.63463,     0.63564,     0.63664,     0.63764,     0.63864,     0.63964,     0.64064,     0.64164,     0.64264,     0.64364,     0.64464,     0.64565,     0.64665,     0.64765,\n",
       "           0.64865,     0.64965,     0.65065,     0.65165,     0.65265,     0.65365,     0.65465,     0.65566,     0.65666,     0.65766,     0.65866,     0.65966,     0.66066,     0.66166,     0.66266,     0.66366,     0.66466,     0.66567,     0.66667,     0.66767,     0.66867,     0.66967,     0.67067,     0.67167,\n",
       "           0.67267,     0.67367,     0.67467,     0.67568,     0.67668,     0.67768,     0.67868,     0.67968,     0.68068,     0.68168,     0.68268,     0.68368,     0.68468,     0.68569,     0.68669,     0.68769,     0.68869,     0.68969,     0.69069,     0.69169,     0.69269,     0.69369,     0.69469,      0.6957,\n",
       "            0.6967,      0.6977,      0.6987,      0.6997,      0.7007,      0.7017,      0.7027,      0.7037,      0.7047,     0.70571,     0.70671,     0.70771,     0.70871,     0.70971,     0.71071,     0.71171,     0.71271,     0.71371,     0.71471,     0.71572,     0.71672,     0.71772,     0.71872,     0.71972,\n",
       "           0.72072,     0.72172,     0.72272,     0.72372,     0.72472,     0.72573,     0.72673,     0.72773,     0.72873,     0.72973,     0.73073,     0.73173,     0.73273,     0.73373,     0.73473,     0.73574,     0.73674,     0.73774,     0.73874,     0.73974,     0.74074,     0.74174,     0.74274,     0.74374,\n",
       "           0.74474,     0.74575,     0.74675,     0.74775,     0.74875,     0.74975,     0.75075,     0.75175,     0.75275,     0.75375,     0.75475,     0.75576,     0.75676,     0.75776,     0.75876,     0.75976,     0.76076,     0.76176,     0.76276,     0.76376,     0.76476,     0.76577,     0.76677,     0.76777,\n",
       "           0.76877,     0.76977,     0.77077,     0.77177,     0.77277,     0.77377,     0.77477,     0.77578,     0.77678,     0.77778,     0.77878,     0.77978,     0.78078,     0.78178,     0.78278,     0.78378,     0.78478,     0.78579,     0.78679,     0.78779,     0.78879,     0.78979,     0.79079,     0.79179,\n",
       "           0.79279,     0.79379,     0.79479,      0.7958,      0.7968,      0.7978,      0.7988,      0.7998,      0.8008,      0.8018,      0.8028,      0.8038,      0.8048,     0.80581,     0.80681,     0.80781,     0.80881,     0.80981,     0.81081,     0.81181,     0.81281,     0.81381,     0.81481,     0.81582,\n",
       "           0.81682,     0.81782,     0.81882,     0.81982,     0.82082,     0.82182,     0.82282,     0.82382,     0.82482,     0.82583,     0.82683,     0.82783,     0.82883,     0.82983,     0.83083,     0.83183,     0.83283,     0.83383,     0.83483,     0.83584,     0.83684,     0.83784,     0.83884,     0.83984,\n",
       "           0.84084,     0.84184,     0.84284,     0.84384,     0.84484,     0.84585,     0.84685,     0.84785,     0.84885,     0.84985,     0.85085,     0.85185,     0.85285,     0.85385,     0.85485,     0.85586,     0.85686,     0.85786,     0.85886,     0.85986,     0.86086,     0.86186,     0.86286,     0.86386,\n",
       "           0.86486,     0.86587,     0.86687,     0.86787,     0.86887,     0.86987,     0.87087,     0.87187,     0.87287,     0.87387,     0.87487,     0.87588,     0.87688,     0.87788,     0.87888,     0.87988,     0.88088,     0.88188,     0.88288,     0.88388,     0.88488,     0.88589,     0.88689,     0.88789,\n",
       "           0.88889,     0.88989,     0.89089,     0.89189,     0.89289,     0.89389,     0.89489,      0.8959,      0.8969,      0.8979,      0.8989,      0.8999,      0.9009,      0.9019,      0.9029,      0.9039,      0.9049,     0.90591,     0.90691,     0.90791,     0.90891,     0.90991,     0.91091,     0.91191,\n",
       "           0.91291,     0.91391,     0.91491,     0.91592,     0.91692,     0.91792,     0.91892,     0.91992,     0.92092,     0.92192,     0.92292,     0.92392,     0.92492,     0.92593,     0.92693,     0.92793,     0.92893,     0.92993,     0.93093,     0.93193,     0.93293,     0.93393,     0.93493,     0.93594,\n",
       "           0.93694,     0.93794,     0.93894,     0.93994,     0.94094,     0.94194,     0.94294,     0.94394,     0.94494,     0.94595,     0.94695,     0.94795,     0.94895,     0.94995,     0.95095,     0.95195,     0.95295,     0.95395,     0.95495,     0.95596,     0.95696,     0.95796,     0.95896,     0.95996,\n",
       "           0.96096,     0.96196,     0.96296,     0.96396,     0.96496,     0.96597,     0.96697,     0.96797,     0.96897,     0.96997,     0.97097,     0.97197,     0.97297,     0.97397,     0.97497,     0.97598,     0.97698,     0.97798,     0.97898,     0.97998,     0.98098,     0.98198,     0.98298,     0.98398,\n",
       "           0.98498,     0.98599,     0.98699,     0.98799,     0.98899,     0.98999,     0.99099,     0.99199,     0.99299,     0.99399,     0.99499,       0.996,       0.997,       0.998,       0.999,           1]), array([[   0.035362,    0.035362,    0.069045,     0.12237,      0.1906,     0.25589,     0.32429,     0.38338,     0.43631,     0.48922,     0.52811,     0.57976,     0.60417,     0.62073,      0.6374,      0.6462,     0.67312,     0.69433,     0.70539,     0.71913,     0.72625,     0.72792,     0.73154,\n",
       "            0.73537,     0.74367,     0.75783,     0.76521,     0.77093,     0.78286,     0.78459,     0.78631,     0.79068,     0.80275,     0.80719,     0.81955,     0.82138,      0.8232,      0.8379,     0.84344,     0.84635,     0.84987,     0.85404,     0.85544,     0.85682,     0.85821,     0.86441,\n",
       "            0.86742,     0.86981,     0.87066,     0.87152,     0.87237,     0.87322,     0.87407,     0.87492,     0.87654,     0.87824,     0.87994,     0.88306,     0.89202,     0.89369,     0.89536,     0.89702,      0.8988,     0.90061,     0.90242,      0.9038,     0.90484,     0.90588,     0.90692,\n",
       "            0.90795,     0.90898,     0.91008,     0.91119,     0.91229,      0.9134,      0.9145,     0.91825,     0.92149,     0.92228,     0.92308,     0.92387,     0.92466,     0.92544,     0.92623,     0.92702,     0.92803,     0.92909,     0.93015,     0.93121,     0.93226,     0.93331,     0.93389,\n",
       "            0.93446,     0.93503,      0.9356,     0.93617,     0.93674,      0.9373,     0.93787,     0.93844,       0.939,     0.93957,     0.94044,     0.94133,     0.94221,      0.9431,     0.94398,     0.94486,     0.94574,     0.94662,      0.9475,     0.94838,     0.94925,     0.95013,       0.951,\n",
       "            0.95188,      0.9533,     0.95547,     0.95764,     0.95936,     0.96046,     0.96156,     0.96266,     0.96376,     0.96485,     0.96576,     0.96639,     0.96701,     0.96764,     0.96826,     0.96889,     0.96951,     0.97013,     0.97076,     0.97138,       0.972,     0.97226,     0.97231,\n",
       "            0.97237,     0.97242,     0.97248,     0.97254,     0.97259,     0.97265,      0.9727,     0.97276,     0.97281,     0.97287,     0.97293,     0.97298,     0.97304,     0.97309,     0.97315,      0.9732,     0.97326,     0.97332,     0.97337,     0.97343,     0.97348,     0.97354,     0.97359,\n",
       "            0.97365,      0.9737,     0.97376,     0.97382,     0.97387,     0.97393,     0.97398,     0.97404,     0.97409,     0.97415,      0.9742,     0.97426,     0.97431,     0.97437,     0.97443,     0.97448,     0.97454,     0.97459,     0.97465,      0.9747,     0.97476,     0.97481,     0.97487,\n",
       "            0.97492,     0.97498,     0.97504,     0.97509,     0.97515,      0.9752,     0.97526,     0.97531,     0.97537,     0.97542,     0.97548,     0.97553,     0.97559,     0.97564,      0.9757,     0.97576,     0.97581,     0.97587,     0.97592,     0.97598,     0.97603,     0.97609,     0.97614,\n",
       "             0.9762,     0.97625,     0.97631,     0.97636,     0.97642,     0.97647,     0.97653,     0.97658,     0.97664,      0.9767,     0.97675,     0.97681,     0.97686,     0.97692,     0.97697,     0.97703,     0.97708,     0.97714,     0.97719,     0.97725,      0.9773,     0.97736,     0.97741,\n",
       "            0.97747,     0.97752,     0.97758,     0.97763,     0.97769,     0.97774,      0.9778,     0.97785,     0.97791,     0.97796,     0.97802,     0.97807,     0.97813,     0.97818,     0.97824,     0.97829,     0.97835,      0.9784,     0.97846,     0.97851,     0.97857,     0.97862,     0.97868,\n",
       "            0.97873,     0.97879,     0.97884,      0.9789,     0.97895,     0.97901,     0.97904,     0.97906,     0.97908,      0.9791,     0.97912,     0.97914,     0.97916,     0.97918,     0.97919,     0.97921,     0.97923,     0.97925,     0.97927,     0.97929,     0.97931,     0.97933,     0.97935,\n",
       "            0.97937,     0.97939,     0.97941,     0.97943,     0.97945,     0.97947,     0.97949,     0.97951,     0.97953,     0.97955,     0.97957,     0.97959,     0.97961,     0.97963,     0.97965,     0.97967,     0.97969,     0.97971,     0.97973,     0.97975,     0.97977,     0.97979,     0.97981,\n",
       "            0.97983,     0.97985,     0.97987,     0.97989,     0.97991,     0.97993,     0.97995,     0.97997,     0.97999,     0.98001,     0.98003,     0.98004,     0.98006,     0.98008,      0.9801,     0.98012,     0.98014,     0.98016,     0.98018,      0.9802,     0.98022,     0.98024,     0.98026,\n",
       "            0.98028,      0.9803,     0.98032,     0.98034,     0.98036,     0.98038,      0.9804,     0.98042,     0.98044,     0.98046,     0.98048,      0.9805,     0.98052,     0.98054,     0.98056,     0.98058,      0.9806,     0.98062,     0.98064,     0.98066,     0.98068,      0.9807,     0.98072,\n",
       "            0.98074,     0.98076,     0.98077,     0.98079,     0.98081,     0.98083,     0.98085,     0.98087,     0.98089,     0.98091,     0.98093,     0.98095,     0.98097,     0.98099,     0.98101,     0.98103,     0.98105,     0.98107,     0.98109,     0.98111,     0.98113,     0.98115,     0.98117,\n",
       "            0.98119,     0.98121,     0.98123,     0.98125,     0.98127,     0.98129,     0.98131,     0.98133,     0.98135,     0.98137,     0.98139,     0.98141,     0.98143,     0.98144,     0.98146,     0.98148,      0.9815,     0.98152,     0.98154,     0.98156,     0.98158,      0.9816,     0.98162,\n",
       "            0.98164,     0.98166,     0.98168,      0.9817,     0.98172,     0.98174,     0.98176,     0.98178,      0.9818,     0.98182,     0.98184,     0.98186,     0.98188,      0.9819,     0.98192,     0.98194,     0.98196,     0.98198,       0.982,     0.98202,     0.98204,     0.98205,     0.98207,\n",
       "            0.98209,     0.98211,     0.98213,     0.98215,     0.98217,     0.98219,     0.98221,     0.98223,     0.98225,     0.98227,     0.98229,     0.98231,     0.98233,     0.98235,     0.98237,     0.98239,     0.98241,     0.98243,     0.98245,     0.98247,     0.98249,     0.98251,     0.98253,\n",
       "            0.98255,     0.98257,     0.98259,     0.98261,     0.98263,     0.98264,     0.98266,     0.98268,      0.9827,     0.98272,     0.98274,     0.98276,     0.98278,      0.9828,     0.98282,     0.98284,     0.98286,     0.98288,      0.9829,     0.98292,     0.98294,     0.98296,     0.98298,\n",
       "              0.983,     0.98302,     0.98304,     0.98306,     0.98308,      0.9831,     0.98312,     0.98314,     0.98316,     0.98317,     0.98319,     0.98321,     0.98323,     0.98325,     0.98327,     0.98329,     0.98331,     0.98333,     0.98335,     0.98337,     0.98339,     0.98341,     0.98343,\n",
       "            0.98345,     0.98347,     0.98349,     0.98351,     0.98353,     0.98355,     0.98357,     0.98359,     0.98361,     0.98363,     0.98365,     0.98367,     0.98368,      0.9837,     0.98372,     0.98374,     0.98376,     0.98378,      0.9838,     0.98382,     0.98384,     0.98386,     0.98388,\n",
       "             0.9839,     0.98392,     0.98394,     0.98396,     0.98398,       0.984,     0.98402,     0.98404,     0.98406,     0.98408,      0.9841,     0.98412,     0.98414,     0.98416,     0.98417,     0.98419,     0.98421,     0.98423,     0.98425,     0.98427,     0.98429,     0.98431,     0.98433,\n",
       "            0.98435,     0.98437,     0.98439,     0.98441,     0.98443,     0.98445,     0.98447,     0.98449,     0.98451,     0.98453,     0.98455,     0.98457,     0.98459,     0.98461,     0.98463,     0.98464,     0.98466,     0.98468,      0.9847,     0.98472,     0.98474,     0.98476,     0.98478,\n",
       "             0.9848,     0.98482,     0.98484,     0.98486,     0.98488,      0.9849,     0.98492,     0.98494,     0.98496,     0.98498,       0.985,     0.98502,     0.98504,     0.98506,     0.98507,     0.98509,     0.98511,     0.98513,     0.98515,     0.98517,     0.98519,     0.98521,     0.98523,\n",
       "            0.98525,     0.98527,     0.98529,     0.98531,     0.98533,     0.98535,     0.98537,     0.98539,     0.98541,     0.98543,     0.98545,     0.98547,     0.98549,      0.9855,     0.98552,     0.98554,     0.98556,     0.98558,      0.9856,     0.98562,     0.98564,     0.98566,     0.98568,\n",
       "             0.9857,     0.98572,     0.98574,     0.98576,     0.98578,      0.9858,     0.98582,     0.98584,     0.98586,     0.98588,      0.9859,     0.98592,     0.98596,       0.986,     0.98605,     0.98609,     0.98614,     0.98618,     0.98622,     0.98627,     0.98631,     0.98636,      0.9864,\n",
       "            0.98645,     0.98649,     0.98653,     0.98658,     0.98662,     0.98667,     0.98671,     0.98675,      0.9868,     0.98684,     0.98689,     0.98693,     0.98698,     0.98702,     0.98706,     0.98711,     0.98715,      0.9872,     0.98724,     0.98728,     0.98733,     0.98737,     0.98742,\n",
       "            0.98746,     0.98751,     0.98755,     0.98759,     0.98764,     0.98768,     0.98773,     0.98777,     0.98781,     0.98786,      0.9879,     0.98795,     0.98799,     0.98803,     0.98808,     0.98812,     0.98817,     0.98821,     0.98825,      0.9883,     0.98834,     0.98839,     0.98843,\n",
       "            0.98848,     0.98852,     0.98856,     0.98861,     0.98865,      0.9887,     0.98874,     0.98878,     0.98883,     0.98887,     0.98892,     0.98896,       0.989,     0.98905,     0.98909,     0.98914,     0.98918,     0.98922,     0.98927,     0.98931,     0.98936,      0.9894,     0.98944,\n",
       "            0.98949,     0.98953,     0.98957,     0.98962,     0.98966,     0.98971,     0.98975,     0.98979,     0.98984,     0.98988,     0.98993,     0.98997,     0.99001,     0.99006,      0.9901,     0.99015,     0.99019,     0.99023,     0.99028,     0.99032,     0.99037,     0.99041,     0.99045,\n",
       "             0.9905,     0.99054,     0.99058,     0.99063,     0.99067,     0.99072,     0.99076,      0.9908,     0.99085,     0.99089,     0.99094,     0.99098,     0.99102,     0.99107,     0.99111,     0.99115,      0.9912,     0.99124,     0.99129,     0.99133,     0.99137,     0.99142,     0.99146,\n",
       "             0.9915,     0.99155,     0.99159,     0.99164,     0.99168,     0.99172,     0.99177,     0.99181,     0.99185,      0.9919,     0.99194,     0.99199,     0.99203,     0.99207,     0.99212,     0.99216,      0.9922,     0.99225,     0.99229,     0.99234,     0.99238,     0.99242,     0.99247,\n",
       "            0.99251,     0.99255,      0.9926,     0.99264,     0.99269,     0.99273,     0.99277,     0.99282,     0.99286,      0.9929,     0.99287,     0.99284,      0.9928,     0.99276,     0.99273,     0.99269,     0.99265,     0.99262,     0.99258,     0.99254,      0.9925,     0.99247,     0.99243,\n",
       "            0.99239,     0.99236,     0.99232,     0.99228,     0.99225,     0.99221,     0.99217,     0.99214,      0.9921,     0.99206,     0.99202,     0.99199,     0.99195,     0.99191,     0.99188,     0.99184,      0.9918,     0.99177,     0.99173,     0.99169,     0.99165,     0.99162,     0.99158,\n",
       "            0.99154,     0.99151,     0.99147,     0.99143,     0.99139,     0.99136,     0.99132,     0.99128,     0.99125,     0.99121,     0.99117,     0.99114,      0.9911,     0.99106,     0.99102,     0.99099,     0.99095,     0.99091,     0.99088,     0.99084,      0.9908,     0.99076,     0.99073,\n",
       "            0.99069,     0.99065,     0.99062,     0.99058,     0.99054,     0.99051,     0.99047,     0.99043,     0.99039,     0.99036,     0.99032,     0.99028,     0.99025,     0.99021,     0.99017,     0.99013,      0.9901,     0.99006,     0.99002,     0.98999,     0.98995,     0.98991,     0.98987,\n",
       "            0.98984,      0.9898,     0.98976,     0.98973,     0.98969,     0.98965,     0.98961,     0.98958,     0.98954,      0.9895,     0.98946,     0.98943,     0.98939,     0.98935,     0.98932,     0.98928,     0.98924,      0.9892,     0.98917,     0.98913,     0.98909,     0.98906,     0.98902,\n",
       "            0.98898,     0.98894,     0.98891,     0.98887,     0.98883,      0.9888,     0.98876,     0.98872,     0.98868,     0.98865,     0.98861,     0.98857,     0.98853,      0.9885,     0.98846,     0.98842,     0.98839,     0.98835,     0.98831,     0.98827,     0.98824,      0.9882,     0.98816,\n",
       "            0.98812,     0.98809,     0.98805,     0.98801,     0.98798,     0.98794,      0.9879,     0.98786,     0.98783,     0.98779,     0.98775,     0.98771,     0.98768,     0.98764,      0.9876,     0.98757,     0.98753,     0.98749,     0.98745,     0.98742,     0.98738,     0.98734,      0.9873,\n",
       "            0.98727,     0.98723,     0.98719,     0.98715,     0.98712,     0.98708,     0.98704,     0.98701,     0.98697,     0.98693,     0.98689,     0.98686,     0.98682,     0.98678,     0.98674,     0.98671,     0.98667,     0.98663,     0.98659,     0.98656,     0.98652,     0.98648,     0.98644,\n",
       "            0.98641,     0.98637,     0.98633,     0.98629,     0.98626,     0.98622,     0.98618,     0.98615,     0.98611,     0.98607,     0.98603,       0.986,     0.98596,     0.98592,     0.98588,     0.98585,     0.98581,     0.98577,     0.98573,     0.98504,     0.98365,     0.98225,     0.98086,\n",
       "            0.97945,     0.97813,     0.97704,     0.97594,     0.97484,     0.97374,     0.97263,     0.97153,     0.96244,     0.96034,     0.95823,     0.95611,     0.95411,     0.95212,     0.95012,      0.9481,     0.94575,     0.94338,       0.941,     0.93712,     0.93258,     0.93491,     0.92164,\n",
       "             0.9186,     0.91554,     0.90337,     0.87905,     0.83929,     0.80771,     0.75249,     0.57518,     0.24623,     0.10208,           0]]), 'Confidence', 'F1'], [array([          0,    0.001001,    0.002002,    0.003003,    0.004004,    0.005005,    0.006006,    0.007007,    0.008008,    0.009009,     0.01001,    0.011011,    0.012012,    0.013013,    0.014014,    0.015015,    0.016016,    0.017017,    0.018018,    0.019019,     0.02002,    0.021021,    0.022022,    0.023023,\n",
       "          0.024024,    0.025025,    0.026026,    0.027027,    0.028028,    0.029029,     0.03003,    0.031031,    0.032032,    0.033033,    0.034034,    0.035035,    0.036036,    0.037037,    0.038038,    0.039039,     0.04004,    0.041041,    0.042042,    0.043043,    0.044044,    0.045045,    0.046046,    0.047047,\n",
       "          0.048048,    0.049049,     0.05005,    0.051051,    0.052052,    0.053053,    0.054054,    0.055055,    0.056056,    0.057057,    0.058058,    0.059059,     0.06006,    0.061061,    0.062062,    0.063063,    0.064064,    0.065065,    0.066066,    0.067067,    0.068068,    0.069069,     0.07007,    0.071071,\n",
       "          0.072072,    0.073073,    0.074074,    0.075075,    0.076076,    0.077077,    0.078078,    0.079079,     0.08008,    0.081081,    0.082082,    0.083083,    0.084084,    0.085085,    0.086086,    0.087087,    0.088088,    0.089089,     0.09009,    0.091091,    0.092092,    0.093093,    0.094094,    0.095095,\n",
       "          0.096096,    0.097097,    0.098098,    0.099099,      0.1001,      0.1011,      0.1021,      0.1031,      0.1041,     0.10511,     0.10611,     0.10711,     0.10811,     0.10911,     0.11011,     0.11111,     0.11211,     0.11311,     0.11411,     0.11512,     0.11612,     0.11712,     0.11812,     0.11912,\n",
       "           0.12012,     0.12112,     0.12212,     0.12312,     0.12412,     0.12513,     0.12613,     0.12713,     0.12813,     0.12913,     0.13013,     0.13113,     0.13213,     0.13313,     0.13413,     0.13514,     0.13614,     0.13714,     0.13814,     0.13914,     0.14014,     0.14114,     0.14214,     0.14314,\n",
       "           0.14414,     0.14515,     0.14615,     0.14715,     0.14815,     0.14915,     0.15015,     0.15115,     0.15215,     0.15315,     0.15415,     0.15516,     0.15616,     0.15716,     0.15816,     0.15916,     0.16016,     0.16116,     0.16216,     0.16316,     0.16416,     0.16517,     0.16617,     0.16717,\n",
       "           0.16817,     0.16917,     0.17017,     0.17117,     0.17217,     0.17317,     0.17417,     0.17518,     0.17618,     0.17718,     0.17818,     0.17918,     0.18018,     0.18118,     0.18218,     0.18318,     0.18418,     0.18519,     0.18619,     0.18719,     0.18819,     0.18919,     0.19019,     0.19119,\n",
       "           0.19219,     0.19319,     0.19419,      0.1952,      0.1962,      0.1972,      0.1982,      0.1992,      0.2002,      0.2012,      0.2022,      0.2032,      0.2042,     0.20521,     0.20621,     0.20721,     0.20821,     0.20921,     0.21021,     0.21121,     0.21221,     0.21321,     0.21421,     0.21522,\n",
       "           0.21622,     0.21722,     0.21822,     0.21922,     0.22022,     0.22122,     0.22222,     0.22322,     0.22422,     0.22523,     0.22623,     0.22723,     0.22823,     0.22923,     0.23023,     0.23123,     0.23223,     0.23323,     0.23423,     0.23524,     0.23624,     0.23724,     0.23824,     0.23924,\n",
       "           0.24024,     0.24124,     0.24224,     0.24324,     0.24424,     0.24525,     0.24625,     0.24725,     0.24825,     0.24925,     0.25025,     0.25125,     0.25225,     0.25325,     0.25425,     0.25526,     0.25626,     0.25726,     0.25826,     0.25926,     0.26026,     0.26126,     0.26226,     0.26326,\n",
       "           0.26426,     0.26527,     0.26627,     0.26727,     0.26827,     0.26927,     0.27027,     0.27127,     0.27227,     0.27327,     0.27427,     0.27528,     0.27628,     0.27728,     0.27828,     0.27928,     0.28028,     0.28128,     0.28228,     0.28328,     0.28428,     0.28529,     0.28629,     0.28729,\n",
       "           0.28829,     0.28929,     0.29029,     0.29129,     0.29229,     0.29329,     0.29429,      0.2953,      0.2963,      0.2973,      0.2983,      0.2993,      0.3003,      0.3013,      0.3023,      0.3033,      0.3043,     0.30531,     0.30631,     0.30731,     0.30831,     0.30931,     0.31031,     0.31131,\n",
       "           0.31231,     0.31331,     0.31431,     0.31532,     0.31632,     0.31732,     0.31832,     0.31932,     0.32032,     0.32132,     0.32232,     0.32332,     0.32432,     0.32533,     0.32633,     0.32733,     0.32833,     0.32933,     0.33033,     0.33133,     0.33233,     0.33333,     0.33433,     0.33534,\n",
       "           0.33634,     0.33734,     0.33834,     0.33934,     0.34034,     0.34134,     0.34234,     0.34334,     0.34434,     0.34535,     0.34635,     0.34735,     0.34835,     0.34935,     0.35035,     0.35135,     0.35235,     0.35335,     0.35435,     0.35536,     0.35636,     0.35736,     0.35836,     0.35936,\n",
       "           0.36036,     0.36136,     0.36236,     0.36336,     0.36436,     0.36537,     0.36637,     0.36737,     0.36837,     0.36937,     0.37037,     0.37137,     0.37237,     0.37337,     0.37437,     0.37538,     0.37638,     0.37738,     0.37838,     0.37938,     0.38038,     0.38138,     0.38238,     0.38338,\n",
       "           0.38438,     0.38539,     0.38639,     0.38739,     0.38839,     0.38939,     0.39039,     0.39139,     0.39239,     0.39339,     0.39439,      0.3954,      0.3964,      0.3974,      0.3984,      0.3994,      0.4004,      0.4014,      0.4024,      0.4034,      0.4044,     0.40541,     0.40641,     0.40741,\n",
       "           0.40841,     0.40941,     0.41041,     0.41141,     0.41241,     0.41341,     0.41441,     0.41542,     0.41642,     0.41742,     0.41842,     0.41942,     0.42042,     0.42142,     0.42242,     0.42342,     0.42442,     0.42543,     0.42643,     0.42743,     0.42843,     0.42943,     0.43043,     0.43143,\n",
       "           0.43243,     0.43343,     0.43443,     0.43544,     0.43644,     0.43744,     0.43844,     0.43944,     0.44044,     0.44144,     0.44244,     0.44344,     0.44444,     0.44545,     0.44645,     0.44745,     0.44845,     0.44945,     0.45045,     0.45145,     0.45245,     0.45345,     0.45445,     0.45546,\n",
       "           0.45646,     0.45746,     0.45846,     0.45946,     0.46046,     0.46146,     0.46246,     0.46346,     0.46446,     0.46547,     0.46647,     0.46747,     0.46847,     0.46947,     0.47047,     0.47147,     0.47247,     0.47347,     0.47447,     0.47548,     0.47648,     0.47748,     0.47848,     0.47948,\n",
       "           0.48048,     0.48148,     0.48248,     0.48348,     0.48448,     0.48549,     0.48649,     0.48749,     0.48849,     0.48949,     0.49049,     0.49149,     0.49249,     0.49349,     0.49449,      0.4955,      0.4965,      0.4975,      0.4985,      0.4995,      0.5005,      0.5015,      0.5025,      0.5035,\n",
       "            0.5045,     0.50551,     0.50651,     0.50751,     0.50851,     0.50951,     0.51051,     0.51151,     0.51251,     0.51351,     0.51451,     0.51552,     0.51652,     0.51752,     0.51852,     0.51952,     0.52052,     0.52152,     0.52252,     0.52352,     0.52452,     0.52553,     0.52653,     0.52753,\n",
       "           0.52853,     0.52953,     0.53053,     0.53153,     0.53253,     0.53353,     0.53453,     0.53554,     0.53654,     0.53754,     0.53854,     0.53954,     0.54054,     0.54154,     0.54254,     0.54354,     0.54454,     0.54555,     0.54655,     0.54755,     0.54855,     0.54955,     0.55055,     0.55155,\n",
       "           0.55255,     0.55355,     0.55455,     0.55556,     0.55656,     0.55756,     0.55856,     0.55956,     0.56056,     0.56156,     0.56256,     0.56356,     0.56456,     0.56557,     0.56657,     0.56757,     0.56857,     0.56957,     0.57057,     0.57157,     0.57257,     0.57357,     0.57457,     0.57558,\n",
       "           0.57658,     0.57758,     0.57858,     0.57958,     0.58058,     0.58158,     0.58258,     0.58358,     0.58458,     0.58559,     0.58659,     0.58759,     0.58859,     0.58959,     0.59059,     0.59159,     0.59259,     0.59359,     0.59459,      0.5956,      0.5966,      0.5976,      0.5986,      0.5996,\n",
       "            0.6006,      0.6016,      0.6026,      0.6036,      0.6046,     0.60561,     0.60661,     0.60761,     0.60861,     0.60961,     0.61061,     0.61161,     0.61261,     0.61361,     0.61461,     0.61562,     0.61662,     0.61762,     0.61862,     0.61962,     0.62062,     0.62162,     0.62262,     0.62362,\n",
       "           0.62462,     0.62563,     0.62663,     0.62763,     0.62863,     0.62963,     0.63063,     0.63163,     0.63263,     0.63363,     0.63463,     0.63564,     0.63664,     0.63764,     0.63864,     0.63964,     0.64064,     0.64164,     0.64264,     0.64364,     0.64464,     0.64565,     0.64665,     0.64765,\n",
       "           0.64865,     0.64965,     0.65065,     0.65165,     0.65265,     0.65365,     0.65465,     0.65566,     0.65666,     0.65766,     0.65866,     0.65966,     0.66066,     0.66166,     0.66266,     0.66366,     0.66466,     0.66567,     0.66667,     0.66767,     0.66867,     0.66967,     0.67067,     0.67167,\n",
       "           0.67267,     0.67367,     0.67467,     0.67568,     0.67668,     0.67768,     0.67868,     0.67968,     0.68068,     0.68168,     0.68268,     0.68368,     0.68468,     0.68569,     0.68669,     0.68769,     0.68869,     0.68969,     0.69069,     0.69169,     0.69269,     0.69369,     0.69469,      0.6957,\n",
       "            0.6967,      0.6977,      0.6987,      0.6997,      0.7007,      0.7017,      0.7027,      0.7037,      0.7047,     0.70571,     0.70671,     0.70771,     0.70871,     0.70971,     0.71071,     0.71171,     0.71271,     0.71371,     0.71471,     0.71572,     0.71672,     0.71772,     0.71872,     0.71972,\n",
       "           0.72072,     0.72172,     0.72272,     0.72372,     0.72472,     0.72573,     0.72673,     0.72773,     0.72873,     0.72973,     0.73073,     0.73173,     0.73273,     0.73373,     0.73473,     0.73574,     0.73674,     0.73774,     0.73874,     0.73974,     0.74074,     0.74174,     0.74274,     0.74374,\n",
       "           0.74474,     0.74575,     0.74675,     0.74775,     0.74875,     0.74975,     0.75075,     0.75175,     0.75275,     0.75375,     0.75475,     0.75576,     0.75676,     0.75776,     0.75876,     0.75976,     0.76076,     0.76176,     0.76276,     0.76376,     0.76476,     0.76577,     0.76677,     0.76777,\n",
       "           0.76877,     0.76977,     0.77077,     0.77177,     0.77277,     0.77377,     0.77477,     0.77578,     0.77678,     0.77778,     0.77878,     0.77978,     0.78078,     0.78178,     0.78278,     0.78378,     0.78478,     0.78579,     0.78679,     0.78779,     0.78879,     0.78979,     0.79079,     0.79179,\n",
       "           0.79279,     0.79379,     0.79479,      0.7958,      0.7968,      0.7978,      0.7988,      0.7998,      0.8008,      0.8018,      0.8028,      0.8038,      0.8048,     0.80581,     0.80681,     0.80781,     0.80881,     0.80981,     0.81081,     0.81181,     0.81281,     0.81381,     0.81481,     0.81582,\n",
       "           0.81682,     0.81782,     0.81882,     0.81982,     0.82082,     0.82182,     0.82282,     0.82382,     0.82482,     0.82583,     0.82683,     0.82783,     0.82883,     0.82983,     0.83083,     0.83183,     0.83283,     0.83383,     0.83483,     0.83584,     0.83684,     0.83784,     0.83884,     0.83984,\n",
       "           0.84084,     0.84184,     0.84284,     0.84384,     0.84484,     0.84585,     0.84685,     0.84785,     0.84885,     0.84985,     0.85085,     0.85185,     0.85285,     0.85385,     0.85485,     0.85586,     0.85686,     0.85786,     0.85886,     0.85986,     0.86086,     0.86186,     0.86286,     0.86386,\n",
       "           0.86486,     0.86587,     0.86687,     0.86787,     0.86887,     0.86987,     0.87087,     0.87187,     0.87287,     0.87387,     0.87487,     0.87588,     0.87688,     0.87788,     0.87888,     0.87988,     0.88088,     0.88188,     0.88288,     0.88388,     0.88488,     0.88589,     0.88689,     0.88789,\n",
       "           0.88889,     0.88989,     0.89089,     0.89189,     0.89289,     0.89389,     0.89489,      0.8959,      0.8969,      0.8979,      0.8989,      0.8999,      0.9009,      0.9019,      0.9029,      0.9039,      0.9049,     0.90591,     0.90691,     0.90791,     0.90891,     0.90991,     0.91091,     0.91191,\n",
       "           0.91291,     0.91391,     0.91491,     0.91592,     0.91692,     0.91792,     0.91892,     0.91992,     0.92092,     0.92192,     0.92292,     0.92392,     0.92492,     0.92593,     0.92693,     0.92793,     0.92893,     0.92993,     0.93093,     0.93193,     0.93293,     0.93393,     0.93493,     0.93594,\n",
       "           0.93694,     0.93794,     0.93894,     0.93994,     0.94094,     0.94194,     0.94294,     0.94394,     0.94494,     0.94595,     0.94695,     0.94795,     0.94895,     0.94995,     0.95095,     0.95195,     0.95295,     0.95395,     0.95495,     0.95596,     0.95696,     0.95796,     0.95896,     0.95996,\n",
       "           0.96096,     0.96196,     0.96296,     0.96396,     0.96496,     0.96597,     0.96697,     0.96797,     0.96897,     0.96997,     0.97097,     0.97197,     0.97297,     0.97397,     0.97497,     0.97598,     0.97698,     0.97798,     0.97898,     0.97998,     0.98098,     0.98198,     0.98298,     0.98398,\n",
       "           0.98498,     0.98599,     0.98699,     0.98799,     0.98899,     0.98999,     0.99099,     0.99199,     0.99299,     0.99399,     0.99499,       0.996,       0.997,       0.998,       0.999,           1]), array([[   0.017999,    0.017999,    0.035757,    0.065175,     0.10534,     0.14671,     0.19352,     0.23715,     0.27903,     0.32382,     0.35879,     0.40821,     0.43284,     0.45004,     0.46778,     0.47732,     0.50729,     0.53178,     0.54486,     0.56144,     0.57017,     0.57222,     0.57672,\n",
       "            0.58148,     0.59194,     0.61009,     0.61971,     0.62724,     0.64319,     0.64553,     0.64787,     0.65382,     0.67049,     0.67672,     0.69427,     0.69689,     0.69952,     0.72103,     0.72926,     0.73363,     0.73894,     0.74527,     0.74739,     0.74951,     0.75164,      0.7612,\n",
       "            0.76588,     0.76961,     0.77095,     0.77229,     0.77363,     0.77497,     0.77631,     0.77765,     0.78021,     0.78291,     0.78561,      0.7906,     0.80508,     0.80781,     0.81054,     0.81327,      0.8162,      0.8192,     0.82219,     0.82449,     0.82622,     0.82795,     0.82969,\n",
       "            0.83142,     0.83315,       0.835,     0.83687,     0.83873,      0.8406,     0.84246,     0.84886,     0.85441,     0.85578,     0.85714,     0.85851,     0.85987,     0.86123,      0.8626,     0.86396,     0.86573,     0.86757,     0.86942,     0.87127,     0.87311,     0.87496,     0.87598,\n",
       "            0.87699,     0.87799,     0.87899,        0.88,       0.881,     0.88201,     0.88301,     0.88401,     0.88502,     0.88602,     0.88757,     0.88916,     0.89074,     0.89232,      0.8939,     0.89548,     0.89707,     0.89865,     0.90024,     0.90182,     0.90341,       0.905,     0.90658,\n",
       "            0.90817,     0.91076,     0.91474,     0.91872,      0.9219,     0.92393,     0.92597,     0.92801,     0.93005,     0.93209,     0.93379,     0.93496,     0.93613,     0.93731,     0.93848,     0.93965,     0.94083,       0.942,     0.94317,     0.94435,     0.94552,     0.94601,     0.94612,\n",
       "            0.94622,     0.94633,     0.94644,     0.94654,     0.94665,     0.94675,     0.94686,     0.94696,     0.94707,     0.94717,     0.94728,     0.94738,     0.94749,      0.9476,      0.9477,     0.94781,     0.94791,     0.94802,     0.94812,     0.94823,     0.94833,     0.94844,     0.94854,\n",
       "            0.94865,     0.94876,     0.94886,     0.94897,     0.94907,     0.94918,     0.94928,     0.94939,     0.94949,      0.9496,     0.94971,     0.94981,     0.94992,     0.95002,     0.95013,     0.95023,     0.95034,     0.95044,     0.95055,     0.95065,     0.95076,     0.95087,     0.95097,\n",
       "            0.95108,     0.95118,     0.95129,     0.95139,      0.9515,      0.9516,     0.95171,     0.95181,     0.95192,     0.95203,     0.95213,     0.95224,     0.95234,     0.95245,     0.95255,     0.95266,     0.95276,     0.95287,     0.95298,     0.95308,     0.95319,     0.95329,      0.9534,\n",
       "             0.9535,     0.95361,     0.95371,     0.95382,     0.95392,     0.95403,     0.95414,     0.95424,     0.95435,     0.95445,     0.95456,     0.95466,     0.95477,     0.95487,     0.95498,     0.95508,     0.95519,      0.9553,      0.9554,     0.95551,     0.95561,     0.95572,     0.95582,\n",
       "            0.95593,     0.95603,     0.95614,     0.95625,     0.95635,     0.95646,     0.95656,     0.95667,     0.95677,     0.95688,     0.95698,     0.95709,     0.95719,      0.9573,     0.95741,     0.95751,     0.95762,     0.95772,     0.95783,     0.95793,     0.95804,     0.95814,     0.95825,\n",
       "            0.95836,     0.95846,     0.95857,     0.95867,     0.95878,     0.95888,     0.95893,     0.95897,     0.95901,     0.95905,     0.95909,     0.95912,     0.95916,      0.9592,     0.95924,     0.95928,     0.95931,     0.95935,     0.95939,     0.95943,     0.95947,      0.9595,     0.95954,\n",
       "            0.95958,     0.95962,     0.95966,     0.95969,     0.95973,     0.95977,     0.95981,     0.95985,     0.95988,     0.95992,     0.95996,        0.96,     0.96004,     0.96007,     0.96011,     0.96015,     0.96019,     0.96023,     0.96026,      0.9603,     0.96034,     0.96038,     0.96041,\n",
       "            0.96045,     0.96049,     0.96053,     0.96057,      0.9606,     0.96064,     0.96068,     0.96072,     0.96076,     0.96079,     0.96083,     0.96087,     0.96091,     0.96095,     0.96098,     0.96102,     0.96106,      0.9611,     0.96114,     0.96117,     0.96121,     0.96125,     0.96129,\n",
       "            0.96133,     0.96136,      0.9614,     0.96144,     0.96148,     0.96152,     0.96155,     0.96159,     0.96163,     0.96167,     0.96171,     0.96174,     0.96178,     0.96182,     0.96186,      0.9619,     0.96193,     0.96197,     0.96201,     0.96205,     0.96209,     0.96212,     0.96216,\n",
       "             0.9622,     0.96224,     0.96228,     0.96231,     0.96235,     0.96239,     0.96243,     0.96246,      0.9625,     0.96254,     0.96258,     0.96262,     0.96265,     0.96269,     0.96273,     0.96277,     0.96281,     0.96284,     0.96288,     0.96292,     0.96296,       0.963,     0.96303,\n",
       "            0.96307,     0.96311,     0.96315,     0.96319,     0.96322,     0.96326,      0.9633,     0.96334,     0.96338,     0.96341,     0.96345,     0.96349,     0.96353,     0.96357,      0.9636,     0.96364,     0.96368,     0.96372,     0.96376,     0.96379,     0.96383,     0.96387,     0.96391,\n",
       "            0.96395,     0.96398,     0.96402,     0.96406,      0.9641,     0.96414,     0.96417,     0.96421,     0.96425,     0.96429,     0.96433,     0.96436,      0.9644,     0.96444,     0.96448,     0.96451,     0.96455,     0.96459,     0.96463,     0.96467,      0.9647,     0.96474,     0.96478,\n",
       "            0.96482,     0.96486,     0.96489,     0.96493,     0.96497,     0.96501,     0.96505,     0.96508,     0.96512,     0.96516,      0.9652,     0.96524,     0.96527,     0.96531,     0.96535,     0.96539,     0.96543,     0.96546,      0.9655,     0.96554,     0.96558,     0.96562,     0.96565,\n",
       "            0.96569,     0.96573,     0.96577,     0.96581,     0.96584,     0.96588,     0.96592,     0.96596,       0.966,     0.96603,     0.96607,     0.96611,     0.96615,     0.96619,     0.96622,     0.96626,      0.9663,     0.96634,     0.96638,     0.96641,     0.96645,     0.96649,     0.96653,\n",
       "            0.96656,      0.9666,     0.96664,     0.96668,     0.96672,     0.96675,     0.96679,     0.96683,     0.96687,     0.96691,     0.96694,     0.96698,     0.96702,     0.96706,      0.9671,     0.96713,     0.96717,     0.96721,     0.96725,     0.96729,     0.96732,     0.96736,      0.9674,\n",
       "            0.96744,     0.96748,     0.96751,     0.96755,     0.96759,     0.96763,     0.96767,      0.9677,     0.96774,     0.96778,     0.96782,     0.96786,     0.96789,     0.96793,     0.96797,     0.96801,     0.96805,     0.96808,     0.96812,     0.96816,      0.9682,     0.96824,     0.96827,\n",
       "            0.96831,     0.96835,     0.96839,     0.96843,     0.96846,      0.9685,     0.96854,     0.96858,     0.96861,     0.96865,     0.96869,     0.96873,     0.96877,      0.9688,     0.96884,     0.96888,     0.96892,     0.96896,     0.96899,     0.96903,     0.96907,     0.96911,     0.96915,\n",
       "            0.96918,     0.96922,     0.96926,      0.9693,     0.96934,     0.96937,     0.96941,     0.96945,     0.96949,     0.96953,     0.96956,      0.9696,     0.96964,     0.96968,     0.96972,     0.96975,     0.96979,     0.96983,     0.96987,     0.96991,     0.96994,     0.96998,     0.97002,\n",
       "            0.97006,      0.9701,     0.97013,     0.97017,     0.97021,     0.97025,     0.97029,     0.97032,     0.97036,      0.9704,     0.97044,     0.97048,     0.97051,     0.97055,     0.97059,     0.97063,     0.97066,      0.9707,     0.97074,     0.97078,     0.97082,     0.97085,     0.97089,\n",
       "            0.97093,     0.97097,     0.97101,     0.97104,     0.97108,     0.97112,     0.97116,      0.9712,     0.97123,     0.97127,     0.97131,     0.97135,     0.97139,     0.97142,     0.97146,      0.9715,     0.97154,     0.97158,     0.97161,     0.97165,     0.97169,     0.97173,     0.97177,\n",
       "             0.9718,     0.97184,     0.97188,     0.97192,     0.97196,     0.97199,     0.97203,     0.97207,     0.97211,     0.97215,     0.97218,     0.97222,     0.97231,     0.97239,     0.97248,     0.97256,     0.97265,     0.97274,     0.97282,     0.97291,     0.97299,     0.97308,     0.97317,\n",
       "            0.97325,     0.97334,     0.97343,     0.97351,      0.9736,     0.97368,     0.97377,     0.97386,     0.97394,     0.97403,     0.97411,      0.9742,     0.97429,     0.97437,     0.97446,     0.97454,     0.97463,     0.97472,      0.9748,     0.97489,     0.97497,     0.97506,     0.97515,\n",
       "            0.97523,     0.97532,     0.97541,     0.97549,     0.97558,     0.97566,     0.97575,     0.97584,     0.97592,     0.97601,     0.97609,     0.97618,     0.97627,     0.97635,     0.97644,     0.97652,     0.97661,      0.9767,     0.97678,     0.97687,     0.97695,     0.97704,     0.97713,\n",
       "            0.97721,      0.9773,     0.97739,     0.97747,     0.97756,     0.97764,     0.97773,     0.97782,      0.9779,     0.97799,     0.97807,     0.97816,     0.97825,     0.97833,     0.97842,      0.9785,     0.97859,     0.97868,     0.97876,     0.97885,     0.97893,     0.97902,     0.97911,\n",
       "            0.97919,     0.97928,     0.97936,     0.97945,     0.97954,     0.97962,     0.97971,      0.9798,     0.97988,     0.97997,     0.98005,     0.98014,     0.98023,     0.98031,      0.9804,     0.98048,     0.98057,     0.98066,     0.98074,     0.98083,     0.98091,       0.981,     0.98109,\n",
       "            0.98117,     0.98126,     0.98134,     0.98143,     0.98152,      0.9816,     0.98169,     0.98178,     0.98186,     0.98195,     0.98203,     0.98212,     0.98221,     0.98229,     0.98238,     0.98246,     0.98255,     0.98264,     0.98272,     0.98281,     0.98289,     0.98298,     0.98307,\n",
       "            0.98315,     0.98324,     0.98332,     0.98341,      0.9835,     0.98358,     0.98367,     0.98376,     0.98384,     0.98393,     0.98401,      0.9841,     0.98419,     0.98427,     0.98436,     0.98444,     0.98453,     0.98462,      0.9847,     0.98479,     0.98487,     0.98496,     0.98505,\n",
       "            0.98513,     0.98522,      0.9853,     0.98539,     0.98548,     0.98556,     0.98565,     0.98573,     0.98582,     0.98591,     0.98591,     0.98591,     0.98591,     0.98591,     0.98591,     0.98591,     0.98591,     0.98591,     0.98591,     0.98591,      0.9859,      0.9859,      0.9859,\n",
       "             0.9859,      0.9859,      0.9859,      0.9859,      0.9859,      0.9859,     0.98589,     0.98589,     0.98589,     0.98589,     0.98589,     0.98589,     0.98589,     0.98589,     0.98589,     0.98589,     0.98588,     0.98588,     0.98588,     0.98588,     0.98588,     0.98588,     0.98588,\n",
       "            0.98588,     0.98588,     0.98588,     0.98587,     0.98587,     0.98587,     0.98587,     0.98587,     0.98587,     0.98587,     0.98587,     0.98587,     0.98586,     0.98586,     0.98586,     0.98586,     0.98586,     0.98586,     0.98586,     0.98586,     0.98586,     0.98586,     0.98585,\n",
       "            0.98585,     0.98585,     0.98585,     0.98585,     0.98585,     0.98585,     0.98585,     0.98585,     0.98584,     0.98584,     0.98584,     0.98584,     0.98584,     0.98584,     0.98584,     0.98584,     0.98584,     0.98584,     0.98583,     0.98583,     0.98583,     0.98583,     0.98583,\n",
       "            0.98583,     0.98583,     0.98583,     0.98583,     0.98583,     0.98582,     0.98582,     0.98582,     0.98582,     0.98582,     0.98582,     0.98582,     0.98582,     0.98582,     0.98581,     0.98581,     0.98581,     0.98581,     0.98581,     0.98581,     0.98581,     0.98581,     0.98581,\n",
       "            0.98581,      0.9858,      0.9858,      0.9858,      0.9858,      0.9858,      0.9858,      0.9858,      0.9858,      0.9858,     0.98579,     0.98579,     0.98579,     0.98579,     0.98579,     0.98579,     0.98579,     0.98579,     0.98579,     0.98579,     0.98578,     0.98578,     0.98578,\n",
       "            0.98578,     0.98578,     0.98578,     0.98578,     0.98578,     0.98578,     0.98578,     0.98577,     0.98577,     0.98577,     0.98577,     0.98577,     0.98577,     0.98577,     0.98577,     0.98577,     0.98576,     0.98576,     0.98576,     0.98576,     0.98576,     0.98576,     0.98576,\n",
       "            0.98576,     0.98576,     0.98576,     0.98575,     0.98575,     0.98575,     0.98575,     0.98575,     0.98575,     0.98575,     0.98575,     0.98575,     0.98574,     0.98574,     0.98574,     0.98574,     0.98574,     0.98574,     0.98574,     0.98574,     0.98574,     0.98574,     0.98573,\n",
       "            0.98573,     0.98573,     0.98573,     0.98573,     0.98573,     0.98573,     0.98573,     0.98573,     0.98573,     0.98572,     0.98572,     0.98572,     0.98572,     0.98572,     0.98572,     0.98572,     0.98572,     0.98572,     0.98571,     0.98569,     0.98566,     0.98562,     0.98558,\n",
       "            0.98554,      0.9855,     0.98547,     0.98544,      0.9854,     0.98537,     0.98534,     0.98531,     0.98504,     0.98498,     0.98492,     0.98486,     0.98479,     0.98473,     0.98467,     0.98461,     0.98454,     0.98447,      0.9844,     0.98428,     0.98413,           1,           1,\n",
       "                  1,           1,           1,           1,           1,           1,           1,           1,           1,           1,           1]]), 'Confidence', 'Precision'], [array([          0,    0.001001,    0.002002,    0.003003,    0.004004,    0.005005,    0.006006,    0.007007,    0.008008,    0.009009,     0.01001,    0.011011,    0.012012,    0.013013,    0.014014,    0.015015,    0.016016,    0.017017,    0.018018,    0.019019,     0.02002,    0.021021,    0.022022,    0.023023,\n",
       "          0.024024,    0.025025,    0.026026,    0.027027,    0.028028,    0.029029,     0.03003,    0.031031,    0.032032,    0.033033,    0.034034,    0.035035,    0.036036,    0.037037,    0.038038,    0.039039,     0.04004,    0.041041,    0.042042,    0.043043,    0.044044,    0.045045,    0.046046,    0.047047,\n",
       "          0.048048,    0.049049,     0.05005,    0.051051,    0.052052,    0.053053,    0.054054,    0.055055,    0.056056,    0.057057,    0.058058,    0.059059,     0.06006,    0.061061,    0.062062,    0.063063,    0.064064,    0.065065,    0.066066,    0.067067,    0.068068,    0.069069,     0.07007,    0.071071,\n",
       "          0.072072,    0.073073,    0.074074,    0.075075,    0.076076,    0.077077,    0.078078,    0.079079,     0.08008,    0.081081,    0.082082,    0.083083,    0.084084,    0.085085,    0.086086,    0.087087,    0.088088,    0.089089,     0.09009,    0.091091,    0.092092,    0.093093,    0.094094,    0.095095,\n",
       "          0.096096,    0.097097,    0.098098,    0.099099,      0.1001,      0.1011,      0.1021,      0.1031,      0.1041,     0.10511,     0.10611,     0.10711,     0.10811,     0.10911,     0.11011,     0.11111,     0.11211,     0.11311,     0.11411,     0.11512,     0.11612,     0.11712,     0.11812,     0.11912,\n",
       "           0.12012,     0.12112,     0.12212,     0.12312,     0.12412,     0.12513,     0.12613,     0.12713,     0.12813,     0.12913,     0.13013,     0.13113,     0.13213,     0.13313,     0.13413,     0.13514,     0.13614,     0.13714,     0.13814,     0.13914,     0.14014,     0.14114,     0.14214,     0.14314,\n",
       "           0.14414,     0.14515,     0.14615,     0.14715,     0.14815,     0.14915,     0.15015,     0.15115,     0.15215,     0.15315,     0.15415,     0.15516,     0.15616,     0.15716,     0.15816,     0.15916,     0.16016,     0.16116,     0.16216,     0.16316,     0.16416,     0.16517,     0.16617,     0.16717,\n",
       "           0.16817,     0.16917,     0.17017,     0.17117,     0.17217,     0.17317,     0.17417,     0.17518,     0.17618,     0.17718,     0.17818,     0.17918,     0.18018,     0.18118,     0.18218,     0.18318,     0.18418,     0.18519,     0.18619,     0.18719,     0.18819,     0.18919,     0.19019,     0.19119,\n",
       "           0.19219,     0.19319,     0.19419,      0.1952,      0.1962,      0.1972,      0.1982,      0.1992,      0.2002,      0.2012,      0.2022,      0.2032,      0.2042,     0.20521,     0.20621,     0.20721,     0.20821,     0.20921,     0.21021,     0.21121,     0.21221,     0.21321,     0.21421,     0.21522,\n",
       "           0.21622,     0.21722,     0.21822,     0.21922,     0.22022,     0.22122,     0.22222,     0.22322,     0.22422,     0.22523,     0.22623,     0.22723,     0.22823,     0.22923,     0.23023,     0.23123,     0.23223,     0.23323,     0.23423,     0.23524,     0.23624,     0.23724,     0.23824,     0.23924,\n",
       "           0.24024,     0.24124,     0.24224,     0.24324,     0.24424,     0.24525,     0.24625,     0.24725,     0.24825,     0.24925,     0.25025,     0.25125,     0.25225,     0.25325,     0.25425,     0.25526,     0.25626,     0.25726,     0.25826,     0.25926,     0.26026,     0.26126,     0.26226,     0.26326,\n",
       "           0.26426,     0.26527,     0.26627,     0.26727,     0.26827,     0.26927,     0.27027,     0.27127,     0.27227,     0.27327,     0.27427,     0.27528,     0.27628,     0.27728,     0.27828,     0.27928,     0.28028,     0.28128,     0.28228,     0.28328,     0.28428,     0.28529,     0.28629,     0.28729,\n",
       "           0.28829,     0.28929,     0.29029,     0.29129,     0.29229,     0.29329,     0.29429,      0.2953,      0.2963,      0.2973,      0.2983,      0.2993,      0.3003,      0.3013,      0.3023,      0.3033,      0.3043,     0.30531,     0.30631,     0.30731,     0.30831,     0.30931,     0.31031,     0.31131,\n",
       "           0.31231,     0.31331,     0.31431,     0.31532,     0.31632,     0.31732,     0.31832,     0.31932,     0.32032,     0.32132,     0.32232,     0.32332,     0.32432,     0.32533,     0.32633,     0.32733,     0.32833,     0.32933,     0.33033,     0.33133,     0.33233,     0.33333,     0.33433,     0.33534,\n",
       "           0.33634,     0.33734,     0.33834,     0.33934,     0.34034,     0.34134,     0.34234,     0.34334,     0.34434,     0.34535,     0.34635,     0.34735,     0.34835,     0.34935,     0.35035,     0.35135,     0.35235,     0.35335,     0.35435,     0.35536,     0.35636,     0.35736,     0.35836,     0.35936,\n",
       "           0.36036,     0.36136,     0.36236,     0.36336,     0.36436,     0.36537,     0.36637,     0.36737,     0.36837,     0.36937,     0.37037,     0.37137,     0.37237,     0.37337,     0.37437,     0.37538,     0.37638,     0.37738,     0.37838,     0.37938,     0.38038,     0.38138,     0.38238,     0.38338,\n",
       "           0.38438,     0.38539,     0.38639,     0.38739,     0.38839,     0.38939,     0.39039,     0.39139,     0.39239,     0.39339,     0.39439,      0.3954,      0.3964,      0.3974,      0.3984,      0.3994,      0.4004,      0.4014,      0.4024,      0.4034,      0.4044,     0.40541,     0.40641,     0.40741,\n",
       "           0.40841,     0.40941,     0.41041,     0.41141,     0.41241,     0.41341,     0.41441,     0.41542,     0.41642,     0.41742,     0.41842,     0.41942,     0.42042,     0.42142,     0.42242,     0.42342,     0.42442,     0.42543,     0.42643,     0.42743,     0.42843,     0.42943,     0.43043,     0.43143,\n",
       "           0.43243,     0.43343,     0.43443,     0.43544,     0.43644,     0.43744,     0.43844,     0.43944,     0.44044,     0.44144,     0.44244,     0.44344,     0.44444,     0.44545,     0.44645,     0.44745,     0.44845,     0.44945,     0.45045,     0.45145,     0.45245,     0.45345,     0.45445,     0.45546,\n",
       "           0.45646,     0.45746,     0.45846,     0.45946,     0.46046,     0.46146,     0.46246,     0.46346,     0.46446,     0.46547,     0.46647,     0.46747,     0.46847,     0.46947,     0.47047,     0.47147,     0.47247,     0.47347,     0.47447,     0.47548,     0.47648,     0.47748,     0.47848,     0.47948,\n",
       "           0.48048,     0.48148,     0.48248,     0.48348,     0.48448,     0.48549,     0.48649,     0.48749,     0.48849,     0.48949,     0.49049,     0.49149,     0.49249,     0.49349,     0.49449,      0.4955,      0.4965,      0.4975,      0.4985,      0.4995,      0.5005,      0.5015,      0.5025,      0.5035,\n",
       "            0.5045,     0.50551,     0.50651,     0.50751,     0.50851,     0.50951,     0.51051,     0.51151,     0.51251,     0.51351,     0.51451,     0.51552,     0.51652,     0.51752,     0.51852,     0.51952,     0.52052,     0.52152,     0.52252,     0.52352,     0.52452,     0.52553,     0.52653,     0.52753,\n",
       "           0.52853,     0.52953,     0.53053,     0.53153,     0.53253,     0.53353,     0.53453,     0.53554,     0.53654,     0.53754,     0.53854,     0.53954,     0.54054,     0.54154,     0.54254,     0.54354,     0.54454,     0.54555,     0.54655,     0.54755,     0.54855,     0.54955,     0.55055,     0.55155,\n",
       "           0.55255,     0.55355,     0.55455,     0.55556,     0.55656,     0.55756,     0.55856,     0.55956,     0.56056,     0.56156,     0.56256,     0.56356,     0.56456,     0.56557,     0.56657,     0.56757,     0.56857,     0.56957,     0.57057,     0.57157,     0.57257,     0.57357,     0.57457,     0.57558,\n",
       "           0.57658,     0.57758,     0.57858,     0.57958,     0.58058,     0.58158,     0.58258,     0.58358,     0.58458,     0.58559,     0.58659,     0.58759,     0.58859,     0.58959,     0.59059,     0.59159,     0.59259,     0.59359,     0.59459,      0.5956,      0.5966,      0.5976,      0.5986,      0.5996,\n",
       "            0.6006,      0.6016,      0.6026,      0.6036,      0.6046,     0.60561,     0.60661,     0.60761,     0.60861,     0.60961,     0.61061,     0.61161,     0.61261,     0.61361,     0.61461,     0.61562,     0.61662,     0.61762,     0.61862,     0.61962,     0.62062,     0.62162,     0.62262,     0.62362,\n",
       "           0.62462,     0.62563,     0.62663,     0.62763,     0.62863,     0.62963,     0.63063,     0.63163,     0.63263,     0.63363,     0.63463,     0.63564,     0.63664,     0.63764,     0.63864,     0.63964,     0.64064,     0.64164,     0.64264,     0.64364,     0.64464,     0.64565,     0.64665,     0.64765,\n",
       "           0.64865,     0.64965,     0.65065,     0.65165,     0.65265,     0.65365,     0.65465,     0.65566,     0.65666,     0.65766,     0.65866,     0.65966,     0.66066,     0.66166,     0.66266,     0.66366,     0.66466,     0.66567,     0.66667,     0.66767,     0.66867,     0.66967,     0.67067,     0.67167,\n",
       "           0.67267,     0.67367,     0.67467,     0.67568,     0.67668,     0.67768,     0.67868,     0.67968,     0.68068,     0.68168,     0.68268,     0.68368,     0.68468,     0.68569,     0.68669,     0.68769,     0.68869,     0.68969,     0.69069,     0.69169,     0.69269,     0.69369,     0.69469,      0.6957,\n",
       "            0.6967,      0.6977,      0.6987,      0.6997,      0.7007,      0.7017,      0.7027,      0.7037,      0.7047,     0.70571,     0.70671,     0.70771,     0.70871,     0.70971,     0.71071,     0.71171,     0.71271,     0.71371,     0.71471,     0.71572,     0.71672,     0.71772,     0.71872,     0.71972,\n",
       "           0.72072,     0.72172,     0.72272,     0.72372,     0.72472,     0.72573,     0.72673,     0.72773,     0.72873,     0.72973,     0.73073,     0.73173,     0.73273,     0.73373,     0.73473,     0.73574,     0.73674,     0.73774,     0.73874,     0.73974,     0.74074,     0.74174,     0.74274,     0.74374,\n",
       "           0.74474,     0.74575,     0.74675,     0.74775,     0.74875,     0.74975,     0.75075,     0.75175,     0.75275,     0.75375,     0.75475,     0.75576,     0.75676,     0.75776,     0.75876,     0.75976,     0.76076,     0.76176,     0.76276,     0.76376,     0.76476,     0.76577,     0.76677,     0.76777,\n",
       "           0.76877,     0.76977,     0.77077,     0.77177,     0.77277,     0.77377,     0.77477,     0.77578,     0.77678,     0.77778,     0.77878,     0.77978,     0.78078,     0.78178,     0.78278,     0.78378,     0.78478,     0.78579,     0.78679,     0.78779,     0.78879,     0.78979,     0.79079,     0.79179,\n",
       "           0.79279,     0.79379,     0.79479,      0.7958,      0.7968,      0.7978,      0.7988,      0.7998,      0.8008,      0.8018,      0.8028,      0.8038,      0.8048,     0.80581,     0.80681,     0.80781,     0.80881,     0.80981,     0.81081,     0.81181,     0.81281,     0.81381,     0.81481,     0.81582,\n",
       "           0.81682,     0.81782,     0.81882,     0.81982,     0.82082,     0.82182,     0.82282,     0.82382,     0.82482,     0.82583,     0.82683,     0.82783,     0.82883,     0.82983,     0.83083,     0.83183,     0.83283,     0.83383,     0.83483,     0.83584,     0.83684,     0.83784,     0.83884,     0.83984,\n",
       "           0.84084,     0.84184,     0.84284,     0.84384,     0.84484,     0.84585,     0.84685,     0.84785,     0.84885,     0.84985,     0.85085,     0.85185,     0.85285,     0.85385,     0.85485,     0.85586,     0.85686,     0.85786,     0.85886,     0.85986,     0.86086,     0.86186,     0.86286,     0.86386,\n",
       "           0.86486,     0.86587,     0.86687,     0.86787,     0.86887,     0.86987,     0.87087,     0.87187,     0.87287,     0.87387,     0.87487,     0.87588,     0.87688,     0.87788,     0.87888,     0.87988,     0.88088,     0.88188,     0.88288,     0.88388,     0.88488,     0.88589,     0.88689,     0.88789,\n",
       "           0.88889,     0.88989,     0.89089,     0.89189,     0.89289,     0.89389,     0.89489,      0.8959,      0.8969,      0.8979,      0.8989,      0.8999,      0.9009,      0.9019,      0.9029,      0.9039,      0.9049,     0.90591,     0.90691,     0.90791,     0.90891,     0.90991,     0.91091,     0.91191,\n",
       "           0.91291,     0.91391,     0.91491,     0.91592,     0.91692,     0.91792,     0.91892,     0.91992,     0.92092,     0.92192,     0.92292,     0.92392,     0.92492,     0.92593,     0.92693,     0.92793,     0.92893,     0.92993,     0.93093,     0.93193,     0.93293,     0.93393,     0.93493,     0.93594,\n",
       "           0.93694,     0.93794,     0.93894,     0.93994,     0.94094,     0.94194,     0.94294,     0.94394,     0.94494,     0.94595,     0.94695,     0.94795,     0.94895,     0.94995,     0.95095,     0.95195,     0.95295,     0.95395,     0.95495,     0.95596,     0.95696,     0.95796,     0.95896,     0.95996,\n",
       "           0.96096,     0.96196,     0.96296,     0.96396,     0.96496,     0.96597,     0.96697,     0.96797,     0.96897,     0.96997,     0.97097,     0.97197,     0.97297,     0.97397,     0.97497,     0.97598,     0.97698,     0.97798,     0.97898,     0.97998,     0.98098,     0.98198,     0.98298,     0.98398,\n",
       "           0.98498,     0.98599,     0.98699,     0.98799,     0.98899,     0.98999,     0.99099,     0.99199,     0.99299,     0.99399,     0.99499,       0.996,       0.997,       0.998,       0.999,           1]), array([[          1,           1,           1,           1,           1,           1,           1,           1,           1,           1,           1,           1,           1,           1,           1,           1,           1,           1,           1,           1,           1,           1,           1,\n",
       "                  1,           1,           1,           1,           1,           1,           1,           1,           1,           1,           1,           1,           1,           1,           1,           1,           1,           1,           1,           1,           1,           1,           1,\n",
       "                  1,           1,           1,           1,           1,           1,           1,           1,           1,           1,           1,           1,           1,           1,           1,           1,           1,           1,           1,           1,           1,           1,           1,\n",
       "                  1,           1,           1,           1,           1,           1,           1,           1,           1,           1,           1,           1,           1,           1,           1,           1,           1,           1,           1,           1,           1,           1,           1,\n",
       "                  1,           1,           1,           1,           1,           1,           1,           1,           1,           1,           1,           1,           1,           1,           1,           1,           1,           1,           1,           1,           1,           1,           1,\n",
       "                  1,           1,           1,           1,           1,           1,           1,           1,           1,           1,           1,           1,           1,           1,           1,           1,           1,           1,           1,           1,           1,           1,           1,\n",
       "                  1,           1,           1,           1,           1,           1,           1,           1,           1,           1,           1,           1,           1,           1,           1,           1,           1,           1,           1,           1,           1,           1,           1,\n",
       "                  1,           1,           1,           1,           1,           1,           1,           1,           1,           1,           1,           1,           1,           1,           1,           1,           1,           1,           1,           1,           1,           1,           1,\n",
       "                  1,           1,           1,           1,           1,           1,           1,           1,           1,           1,           1,           1,           1,           1,           1,           1,           1,           1,           1,           1,           1,           1,           1,\n",
       "                  1,           1,           1,           1,           1,           1,           1,           1,           1,           1,           1,           1,           1,           1,           1,           1,           1,           1,           1,           1,           1,           1,           1,\n",
       "                  1,           1,           1,           1,           1,           1,           1,           1,           1,           1,           1,           1,           1,           1,           1,           1,           1,           1,           1,           1,           1,           1,           1,\n",
       "                  1,           1,           1,           1,           1,           1,           1,           1,           1,           1,           1,           1,           1,           1,           1,           1,           1,           1,           1,           1,           1,           1,           1,\n",
       "                  1,           1,           1,           1,           1,           1,           1,           1,           1,           1,           1,           1,           1,           1,           1,           1,           1,           1,           1,           1,           1,           1,           1,\n",
       "                  1,           1,           1,           1,           1,           1,           1,           1,           1,           1,           1,           1,           1,           1,           1,           1,           1,           1,           1,           1,           1,           1,           1,\n",
       "                  1,           1,           1,           1,           1,           1,           1,           1,           1,           1,           1,           1,           1,           1,           1,           1,           1,           1,           1,           1,           1,           1,           1,\n",
       "                  1,           1,           1,           1,           1,           1,           1,           1,           1,           1,           1,           1,           1,           1,           1,           1,           1,           1,           1,           1,           1,           1,           1,\n",
       "                  1,           1,           1,           1,           1,           1,           1,           1,           1,           1,           1,           1,           1,           1,           1,           1,           1,           1,           1,           1,           1,           1,           1,\n",
       "                  1,           1,           1,           1,           1,           1,           1,           1,           1,           1,           1,           1,           1,           1,           1,           1,           1,           1,           1,           1,           1,           1,           1,\n",
       "                  1,           1,           1,           1,           1,           1,           1,           1,           1,           1,           1,           1,           1,           1,           1,           1,           1,           1,           1,           1,           1,           1,           1,\n",
       "                  1,           1,           1,           1,           1,           1,           1,           1,           1,           1,           1,           1,           1,           1,           1,           1,           1,           1,           1,           1,           1,           1,           1,\n",
       "                  1,           1,           1,           1,           1,           1,           1,           1,           1,           1,           1,           1,           1,           1,           1,           1,           1,           1,           1,           1,           1,           1,           1,\n",
       "                  1,           1,           1,           1,           1,           1,           1,           1,           1,           1,           1,           1,           1,           1,           1,           1,           1,           1,           1,           1,           1,           1,           1,\n",
       "                  1,           1,           1,           1,           1,           1,           1,           1,           1,           1,           1,           1,           1,           1,           1,           1,           1,           1,           1,           1,           1,           1,           1,\n",
       "                  1,           1,           1,           1,           1,           1,           1,           1,           1,           1,           1,           1,           1,           1,           1,           1,           1,           1,           1,           1,           1,           1,           1,\n",
       "                  1,           1,           1,           1,           1,           1,           1,           1,           1,           1,           1,           1,           1,           1,           1,           1,           1,           1,           1,           1,           1,           1,           1,\n",
       "                  1,           1,           1,           1,           1,           1,           1,           1,           1,           1,           1,           1,           1,           1,           1,           1,           1,           1,           1,           1,           1,           1,           1,\n",
       "                  1,           1,           1,           1,           1,           1,           1,           1,           1,           1,           1,           1,           1,           1,           1,           1,           1,           1,           1,           1,           1,           1,           1,\n",
       "                  1,           1,           1,           1,           1,           1,           1,           1,           1,           1,           1,           1,           1,           1,           1,           1,           1,           1,           1,           1,           1,           1,           1,\n",
       "                  1,           1,           1,           1,           1,           1,           1,           1,           1,           1,           1,           1,           1,           1,           1,           1,           1,           1,           1,           1,           1,           1,           1,\n",
       "                  1,           1,           1,           1,           1,           1,           1,           1,           1,           1,           1,           1,           1,           1,           1,           1,           1,           1,           1,           1,           1,           1,           1,\n",
       "                  1,           1,           1,           1,           1,           1,           1,           1,           1,           1,           1,           1,           1,           1,           1,           1,           1,           1,           1,           1,           1,           1,           1,\n",
       "                  1,           1,           1,           1,           1,           1,           1,           1,           1,           1,           1,           1,           1,           1,           1,           1,           1,           1,           1,           1,           1,           1,           1,\n",
       "                  1,           1,           1,           1,           1,           1,           1,           1,           1,           1,           1,           1,           1,           1,           1,           1,           1,           1,           1,           1,           1,           1,           1,\n",
       "                  1,           1,           1,           1,           1,           1,           1,           1,           1,           1,     0.99993,     0.99986,     0.99979,     0.99971,     0.99964,     0.99956,     0.99949,     0.99942,     0.99934,     0.99927,     0.99919,     0.99912,     0.99905,\n",
       "            0.99897,      0.9989,     0.99883,     0.99875,     0.99868,      0.9986,     0.99853,     0.99846,     0.99838,     0.99831,     0.99823,     0.99816,     0.99809,     0.99801,     0.99794,     0.99787,     0.99779,     0.99772,     0.99764,     0.99757,      0.9975,     0.99742,     0.99735,\n",
       "            0.99727,      0.9972,     0.99713,     0.99705,     0.99698,     0.99691,     0.99683,     0.99676,     0.99668,     0.99661,     0.99654,     0.99646,     0.99639,     0.99631,     0.99624,     0.99617,     0.99609,     0.99602,     0.99594,     0.99587,      0.9958,     0.99572,     0.99565,\n",
       "            0.99558,      0.9955,     0.99543,     0.99535,     0.99528,     0.99521,     0.99513,     0.99506,     0.99498,     0.99491,     0.99484,     0.99476,     0.99469,     0.99462,     0.99454,     0.99447,     0.99439,     0.99432,     0.99425,     0.99417,      0.9941,     0.99402,     0.99395,\n",
       "            0.99388,      0.9938,     0.99373,     0.99366,     0.99358,     0.99351,     0.99343,     0.99336,     0.99329,     0.99321,     0.99314,     0.99306,     0.99299,     0.99292,     0.99284,     0.99277,     0.99269,     0.99262,     0.99255,     0.99247,      0.9924,     0.99233,     0.99225,\n",
       "            0.99218,      0.9921,     0.99203,     0.99196,     0.99188,     0.99181,     0.99173,     0.99166,     0.99159,     0.99151,     0.99144,     0.99137,     0.99129,     0.99122,     0.99114,     0.99107,       0.991,     0.99092,     0.99085,     0.99077,      0.9907,     0.99063,     0.99055,\n",
       "            0.99048,     0.99041,     0.99033,     0.99026,     0.99018,     0.99011,     0.99004,     0.98996,     0.98989,     0.98981,     0.98974,     0.98967,     0.98959,     0.98952,     0.98945,     0.98937,      0.9893,     0.98922,     0.98915,     0.98908,       0.989,     0.98893,     0.98885,\n",
       "            0.98878,     0.98871,     0.98863,     0.98856,     0.98848,     0.98841,     0.98834,     0.98826,     0.98819,     0.98812,     0.98804,     0.98797,     0.98789,     0.98782,     0.98775,     0.98767,      0.9876,     0.98752,     0.98745,     0.98738,      0.9873,     0.98723,     0.98716,\n",
       "            0.98708,     0.98701,     0.98693,     0.98686,     0.98679,     0.98671,     0.98664,     0.98656,     0.98649,     0.98642,     0.98634,     0.98627,      0.9862,     0.98612,     0.98605,     0.98597,      0.9859,     0.98583,     0.98575,     0.98438,     0.98164,     0.97891,     0.97618,\n",
       "            0.97345,     0.97087,     0.96875,     0.96662,      0.9645,     0.96238,     0.96025,     0.95813,     0.94084,     0.93689,     0.93294,     0.92899,     0.92528,     0.92159,      0.9179,      0.9142,     0.90989,     0.90558,     0.90127,     0.89427,     0.88615,     0.87778,     0.85466,\n",
       "            0.84945,     0.84424,     0.82376,      0.7842,     0.72309,     0.67744,      0.6032,     0.40369,      0.1404,    0.053787,           0]]), 'Confidence', 'Recall']]\n",
       "fitness: np.float64(0.9606838355509608)\n",
       "keys: ['metrics/precision(B)', 'metrics/recall(B)', 'metrics/mAP50(B)', 'metrics/mAP50-95(B)']\n",
       "maps: array([    0.95704])\n",
       "names: {0: 'problem'}\n",
       "plot: True\n",
       "results_dict: {'metrics/precision(B)': np.float64(0.9859114332537584), 'metrics/recall(B)': np.float64(0.9997117610168472), 'metrics/mAP50(B)': np.float64(0.9934507042253521), 'metrics/mAP50-95(B)': np.float64(0.9570430723649173), 'fitness': np.float64(0.9606838355509608)}\n",
       "save_dir: WindowsPath('c:/Users/SSAFY/Desktop/개인폴더/Dan-C/runs/detect/train11')\n",
       "speed: {'preprocess': 0.863484615382941, 'inference': 146.65456153846452, 'loss': 0.00013076922956455607, 'postprocess': 0.9381076923073823}\n",
       "task: 'detect'"
      ]
     },
     "execution_count": 3,
     "metadata": {},
     "output_type": "execute_result"
    }
   ],
   "source": [
    "model.train(data='dataset/data.yaml', epochs=20)"
   ]
  },
  {
   "cell_type": "code",
   "execution_count": 4,
   "metadata": {},
   "outputs": [
    {
     "name": "stdout",
     "output_type": "stream",
     "text": [
      "Ultralytics 8.3.87  Python-3.9.13 torch-2.6.0+cpu CPU (Intel Core(TM) i7-14700)\n",
      "Model summary (fused): 92 layers, 25,840,339 parameters, 0 gradients, 78.7 GFLOPs\n"
     ]
    },
    {
     "name": "stderr",
     "output_type": "stream",
     "text": [
      "\u001b[34m\u001b[1mval: \u001b[0mScanning C:\\Users\\SSAFY\\Desktop\\개인폴더\\Dan-C\\dataset\\valid\\labels.cache... 13 images, 0 backgrounds, 0 corrupt: 100%|██████████| 13/13 [00:00<?, ?it/s]\n",
      "                 Class     Images  Instances      Box(P          R      mAP50  mAP50-95): 100%|██████████| 1/1 [00:02<00:00,  2.73s/it]\n"
     ]
    },
    {
     "name": "stdout",
     "output_type": "stream",
     "text": [
      "                   all         13         70      0.986          1      0.993      0.957\n",
      "Speed: 1.1ms preprocess, 141.6ms inference, 0.0ms loss, 0.8ms postprocess per image\n",
      "Results saved to \u001b[1mc:\\Users\\SSAFY\\Desktop\\\\Dan-C\\runs\\detect\\train112\u001b[0m\n",
      "ultralytics.utils.metrics.DetMetrics object with attributes:\n",
      "\n",
      "ap_class_index: array([0])\n",
      "box: ultralytics.utils.metrics.Metric object\n",
      "confusion_matrix: <ultralytics.utils.metrics.ConfusionMatrix object at 0x000001FD0D458400>\n",
      "curves: ['Precision-Recall(B)', 'F1-Confidence(B)', 'Precision-Confidence(B)', 'Recall-Confidence(B)']\n",
      "curves_results: [[array([          0,    0.001001,    0.002002,    0.003003,    0.004004,    0.005005,    0.006006,    0.007007,    0.008008,    0.009009,     0.01001,    0.011011,    0.012012,    0.013013,    0.014014,    0.015015,    0.016016,    0.017017,    0.018018,    0.019019,     0.02002,    0.021021,    0.022022,    0.023023,\n",
      "          0.024024,    0.025025,    0.026026,    0.027027,    0.028028,    0.029029,     0.03003,    0.031031,    0.032032,    0.033033,    0.034034,    0.035035,    0.036036,    0.037037,    0.038038,    0.039039,     0.04004,    0.041041,    0.042042,    0.043043,    0.044044,    0.045045,    0.046046,    0.047047,\n",
      "          0.048048,    0.049049,     0.05005,    0.051051,    0.052052,    0.053053,    0.054054,    0.055055,    0.056056,    0.057057,    0.058058,    0.059059,     0.06006,    0.061061,    0.062062,    0.063063,    0.064064,    0.065065,    0.066066,    0.067067,    0.068068,    0.069069,     0.07007,    0.071071,\n",
      "          0.072072,    0.073073,    0.074074,    0.075075,    0.076076,    0.077077,    0.078078,    0.079079,     0.08008,    0.081081,    0.082082,    0.083083,    0.084084,    0.085085,    0.086086,    0.087087,    0.088088,    0.089089,     0.09009,    0.091091,    0.092092,    0.093093,    0.094094,    0.095095,\n",
      "          0.096096,    0.097097,    0.098098,    0.099099,      0.1001,      0.1011,      0.1021,      0.1031,      0.1041,     0.10511,     0.10611,     0.10711,     0.10811,     0.10911,     0.11011,     0.11111,     0.11211,     0.11311,     0.11411,     0.11512,     0.11612,     0.11712,     0.11812,     0.11912,\n",
      "           0.12012,     0.12112,     0.12212,     0.12312,     0.12412,     0.12513,     0.12613,     0.12713,     0.12813,     0.12913,     0.13013,     0.13113,     0.13213,     0.13313,     0.13413,     0.13514,     0.13614,     0.13714,     0.13814,     0.13914,     0.14014,     0.14114,     0.14214,     0.14314,\n",
      "           0.14414,     0.14515,     0.14615,     0.14715,     0.14815,     0.14915,     0.15015,     0.15115,     0.15215,     0.15315,     0.15415,     0.15516,     0.15616,     0.15716,     0.15816,     0.15916,     0.16016,     0.16116,     0.16216,     0.16316,     0.16416,     0.16517,     0.16617,     0.16717,\n",
      "           0.16817,     0.16917,     0.17017,     0.17117,     0.17217,     0.17317,     0.17417,     0.17518,     0.17618,     0.17718,     0.17818,     0.17918,     0.18018,     0.18118,     0.18218,     0.18318,     0.18418,     0.18519,     0.18619,     0.18719,     0.18819,     0.18919,     0.19019,     0.19119,\n",
      "           0.19219,     0.19319,     0.19419,      0.1952,      0.1962,      0.1972,      0.1982,      0.1992,      0.2002,      0.2012,      0.2022,      0.2032,      0.2042,     0.20521,     0.20621,     0.20721,     0.20821,     0.20921,     0.21021,     0.21121,     0.21221,     0.21321,     0.21421,     0.21522,\n",
      "           0.21622,     0.21722,     0.21822,     0.21922,     0.22022,     0.22122,     0.22222,     0.22322,     0.22422,     0.22523,     0.22623,     0.22723,     0.22823,     0.22923,     0.23023,     0.23123,     0.23223,     0.23323,     0.23423,     0.23524,     0.23624,     0.23724,     0.23824,     0.23924,\n",
      "           0.24024,     0.24124,     0.24224,     0.24324,     0.24424,     0.24525,     0.24625,     0.24725,     0.24825,     0.24925,     0.25025,     0.25125,     0.25225,     0.25325,     0.25425,     0.25526,     0.25626,     0.25726,     0.25826,     0.25926,     0.26026,     0.26126,     0.26226,     0.26326,\n",
      "           0.26426,     0.26527,     0.26627,     0.26727,     0.26827,     0.26927,     0.27027,     0.27127,     0.27227,     0.27327,     0.27427,     0.27528,     0.27628,     0.27728,     0.27828,     0.27928,     0.28028,     0.28128,     0.28228,     0.28328,     0.28428,     0.28529,     0.28629,     0.28729,\n",
      "           0.28829,     0.28929,     0.29029,     0.29129,     0.29229,     0.29329,     0.29429,      0.2953,      0.2963,      0.2973,      0.2983,      0.2993,      0.3003,      0.3013,      0.3023,      0.3033,      0.3043,     0.30531,     0.30631,     0.30731,     0.30831,     0.30931,     0.31031,     0.31131,\n",
      "           0.31231,     0.31331,     0.31431,     0.31532,     0.31632,     0.31732,     0.31832,     0.31932,     0.32032,     0.32132,     0.32232,     0.32332,     0.32432,     0.32533,     0.32633,     0.32733,     0.32833,     0.32933,     0.33033,     0.33133,     0.33233,     0.33333,     0.33433,     0.33534,\n",
      "           0.33634,     0.33734,     0.33834,     0.33934,     0.34034,     0.34134,     0.34234,     0.34334,     0.34434,     0.34535,     0.34635,     0.34735,     0.34835,     0.34935,     0.35035,     0.35135,     0.35235,     0.35335,     0.35435,     0.35536,     0.35636,     0.35736,     0.35836,     0.35936,\n",
      "           0.36036,     0.36136,     0.36236,     0.36336,     0.36436,     0.36537,     0.36637,     0.36737,     0.36837,     0.36937,     0.37037,     0.37137,     0.37237,     0.37337,     0.37437,     0.37538,     0.37638,     0.37738,     0.37838,     0.37938,     0.38038,     0.38138,     0.38238,     0.38338,\n",
      "           0.38438,     0.38539,     0.38639,     0.38739,     0.38839,     0.38939,     0.39039,     0.39139,     0.39239,     0.39339,     0.39439,      0.3954,      0.3964,      0.3974,      0.3984,      0.3994,      0.4004,      0.4014,      0.4024,      0.4034,      0.4044,     0.40541,     0.40641,     0.40741,\n",
      "           0.40841,     0.40941,     0.41041,     0.41141,     0.41241,     0.41341,     0.41441,     0.41542,     0.41642,     0.41742,     0.41842,     0.41942,     0.42042,     0.42142,     0.42242,     0.42342,     0.42442,     0.42543,     0.42643,     0.42743,     0.42843,     0.42943,     0.43043,     0.43143,\n",
      "           0.43243,     0.43343,     0.43443,     0.43544,     0.43644,     0.43744,     0.43844,     0.43944,     0.44044,     0.44144,     0.44244,     0.44344,     0.44444,     0.44545,     0.44645,     0.44745,     0.44845,     0.44945,     0.45045,     0.45145,     0.45245,     0.45345,     0.45445,     0.45546,\n",
      "           0.45646,     0.45746,     0.45846,     0.45946,     0.46046,     0.46146,     0.46246,     0.46346,     0.46446,     0.46547,     0.46647,     0.46747,     0.46847,     0.46947,     0.47047,     0.47147,     0.47247,     0.47347,     0.47447,     0.47548,     0.47648,     0.47748,     0.47848,     0.47948,\n",
      "           0.48048,     0.48148,     0.48248,     0.48348,     0.48448,     0.48549,     0.48649,     0.48749,     0.48849,     0.48949,     0.49049,     0.49149,     0.49249,     0.49349,     0.49449,      0.4955,      0.4965,      0.4975,      0.4985,      0.4995,      0.5005,      0.5015,      0.5025,      0.5035,\n",
      "            0.5045,     0.50551,     0.50651,     0.50751,     0.50851,     0.50951,     0.51051,     0.51151,     0.51251,     0.51351,     0.51451,     0.51552,     0.51652,     0.51752,     0.51852,     0.51952,     0.52052,     0.52152,     0.52252,     0.52352,     0.52452,     0.52553,     0.52653,     0.52753,\n",
      "           0.52853,     0.52953,     0.53053,     0.53153,     0.53253,     0.53353,     0.53453,     0.53554,     0.53654,     0.53754,     0.53854,     0.53954,     0.54054,     0.54154,     0.54254,     0.54354,     0.54454,     0.54555,     0.54655,     0.54755,     0.54855,     0.54955,     0.55055,     0.55155,\n",
      "           0.55255,     0.55355,     0.55455,     0.55556,     0.55656,     0.55756,     0.55856,     0.55956,     0.56056,     0.56156,     0.56256,     0.56356,     0.56456,     0.56557,     0.56657,     0.56757,     0.56857,     0.56957,     0.57057,     0.57157,     0.57257,     0.57357,     0.57457,     0.57558,\n",
      "           0.57658,     0.57758,     0.57858,     0.57958,     0.58058,     0.58158,     0.58258,     0.58358,     0.58458,     0.58559,     0.58659,     0.58759,     0.58859,     0.58959,     0.59059,     0.59159,     0.59259,     0.59359,     0.59459,      0.5956,      0.5966,      0.5976,      0.5986,      0.5996,\n",
      "            0.6006,      0.6016,      0.6026,      0.6036,      0.6046,     0.60561,     0.60661,     0.60761,     0.60861,     0.60961,     0.61061,     0.61161,     0.61261,     0.61361,     0.61461,     0.61562,     0.61662,     0.61762,     0.61862,     0.61962,     0.62062,     0.62162,     0.62262,     0.62362,\n",
      "           0.62462,     0.62563,     0.62663,     0.62763,     0.62863,     0.62963,     0.63063,     0.63163,     0.63263,     0.63363,     0.63463,     0.63564,     0.63664,     0.63764,     0.63864,     0.63964,     0.64064,     0.64164,     0.64264,     0.64364,     0.64464,     0.64565,     0.64665,     0.64765,\n",
      "           0.64865,     0.64965,     0.65065,     0.65165,     0.65265,     0.65365,     0.65465,     0.65566,     0.65666,     0.65766,     0.65866,     0.65966,     0.66066,     0.66166,     0.66266,     0.66366,     0.66466,     0.66567,     0.66667,     0.66767,     0.66867,     0.66967,     0.67067,     0.67167,\n",
      "           0.67267,     0.67367,     0.67467,     0.67568,     0.67668,     0.67768,     0.67868,     0.67968,     0.68068,     0.68168,     0.68268,     0.68368,     0.68468,     0.68569,     0.68669,     0.68769,     0.68869,     0.68969,     0.69069,     0.69169,     0.69269,     0.69369,     0.69469,      0.6957,\n",
      "            0.6967,      0.6977,      0.6987,      0.6997,      0.7007,      0.7017,      0.7027,      0.7037,      0.7047,     0.70571,     0.70671,     0.70771,     0.70871,     0.70971,     0.71071,     0.71171,     0.71271,     0.71371,     0.71471,     0.71572,     0.71672,     0.71772,     0.71872,     0.71972,\n",
      "           0.72072,     0.72172,     0.72272,     0.72372,     0.72472,     0.72573,     0.72673,     0.72773,     0.72873,     0.72973,     0.73073,     0.73173,     0.73273,     0.73373,     0.73473,     0.73574,     0.73674,     0.73774,     0.73874,     0.73974,     0.74074,     0.74174,     0.74274,     0.74374,\n",
      "           0.74474,     0.74575,     0.74675,     0.74775,     0.74875,     0.74975,     0.75075,     0.75175,     0.75275,     0.75375,     0.75475,     0.75576,     0.75676,     0.75776,     0.75876,     0.75976,     0.76076,     0.76176,     0.76276,     0.76376,     0.76476,     0.76577,     0.76677,     0.76777,\n",
      "           0.76877,     0.76977,     0.77077,     0.77177,     0.77277,     0.77377,     0.77477,     0.77578,     0.77678,     0.77778,     0.77878,     0.77978,     0.78078,     0.78178,     0.78278,     0.78378,     0.78478,     0.78579,     0.78679,     0.78779,     0.78879,     0.78979,     0.79079,     0.79179,\n",
      "           0.79279,     0.79379,     0.79479,      0.7958,      0.7968,      0.7978,      0.7988,      0.7998,      0.8008,      0.8018,      0.8028,      0.8038,      0.8048,     0.80581,     0.80681,     0.80781,     0.80881,     0.80981,     0.81081,     0.81181,     0.81281,     0.81381,     0.81481,     0.81582,\n",
      "           0.81682,     0.81782,     0.81882,     0.81982,     0.82082,     0.82182,     0.82282,     0.82382,     0.82482,     0.82583,     0.82683,     0.82783,     0.82883,     0.82983,     0.83083,     0.83183,     0.83283,     0.83383,     0.83483,     0.83584,     0.83684,     0.83784,     0.83884,     0.83984,\n",
      "           0.84084,     0.84184,     0.84284,     0.84384,     0.84484,     0.84585,     0.84685,     0.84785,     0.84885,     0.84985,     0.85085,     0.85185,     0.85285,     0.85385,     0.85485,     0.85586,     0.85686,     0.85786,     0.85886,     0.85986,     0.86086,     0.86186,     0.86286,     0.86386,\n",
      "           0.86486,     0.86587,     0.86687,     0.86787,     0.86887,     0.86987,     0.87087,     0.87187,     0.87287,     0.87387,     0.87487,     0.87588,     0.87688,     0.87788,     0.87888,     0.87988,     0.88088,     0.88188,     0.88288,     0.88388,     0.88488,     0.88589,     0.88689,     0.88789,\n",
      "           0.88889,     0.88989,     0.89089,     0.89189,     0.89289,     0.89389,     0.89489,      0.8959,      0.8969,      0.8979,      0.8989,      0.8999,      0.9009,      0.9019,      0.9029,      0.9039,      0.9049,     0.90591,     0.90691,     0.90791,     0.90891,     0.90991,     0.91091,     0.91191,\n",
      "           0.91291,     0.91391,     0.91491,     0.91592,     0.91692,     0.91792,     0.91892,     0.91992,     0.92092,     0.92192,     0.92292,     0.92392,     0.92492,     0.92593,     0.92693,     0.92793,     0.92893,     0.92993,     0.93093,     0.93193,     0.93293,     0.93393,     0.93493,     0.93594,\n",
      "           0.93694,     0.93794,     0.93894,     0.93994,     0.94094,     0.94194,     0.94294,     0.94394,     0.94494,     0.94595,     0.94695,     0.94795,     0.94895,     0.94995,     0.95095,     0.95195,     0.95295,     0.95395,     0.95495,     0.95596,     0.95696,     0.95796,     0.95896,     0.95996,\n",
      "           0.96096,     0.96196,     0.96296,     0.96396,     0.96496,     0.96597,     0.96697,     0.96797,     0.96897,     0.96997,     0.97097,     0.97197,     0.97297,     0.97397,     0.97497,     0.97598,     0.97698,     0.97798,     0.97898,     0.97998,     0.98098,     0.98198,     0.98298,     0.98398,\n",
      "           0.98498,     0.98599,     0.98699,     0.98799,     0.98899,     0.98999,     0.99099,     0.99199,     0.99299,     0.99399,     0.99499,       0.996,       0.997,       0.998,       0.999,           1]), array([[          1,           1,           1,           1,           1,           1,           1,           1,           1,           1,           1,           1,           1,           1,           1,           1,           1,           1,           1,           1,           1,           1,           1,\n",
      "                  1,           1,           1,           1,           1,           1,           1,           1,           1,           1,           1,           1,           1,           1,           1,           1,           1,           1,           1,           1,           1,           1,           1,\n",
      "                  1,           1,           1,           1,           1,           1,           1,           1,           1,           1,           1,           1,           1,           1,           1,           1,           1,           1,           1,           1,           1,           1,           1,\n",
      "                  1,           1,           1,           1,           1,           1,           1,           1,           1,           1,           1,           1,           1,           1,           1,           1,           1,           1,           1,           1,           1,           1,           1,\n",
      "                  1,           1,           1,           1,           1,           1,           1,           1,           1,           1,           1,           1,           1,           1,           1,           1,           1,           1,           1,           1,           1,           1,           1,\n",
      "                  1,           1,           1,           1,           1,           1,           1,           1,           1,           1,           1,           1,           1,           1,           1,           1,           1,           1,           1,           1,           1,           1,           1,\n",
      "                  1,           1,           1,           1,           1,           1,           1,           1,           1,           1,           1,           1,           1,           1,           1,           1,           1,           1,           1,           1,           1,           1,           1,\n",
      "                  1,           1,           1,           1,           1,           1,           1,           1,           1,           1,           1,           1,           1,           1,           1,           1,           1,           1,           1,           1,           1,           1,           1,\n",
      "                  1,           1,           1,           1,           1,           1,           1,           1,           1,           1,           1,           1,           1,           1,           1,           1,           1,           1,           1,           1,           1,           1,           1,\n",
      "                  1,           1,           1,           1,           1,           1,           1,           1,           1,           1,           1,           1,           1,           1,           1,           1,           1,           1,           1,           1,           1,           1,           1,\n",
      "                  1,           1,           1,           1,           1,           1,           1,           1,           1,           1,           1,           1,           1,           1,           1,           1,           1,           1,           1,           1,           1,           1,           1,\n",
      "                  1,           1,           1,           1,           1,           1,           1,           1,           1,           1,           1,           1,           1,           1,           1,           1,           1,           1,           1,           1,           1,           1,           1,\n",
      "                  1,           1,           1,           1,           1,           1,           1,           1,           1,           1,           1,           1,           1,           1,           1,           1,           1,           1,           1,           1,           1,           1,           1,\n",
      "                  1,           1,           1,           1,           1,           1,           1,           1,           1,           1,           1,           1,           1,           1,           1,           1,           1,           1,           1,           1,           1,           1,           1,\n",
      "                  1,           1,           1,           1,           1,           1,           1,           1,           1,           1,           1,           1,           1,           1,           1,           1,           1,           1,           1,           1,           1,           1,           1,\n",
      "                  1,           1,           1,           1,           1,           1,           1,           1,           1,           1,           1,           1,           1,           1,           1,           1,           1,           1,           1,           1,           1,           1,           1,\n",
      "                  1,           1,           1,           1,           1,           1,           1,           1,           1,           1,           1,           1,           1,           1,           1,           1,           1,           1,           1,           1,           1,           1,           1,\n",
      "                  1,           1,           1,           1,           1,           1,           1,           1,           1,           1,           1,           1,           1,           1,           1,           1,           1,           1,           1,           1,           1,           1,           1,\n",
      "                  1,           1,           1,           1,           1,           1,           1,           1,           1,           1,           1,           1,           1,           1,           1,           1,           1,           1,           1,           1,           1,           1,           1,\n",
      "                  1,           1,           1,           1,           1,           1,           1,           1,           1,           1,           1,           1,           1,           1,           1,           1,           1,           1,           1,           1,           1,           1,           1,\n",
      "                  1,           1,           1,           1,           1,           1,           1,           1,           1,           1,           1,           1,           1,           1,           1,           1,           1,           1,           1,           1,           1,           1,           1,\n",
      "                  1,           1,           1,           1,           1,           1,           1,           1,           1,           1,           1,           1,           1,           1,           1,           1,           1,           1,           1,           1,           1,           1,           1,\n",
      "                  1,           1,           1,           1,           1,           1,           1,           1,           1,           1,           1,           1,           1,           1,           1,           1,           1,           1,           1,           1,           1,           1,           1,\n",
      "                  1,           1,           1,           1,           1,           1,           1,           1,           1,           1,           1,           1,           1,           1,           1,           1,           1,           1,           1,           1,           1,           1,           1,\n",
      "                  1,           1,           1,           1,           1,           1,           1,           1,           1,           1,           1,           1,           1,           1,           1,           1,           1,           1,           1,           1,           1,           1,           1,\n",
      "                  1,           1,           1,           1,           1,           1,           1,           1,           1,           1,           1,           1,           1,           1,           1,           1,           1,           1,           1,           1,           1,           1,           1,\n",
      "                  1,           1,           1,           1,           1,           1,           1,           1,           1,           1,           1,           1,           1,           1,           1,           1,           1,           1,           1,           1,           1,           1,           1,\n",
      "                  1,           1,           1,           1,           1,           1,           1,           1,           1,           1,           1,           1,           1,           1,           1,           1,           1,           1,           1,           1,           1,           1,           1,\n",
      "                  1,           1,           1,           1,           1,           1,           1,           1,           1,           1,           1,           1,           1,           1,           1,           1,           1,           1,           1,           1,           1,           1,           1,\n",
      "                  1,           1,           1,           1,           1,           1,           1,           1,           1,           1,           1,           1,           1,           1,           1,           1,           1,           1,           1,           1,           1,           1,           1,\n",
      "                  1,           1,           1,           1,           1,           1,           1,           1,           1,           1,           1,           1,           1,           1,           1,           1,           1,           1,           1,           1,           1,           1,           1,\n",
      "                  1,           1,           1,           1,           1,           1,           1,           1,           1,           1,           1,           1,           1,           1,           1,           1,           1,           1,           1,           1,           1,           1,           1,\n",
      "                  1,           1,           1,           1,           1,           1,           1,           1,           1,           1,           1,           1,           1,           1,           1,           1,           1,           1,           1,           1,           1,           1,           1,\n",
      "                  1,           1,           1,           1,           1,           1,           1,           1,           1,           1,           1,           1,           1,           1,           1,           1,           1,           1,           1,           1,           1,           1,           1,\n",
      "                  1,           1,           1,           1,           1,           1,           1,           1,           1,           1,           1,           1,           1,           1,           1,           1,           1,           1,           1,           1,           1,           1,           1,\n",
      "                  1,           1,           1,           1,           1,           1,           1,           1,           1,           1,           1,           1,           1,           1,           1,           1,           1,           1,           1,           1,           1,           1,           1,\n",
      "                  1,           1,           1,           1,           1,           1,           1,           1,           1,           1,           1,           1,           1,           1,           1,           1,           1,           1,           1,           1,           1,           1,           1,\n",
      "                  1,           1,           1,           1,           1,           1,           1,           1,           1,           1,           1,           1,           1,           1,           1,           1,           1,           1,           1,           1,           1,           1,           1,\n",
      "                  1,           1,           1,           1,           1,           1,           1,           1,           1,           1,           1,     0.98592,     0.98592,     0.98592,     0.98592,     0.98592,     0.98592,     0.98592,     0.98592,     0.98592,     0.98592,     0.98592,     0.98592,\n",
      "            0.98592,     0.98592,     0.98592,     0.98592,     0.98592,     0.98592,     0.98592,     0.98592,     0.98592,     0.98592,     0.98592,     0.98592,     0.98592,     0.98592,     0.98592,     0.98592,     0.98592,     0.98592,     0.98592,     0.98592,     0.98592,     0.98592,     0.98592,\n",
      "            0.98592,     0.98592,     0.98592,     0.98592,     0.98592,     0.98592,     0.98592,     0.98592,     0.98592,     0.98592,     0.98592,     0.98592,     0.98592,     0.98592,     0.98592,     0.98592,     0.98592,     0.98592,     0.98592,     0.98592,     0.98592,     0.98592,     0.98592,\n",
      "            0.98592,     0.98592,     0.98592,     0.98592,     0.98592,     0.98592,     0.98592,     0.98592,     0.98592,     0.98592,     0.98592,     0.98592,     0.98592,     0.98592,     0.98592,     0.98592,     0.98592,     0.98592,     0.98592,     0.98592,     0.98592,     0.98592,     0.98592,\n",
      "            0.98592,     0.98592,     0.98592,     0.98592,     0.98592,     0.98592,     0.98592,     0.98592,     0.98592,     0.98592,     0.98592,     0.98592,     0.98592,     0.98592,     0.98592,     0.98592,     0.98592,     0.98592,     0.98592,     0.98592,     0.98592,     0.98592,     0.98592,\n",
      "            0.98592,     0.98592,     0.98592,     0.98592,     0.98592,     0.98592,     0.98592,     0.98592,     0.98592,     0.98592,           0]]), 'Recall', 'Precision'], [array([          0,    0.001001,    0.002002,    0.003003,    0.004004,    0.005005,    0.006006,    0.007007,    0.008008,    0.009009,     0.01001,    0.011011,    0.012012,    0.013013,    0.014014,    0.015015,    0.016016,    0.017017,    0.018018,    0.019019,     0.02002,    0.021021,    0.022022,    0.023023,\n",
      "          0.024024,    0.025025,    0.026026,    0.027027,    0.028028,    0.029029,     0.03003,    0.031031,    0.032032,    0.033033,    0.034034,    0.035035,    0.036036,    0.037037,    0.038038,    0.039039,     0.04004,    0.041041,    0.042042,    0.043043,    0.044044,    0.045045,    0.046046,    0.047047,\n",
      "          0.048048,    0.049049,     0.05005,    0.051051,    0.052052,    0.053053,    0.054054,    0.055055,    0.056056,    0.057057,    0.058058,    0.059059,     0.06006,    0.061061,    0.062062,    0.063063,    0.064064,    0.065065,    0.066066,    0.067067,    0.068068,    0.069069,     0.07007,    0.071071,\n",
      "          0.072072,    0.073073,    0.074074,    0.075075,    0.076076,    0.077077,    0.078078,    0.079079,     0.08008,    0.081081,    0.082082,    0.083083,    0.084084,    0.085085,    0.086086,    0.087087,    0.088088,    0.089089,     0.09009,    0.091091,    0.092092,    0.093093,    0.094094,    0.095095,\n",
      "          0.096096,    0.097097,    0.098098,    0.099099,      0.1001,      0.1011,      0.1021,      0.1031,      0.1041,     0.10511,     0.10611,     0.10711,     0.10811,     0.10911,     0.11011,     0.11111,     0.11211,     0.11311,     0.11411,     0.11512,     0.11612,     0.11712,     0.11812,     0.11912,\n",
      "           0.12012,     0.12112,     0.12212,     0.12312,     0.12412,     0.12513,     0.12613,     0.12713,     0.12813,     0.12913,     0.13013,     0.13113,     0.13213,     0.13313,     0.13413,     0.13514,     0.13614,     0.13714,     0.13814,     0.13914,     0.14014,     0.14114,     0.14214,     0.14314,\n",
      "           0.14414,     0.14515,     0.14615,     0.14715,     0.14815,     0.14915,     0.15015,     0.15115,     0.15215,     0.15315,     0.15415,     0.15516,     0.15616,     0.15716,     0.15816,     0.15916,     0.16016,     0.16116,     0.16216,     0.16316,     0.16416,     0.16517,     0.16617,     0.16717,\n",
      "           0.16817,     0.16917,     0.17017,     0.17117,     0.17217,     0.17317,     0.17417,     0.17518,     0.17618,     0.17718,     0.17818,     0.17918,     0.18018,     0.18118,     0.18218,     0.18318,     0.18418,     0.18519,     0.18619,     0.18719,     0.18819,     0.18919,     0.19019,     0.19119,\n",
      "           0.19219,     0.19319,     0.19419,      0.1952,      0.1962,      0.1972,      0.1982,      0.1992,      0.2002,      0.2012,      0.2022,      0.2032,      0.2042,     0.20521,     0.20621,     0.20721,     0.20821,     0.20921,     0.21021,     0.21121,     0.21221,     0.21321,     0.21421,     0.21522,\n",
      "           0.21622,     0.21722,     0.21822,     0.21922,     0.22022,     0.22122,     0.22222,     0.22322,     0.22422,     0.22523,     0.22623,     0.22723,     0.22823,     0.22923,     0.23023,     0.23123,     0.23223,     0.23323,     0.23423,     0.23524,     0.23624,     0.23724,     0.23824,     0.23924,\n",
      "           0.24024,     0.24124,     0.24224,     0.24324,     0.24424,     0.24525,     0.24625,     0.24725,     0.24825,     0.24925,     0.25025,     0.25125,     0.25225,     0.25325,     0.25425,     0.25526,     0.25626,     0.25726,     0.25826,     0.25926,     0.26026,     0.26126,     0.26226,     0.26326,\n",
      "           0.26426,     0.26527,     0.26627,     0.26727,     0.26827,     0.26927,     0.27027,     0.27127,     0.27227,     0.27327,     0.27427,     0.27528,     0.27628,     0.27728,     0.27828,     0.27928,     0.28028,     0.28128,     0.28228,     0.28328,     0.28428,     0.28529,     0.28629,     0.28729,\n",
      "           0.28829,     0.28929,     0.29029,     0.29129,     0.29229,     0.29329,     0.29429,      0.2953,      0.2963,      0.2973,      0.2983,      0.2993,      0.3003,      0.3013,      0.3023,      0.3033,      0.3043,     0.30531,     0.30631,     0.30731,     0.30831,     0.30931,     0.31031,     0.31131,\n",
      "           0.31231,     0.31331,     0.31431,     0.31532,     0.31632,     0.31732,     0.31832,     0.31932,     0.32032,     0.32132,     0.32232,     0.32332,     0.32432,     0.32533,     0.32633,     0.32733,     0.32833,     0.32933,     0.33033,     0.33133,     0.33233,     0.33333,     0.33433,     0.33534,\n",
      "           0.33634,     0.33734,     0.33834,     0.33934,     0.34034,     0.34134,     0.34234,     0.34334,     0.34434,     0.34535,     0.34635,     0.34735,     0.34835,     0.34935,     0.35035,     0.35135,     0.35235,     0.35335,     0.35435,     0.35536,     0.35636,     0.35736,     0.35836,     0.35936,\n",
      "           0.36036,     0.36136,     0.36236,     0.36336,     0.36436,     0.36537,     0.36637,     0.36737,     0.36837,     0.36937,     0.37037,     0.37137,     0.37237,     0.37337,     0.37437,     0.37538,     0.37638,     0.37738,     0.37838,     0.37938,     0.38038,     0.38138,     0.38238,     0.38338,\n",
      "           0.38438,     0.38539,     0.38639,     0.38739,     0.38839,     0.38939,     0.39039,     0.39139,     0.39239,     0.39339,     0.39439,      0.3954,      0.3964,      0.3974,      0.3984,      0.3994,      0.4004,      0.4014,      0.4024,      0.4034,      0.4044,     0.40541,     0.40641,     0.40741,\n",
      "           0.40841,     0.40941,     0.41041,     0.41141,     0.41241,     0.41341,     0.41441,     0.41542,     0.41642,     0.41742,     0.41842,     0.41942,     0.42042,     0.42142,     0.42242,     0.42342,     0.42442,     0.42543,     0.42643,     0.42743,     0.42843,     0.42943,     0.43043,     0.43143,\n",
      "           0.43243,     0.43343,     0.43443,     0.43544,     0.43644,     0.43744,     0.43844,     0.43944,     0.44044,     0.44144,     0.44244,     0.44344,     0.44444,     0.44545,     0.44645,     0.44745,     0.44845,     0.44945,     0.45045,     0.45145,     0.45245,     0.45345,     0.45445,     0.45546,\n",
      "           0.45646,     0.45746,     0.45846,     0.45946,     0.46046,     0.46146,     0.46246,     0.46346,     0.46446,     0.46547,     0.46647,     0.46747,     0.46847,     0.46947,     0.47047,     0.47147,     0.47247,     0.47347,     0.47447,     0.47548,     0.47648,     0.47748,     0.47848,     0.47948,\n",
      "           0.48048,     0.48148,     0.48248,     0.48348,     0.48448,     0.48549,     0.48649,     0.48749,     0.48849,     0.48949,     0.49049,     0.49149,     0.49249,     0.49349,     0.49449,      0.4955,      0.4965,      0.4975,      0.4985,      0.4995,      0.5005,      0.5015,      0.5025,      0.5035,\n",
      "            0.5045,     0.50551,     0.50651,     0.50751,     0.50851,     0.50951,     0.51051,     0.51151,     0.51251,     0.51351,     0.51451,     0.51552,     0.51652,     0.51752,     0.51852,     0.51952,     0.52052,     0.52152,     0.52252,     0.52352,     0.52452,     0.52553,     0.52653,     0.52753,\n",
      "           0.52853,     0.52953,     0.53053,     0.53153,     0.53253,     0.53353,     0.53453,     0.53554,     0.53654,     0.53754,     0.53854,     0.53954,     0.54054,     0.54154,     0.54254,     0.54354,     0.54454,     0.54555,     0.54655,     0.54755,     0.54855,     0.54955,     0.55055,     0.55155,\n",
      "           0.55255,     0.55355,     0.55455,     0.55556,     0.55656,     0.55756,     0.55856,     0.55956,     0.56056,     0.56156,     0.56256,     0.56356,     0.56456,     0.56557,     0.56657,     0.56757,     0.56857,     0.56957,     0.57057,     0.57157,     0.57257,     0.57357,     0.57457,     0.57558,\n",
      "           0.57658,     0.57758,     0.57858,     0.57958,     0.58058,     0.58158,     0.58258,     0.58358,     0.58458,     0.58559,     0.58659,     0.58759,     0.58859,     0.58959,     0.59059,     0.59159,     0.59259,     0.59359,     0.59459,      0.5956,      0.5966,      0.5976,      0.5986,      0.5996,\n",
      "            0.6006,      0.6016,      0.6026,      0.6036,      0.6046,     0.60561,     0.60661,     0.60761,     0.60861,     0.60961,     0.61061,     0.61161,     0.61261,     0.61361,     0.61461,     0.61562,     0.61662,     0.61762,     0.61862,     0.61962,     0.62062,     0.62162,     0.62262,     0.62362,\n",
      "           0.62462,     0.62563,     0.62663,     0.62763,     0.62863,     0.62963,     0.63063,     0.63163,     0.63263,     0.63363,     0.63463,     0.63564,     0.63664,     0.63764,     0.63864,     0.63964,     0.64064,     0.64164,     0.64264,     0.64364,     0.64464,     0.64565,     0.64665,     0.64765,\n",
      "           0.64865,     0.64965,     0.65065,     0.65165,     0.65265,     0.65365,     0.65465,     0.65566,     0.65666,     0.65766,     0.65866,     0.65966,     0.66066,     0.66166,     0.66266,     0.66366,     0.66466,     0.66567,     0.66667,     0.66767,     0.66867,     0.66967,     0.67067,     0.67167,\n",
      "           0.67267,     0.67367,     0.67467,     0.67568,     0.67668,     0.67768,     0.67868,     0.67968,     0.68068,     0.68168,     0.68268,     0.68368,     0.68468,     0.68569,     0.68669,     0.68769,     0.68869,     0.68969,     0.69069,     0.69169,     0.69269,     0.69369,     0.69469,      0.6957,\n",
      "            0.6967,      0.6977,      0.6987,      0.6997,      0.7007,      0.7017,      0.7027,      0.7037,      0.7047,     0.70571,     0.70671,     0.70771,     0.70871,     0.70971,     0.71071,     0.71171,     0.71271,     0.71371,     0.71471,     0.71572,     0.71672,     0.71772,     0.71872,     0.71972,\n",
      "           0.72072,     0.72172,     0.72272,     0.72372,     0.72472,     0.72573,     0.72673,     0.72773,     0.72873,     0.72973,     0.73073,     0.73173,     0.73273,     0.73373,     0.73473,     0.73574,     0.73674,     0.73774,     0.73874,     0.73974,     0.74074,     0.74174,     0.74274,     0.74374,\n",
      "           0.74474,     0.74575,     0.74675,     0.74775,     0.74875,     0.74975,     0.75075,     0.75175,     0.75275,     0.75375,     0.75475,     0.75576,     0.75676,     0.75776,     0.75876,     0.75976,     0.76076,     0.76176,     0.76276,     0.76376,     0.76476,     0.76577,     0.76677,     0.76777,\n",
      "           0.76877,     0.76977,     0.77077,     0.77177,     0.77277,     0.77377,     0.77477,     0.77578,     0.77678,     0.77778,     0.77878,     0.77978,     0.78078,     0.78178,     0.78278,     0.78378,     0.78478,     0.78579,     0.78679,     0.78779,     0.78879,     0.78979,     0.79079,     0.79179,\n",
      "           0.79279,     0.79379,     0.79479,      0.7958,      0.7968,      0.7978,      0.7988,      0.7998,      0.8008,      0.8018,      0.8028,      0.8038,      0.8048,     0.80581,     0.80681,     0.80781,     0.80881,     0.80981,     0.81081,     0.81181,     0.81281,     0.81381,     0.81481,     0.81582,\n",
      "           0.81682,     0.81782,     0.81882,     0.81982,     0.82082,     0.82182,     0.82282,     0.82382,     0.82482,     0.82583,     0.82683,     0.82783,     0.82883,     0.82983,     0.83083,     0.83183,     0.83283,     0.83383,     0.83483,     0.83584,     0.83684,     0.83784,     0.83884,     0.83984,\n",
      "           0.84084,     0.84184,     0.84284,     0.84384,     0.84484,     0.84585,     0.84685,     0.84785,     0.84885,     0.84985,     0.85085,     0.85185,     0.85285,     0.85385,     0.85485,     0.85586,     0.85686,     0.85786,     0.85886,     0.85986,     0.86086,     0.86186,     0.86286,     0.86386,\n",
      "           0.86486,     0.86587,     0.86687,     0.86787,     0.86887,     0.86987,     0.87087,     0.87187,     0.87287,     0.87387,     0.87487,     0.87588,     0.87688,     0.87788,     0.87888,     0.87988,     0.88088,     0.88188,     0.88288,     0.88388,     0.88488,     0.88589,     0.88689,     0.88789,\n",
      "           0.88889,     0.88989,     0.89089,     0.89189,     0.89289,     0.89389,     0.89489,      0.8959,      0.8969,      0.8979,      0.8989,      0.8999,      0.9009,      0.9019,      0.9029,      0.9039,      0.9049,     0.90591,     0.90691,     0.90791,     0.90891,     0.90991,     0.91091,     0.91191,\n",
      "           0.91291,     0.91391,     0.91491,     0.91592,     0.91692,     0.91792,     0.91892,     0.91992,     0.92092,     0.92192,     0.92292,     0.92392,     0.92492,     0.92593,     0.92693,     0.92793,     0.92893,     0.92993,     0.93093,     0.93193,     0.93293,     0.93393,     0.93493,     0.93594,\n",
      "           0.93694,     0.93794,     0.93894,     0.93994,     0.94094,     0.94194,     0.94294,     0.94394,     0.94494,     0.94595,     0.94695,     0.94795,     0.94895,     0.94995,     0.95095,     0.95195,     0.95295,     0.95395,     0.95495,     0.95596,     0.95696,     0.95796,     0.95896,     0.95996,\n",
      "           0.96096,     0.96196,     0.96296,     0.96396,     0.96496,     0.96597,     0.96697,     0.96797,     0.96897,     0.96997,     0.97097,     0.97197,     0.97297,     0.97397,     0.97497,     0.97598,     0.97698,     0.97798,     0.97898,     0.97998,     0.98098,     0.98198,     0.98298,     0.98398,\n",
      "           0.98498,     0.98599,     0.98699,     0.98799,     0.98899,     0.98999,     0.99099,     0.99199,     0.99299,     0.99399,     0.99499,       0.996,       0.997,       0.998,       0.999,           1]), array([[   0.035362,    0.035362,    0.069045,     0.12237,      0.1906,     0.25589,     0.32429,     0.38338,     0.43631,     0.48922,     0.52811,     0.57976,     0.60417,     0.62073,      0.6374,      0.6462,     0.67312,     0.69433,     0.70539,     0.71913,     0.72625,     0.72792,     0.73154,\n",
      "            0.73537,     0.74367,     0.75783,     0.76521,     0.77093,     0.78286,     0.78459,     0.78631,     0.79068,     0.80275,     0.80719,     0.81955,     0.82138,      0.8232,      0.8379,     0.84344,     0.84635,     0.84987,     0.85404,     0.85544,     0.85682,     0.85821,     0.86441,\n",
      "            0.86742,     0.86981,     0.87066,     0.87152,     0.87237,     0.87322,     0.87407,     0.87492,     0.87654,     0.87824,     0.87994,     0.88306,     0.89202,     0.89369,     0.89536,     0.89702,      0.8988,     0.90061,     0.90242,      0.9038,     0.90484,     0.90588,     0.90692,\n",
      "            0.90795,     0.90898,     0.91008,     0.91119,     0.91229,      0.9134,      0.9145,     0.91825,     0.92149,     0.92228,     0.92308,     0.92387,     0.92466,     0.92544,     0.92623,     0.92702,     0.92803,     0.92909,     0.93015,     0.93121,     0.93226,     0.93331,     0.93389,\n",
      "            0.93446,     0.93503,      0.9356,     0.93617,     0.93674,      0.9373,     0.93787,     0.93844,       0.939,     0.93957,     0.94044,     0.94133,     0.94221,      0.9431,     0.94398,     0.94486,     0.94574,     0.94662,      0.9475,     0.94838,     0.94925,     0.95013,       0.951,\n",
      "            0.95188,      0.9533,     0.95547,     0.95764,     0.95936,     0.96046,     0.96156,     0.96266,     0.96376,     0.96485,     0.96576,     0.96639,     0.96701,     0.96764,     0.96826,     0.96889,     0.96951,     0.97013,     0.97076,     0.97138,       0.972,     0.97226,     0.97231,\n",
      "            0.97237,     0.97242,     0.97248,     0.97254,     0.97259,     0.97265,      0.9727,     0.97276,     0.97281,     0.97287,     0.97293,     0.97298,     0.97304,     0.97309,     0.97315,      0.9732,     0.97326,     0.97332,     0.97337,     0.97343,     0.97348,     0.97354,     0.97359,\n",
      "            0.97365,      0.9737,     0.97376,     0.97382,     0.97387,     0.97393,     0.97398,     0.97404,     0.97409,     0.97415,      0.9742,     0.97426,     0.97431,     0.97437,     0.97443,     0.97448,     0.97454,     0.97459,     0.97465,      0.9747,     0.97476,     0.97481,     0.97487,\n",
      "            0.97492,     0.97498,     0.97504,     0.97509,     0.97515,      0.9752,     0.97526,     0.97531,     0.97537,     0.97542,     0.97548,     0.97553,     0.97559,     0.97564,      0.9757,     0.97576,     0.97581,     0.97587,     0.97592,     0.97598,     0.97603,     0.97609,     0.97614,\n",
      "             0.9762,     0.97625,     0.97631,     0.97636,     0.97642,     0.97647,     0.97653,     0.97658,     0.97664,      0.9767,     0.97675,     0.97681,     0.97686,     0.97692,     0.97697,     0.97703,     0.97708,     0.97714,     0.97719,     0.97725,      0.9773,     0.97736,     0.97741,\n",
      "            0.97747,     0.97752,     0.97758,     0.97763,     0.97769,     0.97774,      0.9778,     0.97785,     0.97791,     0.97796,     0.97802,     0.97807,     0.97813,     0.97818,     0.97824,     0.97829,     0.97835,      0.9784,     0.97846,     0.97851,     0.97857,     0.97862,     0.97868,\n",
      "            0.97873,     0.97879,     0.97884,      0.9789,     0.97895,     0.97901,     0.97904,     0.97906,     0.97908,      0.9791,     0.97912,     0.97914,     0.97916,     0.97918,     0.97919,     0.97921,     0.97923,     0.97925,     0.97927,     0.97929,     0.97931,     0.97933,     0.97935,\n",
      "            0.97937,     0.97939,     0.97941,     0.97943,     0.97945,     0.97947,     0.97949,     0.97951,     0.97953,     0.97955,     0.97957,     0.97959,     0.97961,     0.97963,     0.97965,     0.97967,     0.97969,     0.97971,     0.97973,     0.97975,     0.97977,     0.97979,     0.97981,\n",
      "            0.97983,     0.97985,     0.97987,     0.97989,     0.97991,     0.97993,     0.97995,     0.97997,     0.97999,     0.98001,     0.98003,     0.98004,     0.98006,     0.98008,      0.9801,     0.98012,     0.98014,     0.98016,     0.98018,      0.9802,     0.98022,     0.98024,     0.98026,\n",
      "            0.98028,      0.9803,     0.98032,     0.98034,     0.98036,     0.98038,      0.9804,     0.98042,     0.98044,     0.98046,     0.98048,      0.9805,     0.98052,     0.98054,     0.98056,     0.98058,      0.9806,     0.98062,     0.98064,     0.98066,     0.98068,      0.9807,     0.98072,\n",
      "            0.98074,     0.98076,     0.98077,     0.98079,     0.98081,     0.98083,     0.98085,     0.98087,     0.98089,     0.98091,     0.98093,     0.98095,     0.98097,     0.98099,     0.98101,     0.98103,     0.98105,     0.98107,     0.98109,     0.98111,     0.98113,     0.98115,     0.98117,\n",
      "            0.98119,     0.98121,     0.98123,     0.98125,     0.98127,     0.98129,     0.98131,     0.98133,     0.98135,     0.98137,     0.98139,     0.98141,     0.98143,     0.98144,     0.98146,     0.98148,      0.9815,     0.98152,     0.98154,     0.98156,     0.98158,      0.9816,     0.98162,\n",
      "            0.98164,     0.98166,     0.98168,      0.9817,     0.98172,     0.98174,     0.98176,     0.98178,      0.9818,     0.98182,     0.98184,     0.98186,     0.98188,      0.9819,     0.98192,     0.98194,     0.98196,     0.98198,       0.982,     0.98202,     0.98204,     0.98205,     0.98207,\n",
      "            0.98209,     0.98211,     0.98213,     0.98215,     0.98217,     0.98219,     0.98221,     0.98223,     0.98225,     0.98227,     0.98229,     0.98231,     0.98233,     0.98235,     0.98237,     0.98239,     0.98241,     0.98243,     0.98245,     0.98247,     0.98249,     0.98251,     0.98253,\n",
      "            0.98255,     0.98257,     0.98259,     0.98261,     0.98263,     0.98264,     0.98266,     0.98268,      0.9827,     0.98272,     0.98274,     0.98276,     0.98278,      0.9828,     0.98282,     0.98284,     0.98286,     0.98288,      0.9829,     0.98292,     0.98294,     0.98296,     0.98298,\n",
      "              0.983,     0.98302,     0.98304,     0.98306,     0.98308,      0.9831,     0.98312,     0.98314,     0.98316,     0.98317,     0.98319,     0.98321,     0.98323,     0.98325,     0.98327,     0.98329,     0.98331,     0.98333,     0.98335,     0.98337,     0.98339,     0.98341,     0.98343,\n",
      "            0.98345,     0.98347,     0.98349,     0.98351,     0.98353,     0.98355,     0.98357,     0.98359,     0.98361,     0.98363,     0.98365,     0.98367,     0.98368,      0.9837,     0.98372,     0.98374,     0.98376,     0.98378,      0.9838,     0.98382,     0.98384,     0.98386,     0.98388,\n",
      "             0.9839,     0.98392,     0.98394,     0.98396,     0.98398,       0.984,     0.98402,     0.98404,     0.98406,     0.98408,      0.9841,     0.98412,     0.98414,     0.98416,     0.98417,     0.98419,     0.98421,     0.98423,     0.98425,     0.98427,     0.98429,     0.98431,     0.98433,\n",
      "            0.98435,     0.98437,     0.98439,     0.98441,     0.98443,     0.98445,     0.98447,     0.98449,     0.98451,     0.98453,     0.98455,     0.98457,     0.98459,     0.98461,     0.98463,     0.98464,     0.98466,     0.98468,      0.9847,     0.98472,     0.98474,     0.98476,     0.98478,\n",
      "             0.9848,     0.98482,     0.98484,     0.98486,     0.98488,      0.9849,     0.98492,     0.98494,     0.98496,     0.98498,       0.985,     0.98502,     0.98504,     0.98506,     0.98507,     0.98509,     0.98511,     0.98513,     0.98515,     0.98517,     0.98519,     0.98521,     0.98523,\n",
      "            0.98525,     0.98527,     0.98529,     0.98531,     0.98533,     0.98535,     0.98537,     0.98539,     0.98541,     0.98543,     0.98545,     0.98547,     0.98549,      0.9855,     0.98552,     0.98554,     0.98556,     0.98558,      0.9856,     0.98562,     0.98564,     0.98566,     0.98568,\n",
      "             0.9857,     0.98572,     0.98574,     0.98576,     0.98578,      0.9858,     0.98582,     0.98584,     0.98586,     0.98588,      0.9859,     0.98592,     0.98596,       0.986,     0.98605,     0.98609,     0.98614,     0.98618,     0.98622,     0.98627,     0.98631,     0.98636,      0.9864,\n",
      "            0.98645,     0.98649,     0.98653,     0.98658,     0.98662,     0.98667,     0.98671,     0.98675,      0.9868,     0.98684,     0.98689,     0.98693,     0.98698,     0.98702,     0.98706,     0.98711,     0.98715,      0.9872,     0.98724,     0.98728,     0.98733,     0.98737,     0.98742,\n",
      "            0.98746,     0.98751,     0.98755,     0.98759,     0.98764,     0.98768,     0.98773,     0.98777,     0.98781,     0.98786,      0.9879,     0.98795,     0.98799,     0.98803,     0.98808,     0.98812,     0.98817,     0.98821,     0.98825,      0.9883,     0.98834,     0.98839,     0.98843,\n",
      "            0.98848,     0.98852,     0.98856,     0.98861,     0.98865,      0.9887,     0.98874,     0.98878,     0.98883,     0.98887,     0.98892,     0.98896,       0.989,     0.98905,     0.98909,     0.98914,     0.98918,     0.98922,     0.98927,     0.98931,     0.98936,      0.9894,     0.98944,\n",
      "            0.98949,     0.98953,     0.98957,     0.98962,     0.98966,     0.98971,     0.98975,     0.98979,     0.98984,     0.98988,     0.98993,     0.98997,     0.99001,     0.99006,      0.9901,     0.99015,     0.99019,     0.99023,     0.99028,     0.99032,     0.99037,     0.99041,     0.99045,\n",
      "             0.9905,     0.99054,     0.99058,     0.99063,     0.99067,     0.99072,     0.99076,      0.9908,     0.99085,     0.99089,     0.99094,     0.99098,     0.99102,     0.99107,     0.99111,     0.99115,      0.9912,     0.99124,     0.99129,     0.99133,     0.99137,     0.99142,     0.99146,\n",
      "             0.9915,     0.99155,     0.99159,     0.99164,     0.99168,     0.99172,     0.99177,     0.99181,     0.99185,      0.9919,     0.99194,     0.99199,     0.99203,     0.99207,     0.99212,     0.99216,      0.9922,     0.99225,     0.99229,     0.99234,     0.99238,     0.99242,     0.99247,\n",
      "            0.99251,     0.99255,      0.9926,     0.99264,     0.99269,     0.99273,     0.99277,     0.99282,     0.99286,      0.9929,     0.99287,     0.99284,      0.9928,     0.99276,     0.99273,     0.99269,     0.99265,     0.99262,     0.99258,     0.99254,      0.9925,     0.99247,     0.99243,\n",
      "            0.99239,     0.99236,     0.99232,     0.99228,     0.99225,     0.99221,     0.99217,     0.99214,      0.9921,     0.99206,     0.99202,     0.99199,     0.99195,     0.99191,     0.99188,     0.99184,      0.9918,     0.99177,     0.99173,     0.99169,     0.99165,     0.99162,     0.99158,\n",
      "            0.99154,     0.99151,     0.99147,     0.99143,     0.99139,     0.99136,     0.99132,     0.99128,     0.99125,     0.99121,     0.99117,     0.99114,      0.9911,     0.99106,     0.99102,     0.99099,     0.99095,     0.99091,     0.99088,     0.99084,      0.9908,     0.99076,     0.99073,\n",
      "            0.99069,     0.99065,     0.99062,     0.99058,     0.99054,     0.99051,     0.99047,     0.99043,     0.99039,     0.99036,     0.99032,     0.99028,     0.99025,     0.99021,     0.99017,     0.99013,      0.9901,     0.99006,     0.99002,     0.98999,     0.98995,     0.98991,     0.98987,\n",
      "            0.98984,      0.9898,     0.98976,     0.98973,     0.98969,     0.98965,     0.98961,     0.98958,     0.98954,      0.9895,     0.98946,     0.98943,     0.98939,     0.98935,     0.98932,     0.98928,     0.98924,      0.9892,     0.98917,     0.98913,     0.98909,     0.98906,     0.98902,\n",
      "            0.98898,     0.98894,     0.98891,     0.98887,     0.98883,      0.9888,     0.98876,     0.98872,     0.98868,     0.98865,     0.98861,     0.98857,     0.98853,      0.9885,     0.98846,     0.98842,     0.98839,     0.98835,     0.98831,     0.98827,     0.98824,      0.9882,     0.98816,\n",
      "            0.98812,     0.98809,     0.98805,     0.98801,     0.98798,     0.98794,      0.9879,     0.98786,     0.98783,     0.98779,     0.98775,     0.98771,     0.98768,     0.98764,      0.9876,     0.98757,     0.98753,     0.98749,     0.98745,     0.98742,     0.98738,     0.98734,      0.9873,\n",
      "            0.98727,     0.98723,     0.98719,     0.98715,     0.98712,     0.98708,     0.98704,     0.98701,     0.98697,     0.98693,     0.98689,     0.98686,     0.98682,     0.98678,     0.98674,     0.98671,     0.98667,     0.98663,     0.98659,     0.98656,     0.98652,     0.98648,     0.98644,\n",
      "            0.98641,     0.98637,     0.98633,     0.98629,     0.98626,     0.98622,     0.98618,     0.98615,     0.98611,     0.98607,     0.98603,       0.986,     0.98596,     0.98592,     0.98588,     0.98585,     0.98581,     0.98577,     0.98573,     0.98504,     0.98365,     0.98225,     0.98086,\n",
      "            0.97945,     0.97813,     0.97704,     0.97594,     0.97484,     0.97374,     0.97263,     0.97153,     0.96244,     0.96034,     0.95823,     0.95611,     0.95411,     0.95212,     0.95012,      0.9481,     0.94575,     0.94338,       0.941,     0.93712,     0.93258,     0.93491,     0.92164,\n",
      "             0.9186,     0.91554,     0.90337,     0.87905,     0.83929,     0.80771,     0.75249,     0.57518,     0.24623,     0.10208,           0]]), 'Confidence', 'F1'], [array([          0,    0.001001,    0.002002,    0.003003,    0.004004,    0.005005,    0.006006,    0.007007,    0.008008,    0.009009,     0.01001,    0.011011,    0.012012,    0.013013,    0.014014,    0.015015,    0.016016,    0.017017,    0.018018,    0.019019,     0.02002,    0.021021,    0.022022,    0.023023,\n",
      "          0.024024,    0.025025,    0.026026,    0.027027,    0.028028,    0.029029,     0.03003,    0.031031,    0.032032,    0.033033,    0.034034,    0.035035,    0.036036,    0.037037,    0.038038,    0.039039,     0.04004,    0.041041,    0.042042,    0.043043,    0.044044,    0.045045,    0.046046,    0.047047,\n",
      "          0.048048,    0.049049,     0.05005,    0.051051,    0.052052,    0.053053,    0.054054,    0.055055,    0.056056,    0.057057,    0.058058,    0.059059,     0.06006,    0.061061,    0.062062,    0.063063,    0.064064,    0.065065,    0.066066,    0.067067,    0.068068,    0.069069,     0.07007,    0.071071,\n",
      "          0.072072,    0.073073,    0.074074,    0.075075,    0.076076,    0.077077,    0.078078,    0.079079,     0.08008,    0.081081,    0.082082,    0.083083,    0.084084,    0.085085,    0.086086,    0.087087,    0.088088,    0.089089,     0.09009,    0.091091,    0.092092,    0.093093,    0.094094,    0.095095,\n",
      "          0.096096,    0.097097,    0.098098,    0.099099,      0.1001,      0.1011,      0.1021,      0.1031,      0.1041,     0.10511,     0.10611,     0.10711,     0.10811,     0.10911,     0.11011,     0.11111,     0.11211,     0.11311,     0.11411,     0.11512,     0.11612,     0.11712,     0.11812,     0.11912,\n",
      "           0.12012,     0.12112,     0.12212,     0.12312,     0.12412,     0.12513,     0.12613,     0.12713,     0.12813,     0.12913,     0.13013,     0.13113,     0.13213,     0.13313,     0.13413,     0.13514,     0.13614,     0.13714,     0.13814,     0.13914,     0.14014,     0.14114,     0.14214,     0.14314,\n",
      "           0.14414,     0.14515,     0.14615,     0.14715,     0.14815,     0.14915,     0.15015,     0.15115,     0.15215,     0.15315,     0.15415,     0.15516,     0.15616,     0.15716,     0.15816,     0.15916,     0.16016,     0.16116,     0.16216,     0.16316,     0.16416,     0.16517,     0.16617,     0.16717,\n",
      "           0.16817,     0.16917,     0.17017,     0.17117,     0.17217,     0.17317,     0.17417,     0.17518,     0.17618,     0.17718,     0.17818,     0.17918,     0.18018,     0.18118,     0.18218,     0.18318,     0.18418,     0.18519,     0.18619,     0.18719,     0.18819,     0.18919,     0.19019,     0.19119,\n",
      "           0.19219,     0.19319,     0.19419,      0.1952,      0.1962,      0.1972,      0.1982,      0.1992,      0.2002,      0.2012,      0.2022,      0.2032,      0.2042,     0.20521,     0.20621,     0.20721,     0.20821,     0.20921,     0.21021,     0.21121,     0.21221,     0.21321,     0.21421,     0.21522,\n",
      "           0.21622,     0.21722,     0.21822,     0.21922,     0.22022,     0.22122,     0.22222,     0.22322,     0.22422,     0.22523,     0.22623,     0.22723,     0.22823,     0.22923,     0.23023,     0.23123,     0.23223,     0.23323,     0.23423,     0.23524,     0.23624,     0.23724,     0.23824,     0.23924,\n",
      "           0.24024,     0.24124,     0.24224,     0.24324,     0.24424,     0.24525,     0.24625,     0.24725,     0.24825,     0.24925,     0.25025,     0.25125,     0.25225,     0.25325,     0.25425,     0.25526,     0.25626,     0.25726,     0.25826,     0.25926,     0.26026,     0.26126,     0.26226,     0.26326,\n",
      "           0.26426,     0.26527,     0.26627,     0.26727,     0.26827,     0.26927,     0.27027,     0.27127,     0.27227,     0.27327,     0.27427,     0.27528,     0.27628,     0.27728,     0.27828,     0.27928,     0.28028,     0.28128,     0.28228,     0.28328,     0.28428,     0.28529,     0.28629,     0.28729,\n",
      "           0.28829,     0.28929,     0.29029,     0.29129,     0.29229,     0.29329,     0.29429,      0.2953,      0.2963,      0.2973,      0.2983,      0.2993,      0.3003,      0.3013,      0.3023,      0.3033,      0.3043,     0.30531,     0.30631,     0.30731,     0.30831,     0.30931,     0.31031,     0.31131,\n",
      "           0.31231,     0.31331,     0.31431,     0.31532,     0.31632,     0.31732,     0.31832,     0.31932,     0.32032,     0.32132,     0.32232,     0.32332,     0.32432,     0.32533,     0.32633,     0.32733,     0.32833,     0.32933,     0.33033,     0.33133,     0.33233,     0.33333,     0.33433,     0.33534,\n",
      "           0.33634,     0.33734,     0.33834,     0.33934,     0.34034,     0.34134,     0.34234,     0.34334,     0.34434,     0.34535,     0.34635,     0.34735,     0.34835,     0.34935,     0.35035,     0.35135,     0.35235,     0.35335,     0.35435,     0.35536,     0.35636,     0.35736,     0.35836,     0.35936,\n",
      "           0.36036,     0.36136,     0.36236,     0.36336,     0.36436,     0.36537,     0.36637,     0.36737,     0.36837,     0.36937,     0.37037,     0.37137,     0.37237,     0.37337,     0.37437,     0.37538,     0.37638,     0.37738,     0.37838,     0.37938,     0.38038,     0.38138,     0.38238,     0.38338,\n",
      "           0.38438,     0.38539,     0.38639,     0.38739,     0.38839,     0.38939,     0.39039,     0.39139,     0.39239,     0.39339,     0.39439,      0.3954,      0.3964,      0.3974,      0.3984,      0.3994,      0.4004,      0.4014,      0.4024,      0.4034,      0.4044,     0.40541,     0.40641,     0.40741,\n",
      "           0.40841,     0.40941,     0.41041,     0.41141,     0.41241,     0.41341,     0.41441,     0.41542,     0.41642,     0.41742,     0.41842,     0.41942,     0.42042,     0.42142,     0.42242,     0.42342,     0.42442,     0.42543,     0.42643,     0.42743,     0.42843,     0.42943,     0.43043,     0.43143,\n",
      "           0.43243,     0.43343,     0.43443,     0.43544,     0.43644,     0.43744,     0.43844,     0.43944,     0.44044,     0.44144,     0.44244,     0.44344,     0.44444,     0.44545,     0.44645,     0.44745,     0.44845,     0.44945,     0.45045,     0.45145,     0.45245,     0.45345,     0.45445,     0.45546,\n",
      "           0.45646,     0.45746,     0.45846,     0.45946,     0.46046,     0.46146,     0.46246,     0.46346,     0.46446,     0.46547,     0.46647,     0.46747,     0.46847,     0.46947,     0.47047,     0.47147,     0.47247,     0.47347,     0.47447,     0.47548,     0.47648,     0.47748,     0.47848,     0.47948,\n",
      "           0.48048,     0.48148,     0.48248,     0.48348,     0.48448,     0.48549,     0.48649,     0.48749,     0.48849,     0.48949,     0.49049,     0.49149,     0.49249,     0.49349,     0.49449,      0.4955,      0.4965,      0.4975,      0.4985,      0.4995,      0.5005,      0.5015,      0.5025,      0.5035,\n",
      "            0.5045,     0.50551,     0.50651,     0.50751,     0.50851,     0.50951,     0.51051,     0.51151,     0.51251,     0.51351,     0.51451,     0.51552,     0.51652,     0.51752,     0.51852,     0.51952,     0.52052,     0.52152,     0.52252,     0.52352,     0.52452,     0.52553,     0.52653,     0.52753,\n",
      "           0.52853,     0.52953,     0.53053,     0.53153,     0.53253,     0.53353,     0.53453,     0.53554,     0.53654,     0.53754,     0.53854,     0.53954,     0.54054,     0.54154,     0.54254,     0.54354,     0.54454,     0.54555,     0.54655,     0.54755,     0.54855,     0.54955,     0.55055,     0.55155,\n",
      "           0.55255,     0.55355,     0.55455,     0.55556,     0.55656,     0.55756,     0.55856,     0.55956,     0.56056,     0.56156,     0.56256,     0.56356,     0.56456,     0.56557,     0.56657,     0.56757,     0.56857,     0.56957,     0.57057,     0.57157,     0.57257,     0.57357,     0.57457,     0.57558,\n",
      "           0.57658,     0.57758,     0.57858,     0.57958,     0.58058,     0.58158,     0.58258,     0.58358,     0.58458,     0.58559,     0.58659,     0.58759,     0.58859,     0.58959,     0.59059,     0.59159,     0.59259,     0.59359,     0.59459,      0.5956,      0.5966,      0.5976,      0.5986,      0.5996,\n",
      "            0.6006,      0.6016,      0.6026,      0.6036,      0.6046,     0.60561,     0.60661,     0.60761,     0.60861,     0.60961,     0.61061,     0.61161,     0.61261,     0.61361,     0.61461,     0.61562,     0.61662,     0.61762,     0.61862,     0.61962,     0.62062,     0.62162,     0.62262,     0.62362,\n",
      "           0.62462,     0.62563,     0.62663,     0.62763,     0.62863,     0.62963,     0.63063,     0.63163,     0.63263,     0.63363,     0.63463,     0.63564,     0.63664,     0.63764,     0.63864,     0.63964,     0.64064,     0.64164,     0.64264,     0.64364,     0.64464,     0.64565,     0.64665,     0.64765,\n",
      "           0.64865,     0.64965,     0.65065,     0.65165,     0.65265,     0.65365,     0.65465,     0.65566,     0.65666,     0.65766,     0.65866,     0.65966,     0.66066,     0.66166,     0.66266,     0.66366,     0.66466,     0.66567,     0.66667,     0.66767,     0.66867,     0.66967,     0.67067,     0.67167,\n",
      "           0.67267,     0.67367,     0.67467,     0.67568,     0.67668,     0.67768,     0.67868,     0.67968,     0.68068,     0.68168,     0.68268,     0.68368,     0.68468,     0.68569,     0.68669,     0.68769,     0.68869,     0.68969,     0.69069,     0.69169,     0.69269,     0.69369,     0.69469,      0.6957,\n",
      "            0.6967,      0.6977,      0.6987,      0.6997,      0.7007,      0.7017,      0.7027,      0.7037,      0.7047,     0.70571,     0.70671,     0.70771,     0.70871,     0.70971,     0.71071,     0.71171,     0.71271,     0.71371,     0.71471,     0.71572,     0.71672,     0.71772,     0.71872,     0.71972,\n",
      "           0.72072,     0.72172,     0.72272,     0.72372,     0.72472,     0.72573,     0.72673,     0.72773,     0.72873,     0.72973,     0.73073,     0.73173,     0.73273,     0.73373,     0.73473,     0.73574,     0.73674,     0.73774,     0.73874,     0.73974,     0.74074,     0.74174,     0.74274,     0.74374,\n",
      "           0.74474,     0.74575,     0.74675,     0.74775,     0.74875,     0.74975,     0.75075,     0.75175,     0.75275,     0.75375,     0.75475,     0.75576,     0.75676,     0.75776,     0.75876,     0.75976,     0.76076,     0.76176,     0.76276,     0.76376,     0.76476,     0.76577,     0.76677,     0.76777,\n",
      "           0.76877,     0.76977,     0.77077,     0.77177,     0.77277,     0.77377,     0.77477,     0.77578,     0.77678,     0.77778,     0.77878,     0.77978,     0.78078,     0.78178,     0.78278,     0.78378,     0.78478,     0.78579,     0.78679,     0.78779,     0.78879,     0.78979,     0.79079,     0.79179,\n",
      "           0.79279,     0.79379,     0.79479,      0.7958,      0.7968,      0.7978,      0.7988,      0.7998,      0.8008,      0.8018,      0.8028,      0.8038,      0.8048,     0.80581,     0.80681,     0.80781,     0.80881,     0.80981,     0.81081,     0.81181,     0.81281,     0.81381,     0.81481,     0.81582,\n",
      "           0.81682,     0.81782,     0.81882,     0.81982,     0.82082,     0.82182,     0.82282,     0.82382,     0.82482,     0.82583,     0.82683,     0.82783,     0.82883,     0.82983,     0.83083,     0.83183,     0.83283,     0.83383,     0.83483,     0.83584,     0.83684,     0.83784,     0.83884,     0.83984,\n",
      "           0.84084,     0.84184,     0.84284,     0.84384,     0.84484,     0.84585,     0.84685,     0.84785,     0.84885,     0.84985,     0.85085,     0.85185,     0.85285,     0.85385,     0.85485,     0.85586,     0.85686,     0.85786,     0.85886,     0.85986,     0.86086,     0.86186,     0.86286,     0.86386,\n",
      "           0.86486,     0.86587,     0.86687,     0.86787,     0.86887,     0.86987,     0.87087,     0.87187,     0.87287,     0.87387,     0.87487,     0.87588,     0.87688,     0.87788,     0.87888,     0.87988,     0.88088,     0.88188,     0.88288,     0.88388,     0.88488,     0.88589,     0.88689,     0.88789,\n",
      "           0.88889,     0.88989,     0.89089,     0.89189,     0.89289,     0.89389,     0.89489,      0.8959,      0.8969,      0.8979,      0.8989,      0.8999,      0.9009,      0.9019,      0.9029,      0.9039,      0.9049,     0.90591,     0.90691,     0.90791,     0.90891,     0.90991,     0.91091,     0.91191,\n",
      "           0.91291,     0.91391,     0.91491,     0.91592,     0.91692,     0.91792,     0.91892,     0.91992,     0.92092,     0.92192,     0.92292,     0.92392,     0.92492,     0.92593,     0.92693,     0.92793,     0.92893,     0.92993,     0.93093,     0.93193,     0.93293,     0.93393,     0.93493,     0.93594,\n",
      "           0.93694,     0.93794,     0.93894,     0.93994,     0.94094,     0.94194,     0.94294,     0.94394,     0.94494,     0.94595,     0.94695,     0.94795,     0.94895,     0.94995,     0.95095,     0.95195,     0.95295,     0.95395,     0.95495,     0.95596,     0.95696,     0.95796,     0.95896,     0.95996,\n",
      "           0.96096,     0.96196,     0.96296,     0.96396,     0.96496,     0.96597,     0.96697,     0.96797,     0.96897,     0.96997,     0.97097,     0.97197,     0.97297,     0.97397,     0.97497,     0.97598,     0.97698,     0.97798,     0.97898,     0.97998,     0.98098,     0.98198,     0.98298,     0.98398,\n",
      "           0.98498,     0.98599,     0.98699,     0.98799,     0.98899,     0.98999,     0.99099,     0.99199,     0.99299,     0.99399,     0.99499,       0.996,       0.997,       0.998,       0.999,           1]), array([[   0.017999,    0.017999,    0.035757,    0.065175,     0.10534,     0.14671,     0.19352,     0.23715,     0.27903,     0.32382,     0.35879,     0.40821,     0.43284,     0.45004,     0.46778,     0.47732,     0.50729,     0.53178,     0.54486,     0.56144,     0.57017,     0.57222,     0.57672,\n",
      "            0.58148,     0.59194,     0.61009,     0.61971,     0.62724,     0.64319,     0.64553,     0.64787,     0.65382,     0.67049,     0.67672,     0.69427,     0.69689,     0.69952,     0.72103,     0.72926,     0.73363,     0.73894,     0.74527,     0.74739,     0.74951,     0.75164,      0.7612,\n",
      "            0.76588,     0.76961,     0.77095,     0.77229,     0.77363,     0.77497,     0.77631,     0.77765,     0.78021,     0.78291,     0.78561,      0.7906,     0.80508,     0.80781,     0.81054,     0.81327,      0.8162,      0.8192,     0.82219,     0.82449,     0.82622,     0.82795,     0.82969,\n",
      "            0.83142,     0.83315,       0.835,     0.83687,     0.83873,      0.8406,     0.84246,     0.84886,     0.85441,     0.85578,     0.85714,     0.85851,     0.85987,     0.86123,      0.8626,     0.86396,     0.86573,     0.86757,     0.86942,     0.87127,     0.87311,     0.87496,     0.87598,\n",
      "            0.87699,     0.87799,     0.87899,        0.88,       0.881,     0.88201,     0.88301,     0.88401,     0.88502,     0.88602,     0.88757,     0.88916,     0.89074,     0.89232,      0.8939,     0.89548,     0.89707,     0.89865,     0.90024,     0.90182,     0.90341,       0.905,     0.90658,\n",
      "            0.90817,     0.91076,     0.91474,     0.91872,      0.9219,     0.92393,     0.92597,     0.92801,     0.93005,     0.93209,     0.93379,     0.93496,     0.93613,     0.93731,     0.93848,     0.93965,     0.94083,       0.942,     0.94317,     0.94435,     0.94552,     0.94601,     0.94612,\n",
      "            0.94622,     0.94633,     0.94644,     0.94654,     0.94665,     0.94675,     0.94686,     0.94696,     0.94707,     0.94717,     0.94728,     0.94738,     0.94749,      0.9476,      0.9477,     0.94781,     0.94791,     0.94802,     0.94812,     0.94823,     0.94833,     0.94844,     0.94854,\n",
      "            0.94865,     0.94876,     0.94886,     0.94897,     0.94907,     0.94918,     0.94928,     0.94939,     0.94949,      0.9496,     0.94971,     0.94981,     0.94992,     0.95002,     0.95013,     0.95023,     0.95034,     0.95044,     0.95055,     0.95065,     0.95076,     0.95087,     0.95097,\n",
      "            0.95108,     0.95118,     0.95129,     0.95139,      0.9515,      0.9516,     0.95171,     0.95181,     0.95192,     0.95203,     0.95213,     0.95224,     0.95234,     0.95245,     0.95255,     0.95266,     0.95276,     0.95287,     0.95298,     0.95308,     0.95319,     0.95329,      0.9534,\n",
      "             0.9535,     0.95361,     0.95371,     0.95382,     0.95392,     0.95403,     0.95414,     0.95424,     0.95435,     0.95445,     0.95456,     0.95466,     0.95477,     0.95487,     0.95498,     0.95508,     0.95519,      0.9553,      0.9554,     0.95551,     0.95561,     0.95572,     0.95582,\n",
      "            0.95593,     0.95603,     0.95614,     0.95625,     0.95635,     0.95646,     0.95656,     0.95667,     0.95677,     0.95688,     0.95698,     0.95709,     0.95719,      0.9573,     0.95741,     0.95751,     0.95762,     0.95772,     0.95783,     0.95793,     0.95804,     0.95814,     0.95825,\n",
      "            0.95836,     0.95846,     0.95857,     0.95867,     0.95878,     0.95888,     0.95893,     0.95897,     0.95901,     0.95905,     0.95909,     0.95912,     0.95916,      0.9592,     0.95924,     0.95928,     0.95931,     0.95935,     0.95939,     0.95943,     0.95947,      0.9595,     0.95954,\n",
      "            0.95958,     0.95962,     0.95966,     0.95969,     0.95973,     0.95977,     0.95981,     0.95985,     0.95988,     0.95992,     0.95996,        0.96,     0.96004,     0.96007,     0.96011,     0.96015,     0.96019,     0.96023,     0.96026,      0.9603,     0.96034,     0.96038,     0.96041,\n",
      "            0.96045,     0.96049,     0.96053,     0.96057,      0.9606,     0.96064,     0.96068,     0.96072,     0.96076,     0.96079,     0.96083,     0.96087,     0.96091,     0.96095,     0.96098,     0.96102,     0.96106,      0.9611,     0.96114,     0.96117,     0.96121,     0.96125,     0.96129,\n",
      "            0.96133,     0.96136,      0.9614,     0.96144,     0.96148,     0.96152,     0.96155,     0.96159,     0.96163,     0.96167,     0.96171,     0.96174,     0.96178,     0.96182,     0.96186,      0.9619,     0.96193,     0.96197,     0.96201,     0.96205,     0.96209,     0.96212,     0.96216,\n",
      "             0.9622,     0.96224,     0.96228,     0.96231,     0.96235,     0.96239,     0.96243,     0.96246,      0.9625,     0.96254,     0.96258,     0.96262,     0.96265,     0.96269,     0.96273,     0.96277,     0.96281,     0.96284,     0.96288,     0.96292,     0.96296,       0.963,     0.96303,\n",
      "            0.96307,     0.96311,     0.96315,     0.96319,     0.96322,     0.96326,      0.9633,     0.96334,     0.96338,     0.96341,     0.96345,     0.96349,     0.96353,     0.96357,      0.9636,     0.96364,     0.96368,     0.96372,     0.96376,     0.96379,     0.96383,     0.96387,     0.96391,\n",
      "            0.96395,     0.96398,     0.96402,     0.96406,      0.9641,     0.96414,     0.96417,     0.96421,     0.96425,     0.96429,     0.96433,     0.96436,      0.9644,     0.96444,     0.96448,     0.96451,     0.96455,     0.96459,     0.96463,     0.96467,      0.9647,     0.96474,     0.96478,\n",
      "            0.96482,     0.96486,     0.96489,     0.96493,     0.96497,     0.96501,     0.96505,     0.96508,     0.96512,     0.96516,      0.9652,     0.96524,     0.96527,     0.96531,     0.96535,     0.96539,     0.96543,     0.96546,      0.9655,     0.96554,     0.96558,     0.96562,     0.96565,\n",
      "            0.96569,     0.96573,     0.96577,     0.96581,     0.96584,     0.96588,     0.96592,     0.96596,       0.966,     0.96603,     0.96607,     0.96611,     0.96615,     0.96619,     0.96622,     0.96626,      0.9663,     0.96634,     0.96638,     0.96641,     0.96645,     0.96649,     0.96653,\n",
      "            0.96656,      0.9666,     0.96664,     0.96668,     0.96672,     0.96675,     0.96679,     0.96683,     0.96687,     0.96691,     0.96694,     0.96698,     0.96702,     0.96706,      0.9671,     0.96713,     0.96717,     0.96721,     0.96725,     0.96729,     0.96732,     0.96736,      0.9674,\n",
      "            0.96744,     0.96748,     0.96751,     0.96755,     0.96759,     0.96763,     0.96767,      0.9677,     0.96774,     0.96778,     0.96782,     0.96786,     0.96789,     0.96793,     0.96797,     0.96801,     0.96805,     0.96808,     0.96812,     0.96816,      0.9682,     0.96824,     0.96827,\n",
      "            0.96831,     0.96835,     0.96839,     0.96843,     0.96846,      0.9685,     0.96854,     0.96858,     0.96861,     0.96865,     0.96869,     0.96873,     0.96877,      0.9688,     0.96884,     0.96888,     0.96892,     0.96896,     0.96899,     0.96903,     0.96907,     0.96911,     0.96915,\n",
      "            0.96918,     0.96922,     0.96926,      0.9693,     0.96934,     0.96937,     0.96941,     0.96945,     0.96949,     0.96953,     0.96956,      0.9696,     0.96964,     0.96968,     0.96972,     0.96975,     0.96979,     0.96983,     0.96987,     0.96991,     0.96994,     0.96998,     0.97002,\n",
      "            0.97006,      0.9701,     0.97013,     0.97017,     0.97021,     0.97025,     0.97029,     0.97032,     0.97036,      0.9704,     0.97044,     0.97048,     0.97051,     0.97055,     0.97059,     0.97063,     0.97066,      0.9707,     0.97074,     0.97078,     0.97082,     0.97085,     0.97089,\n",
      "            0.97093,     0.97097,     0.97101,     0.97104,     0.97108,     0.97112,     0.97116,      0.9712,     0.97123,     0.97127,     0.97131,     0.97135,     0.97139,     0.97142,     0.97146,      0.9715,     0.97154,     0.97158,     0.97161,     0.97165,     0.97169,     0.97173,     0.97177,\n",
      "             0.9718,     0.97184,     0.97188,     0.97192,     0.97196,     0.97199,     0.97203,     0.97207,     0.97211,     0.97215,     0.97218,     0.97222,     0.97231,     0.97239,     0.97248,     0.97256,     0.97265,     0.97274,     0.97282,     0.97291,     0.97299,     0.97308,     0.97317,\n",
      "            0.97325,     0.97334,     0.97343,     0.97351,      0.9736,     0.97368,     0.97377,     0.97386,     0.97394,     0.97403,     0.97411,      0.9742,     0.97429,     0.97437,     0.97446,     0.97454,     0.97463,     0.97472,      0.9748,     0.97489,     0.97497,     0.97506,     0.97515,\n",
      "            0.97523,     0.97532,     0.97541,     0.97549,     0.97558,     0.97566,     0.97575,     0.97584,     0.97592,     0.97601,     0.97609,     0.97618,     0.97627,     0.97635,     0.97644,     0.97652,     0.97661,      0.9767,     0.97678,     0.97687,     0.97695,     0.97704,     0.97713,\n",
      "            0.97721,      0.9773,     0.97739,     0.97747,     0.97756,     0.97764,     0.97773,     0.97782,      0.9779,     0.97799,     0.97807,     0.97816,     0.97825,     0.97833,     0.97842,      0.9785,     0.97859,     0.97868,     0.97876,     0.97885,     0.97893,     0.97902,     0.97911,\n",
      "            0.97919,     0.97928,     0.97936,     0.97945,     0.97954,     0.97962,     0.97971,      0.9798,     0.97988,     0.97997,     0.98005,     0.98014,     0.98023,     0.98031,      0.9804,     0.98048,     0.98057,     0.98066,     0.98074,     0.98083,     0.98091,       0.981,     0.98109,\n",
      "            0.98117,     0.98126,     0.98134,     0.98143,     0.98152,      0.9816,     0.98169,     0.98178,     0.98186,     0.98195,     0.98203,     0.98212,     0.98221,     0.98229,     0.98238,     0.98246,     0.98255,     0.98264,     0.98272,     0.98281,     0.98289,     0.98298,     0.98307,\n",
      "            0.98315,     0.98324,     0.98332,     0.98341,      0.9835,     0.98358,     0.98367,     0.98376,     0.98384,     0.98393,     0.98401,      0.9841,     0.98419,     0.98427,     0.98436,     0.98444,     0.98453,     0.98462,      0.9847,     0.98479,     0.98487,     0.98496,     0.98505,\n",
      "            0.98513,     0.98522,      0.9853,     0.98539,     0.98548,     0.98556,     0.98565,     0.98573,     0.98582,     0.98591,     0.98591,     0.98591,     0.98591,     0.98591,     0.98591,     0.98591,     0.98591,     0.98591,     0.98591,     0.98591,      0.9859,      0.9859,      0.9859,\n",
      "             0.9859,      0.9859,      0.9859,      0.9859,      0.9859,      0.9859,     0.98589,     0.98589,     0.98589,     0.98589,     0.98589,     0.98589,     0.98589,     0.98589,     0.98589,     0.98589,     0.98588,     0.98588,     0.98588,     0.98588,     0.98588,     0.98588,     0.98588,\n",
      "            0.98588,     0.98588,     0.98588,     0.98587,     0.98587,     0.98587,     0.98587,     0.98587,     0.98587,     0.98587,     0.98587,     0.98587,     0.98586,     0.98586,     0.98586,     0.98586,     0.98586,     0.98586,     0.98586,     0.98586,     0.98586,     0.98586,     0.98585,\n",
      "            0.98585,     0.98585,     0.98585,     0.98585,     0.98585,     0.98585,     0.98585,     0.98585,     0.98584,     0.98584,     0.98584,     0.98584,     0.98584,     0.98584,     0.98584,     0.98584,     0.98584,     0.98584,     0.98583,     0.98583,     0.98583,     0.98583,     0.98583,\n",
      "            0.98583,     0.98583,     0.98583,     0.98583,     0.98583,     0.98582,     0.98582,     0.98582,     0.98582,     0.98582,     0.98582,     0.98582,     0.98582,     0.98582,     0.98581,     0.98581,     0.98581,     0.98581,     0.98581,     0.98581,     0.98581,     0.98581,     0.98581,\n",
      "            0.98581,      0.9858,      0.9858,      0.9858,      0.9858,      0.9858,      0.9858,      0.9858,      0.9858,      0.9858,     0.98579,     0.98579,     0.98579,     0.98579,     0.98579,     0.98579,     0.98579,     0.98579,     0.98579,     0.98579,     0.98578,     0.98578,     0.98578,\n",
      "            0.98578,     0.98578,     0.98578,     0.98578,     0.98578,     0.98578,     0.98578,     0.98577,     0.98577,     0.98577,     0.98577,     0.98577,     0.98577,     0.98577,     0.98577,     0.98577,     0.98576,     0.98576,     0.98576,     0.98576,     0.98576,     0.98576,     0.98576,\n",
      "            0.98576,     0.98576,     0.98576,     0.98575,     0.98575,     0.98575,     0.98575,     0.98575,     0.98575,     0.98575,     0.98575,     0.98575,     0.98574,     0.98574,     0.98574,     0.98574,     0.98574,     0.98574,     0.98574,     0.98574,     0.98574,     0.98574,     0.98573,\n",
      "            0.98573,     0.98573,     0.98573,     0.98573,     0.98573,     0.98573,     0.98573,     0.98573,     0.98573,     0.98572,     0.98572,     0.98572,     0.98572,     0.98572,     0.98572,     0.98572,     0.98572,     0.98572,     0.98571,     0.98569,     0.98566,     0.98562,     0.98558,\n",
      "            0.98554,      0.9855,     0.98547,     0.98544,      0.9854,     0.98537,     0.98534,     0.98531,     0.98504,     0.98498,     0.98492,     0.98486,     0.98479,     0.98473,     0.98467,     0.98461,     0.98454,     0.98447,      0.9844,     0.98428,     0.98413,           1,           1,\n",
      "                  1,           1,           1,           1,           1,           1,           1,           1,           1,           1,           1]]), 'Confidence', 'Precision'], [array([          0,    0.001001,    0.002002,    0.003003,    0.004004,    0.005005,    0.006006,    0.007007,    0.008008,    0.009009,     0.01001,    0.011011,    0.012012,    0.013013,    0.014014,    0.015015,    0.016016,    0.017017,    0.018018,    0.019019,     0.02002,    0.021021,    0.022022,    0.023023,\n",
      "          0.024024,    0.025025,    0.026026,    0.027027,    0.028028,    0.029029,     0.03003,    0.031031,    0.032032,    0.033033,    0.034034,    0.035035,    0.036036,    0.037037,    0.038038,    0.039039,     0.04004,    0.041041,    0.042042,    0.043043,    0.044044,    0.045045,    0.046046,    0.047047,\n",
      "          0.048048,    0.049049,     0.05005,    0.051051,    0.052052,    0.053053,    0.054054,    0.055055,    0.056056,    0.057057,    0.058058,    0.059059,     0.06006,    0.061061,    0.062062,    0.063063,    0.064064,    0.065065,    0.066066,    0.067067,    0.068068,    0.069069,     0.07007,    0.071071,\n",
      "          0.072072,    0.073073,    0.074074,    0.075075,    0.076076,    0.077077,    0.078078,    0.079079,     0.08008,    0.081081,    0.082082,    0.083083,    0.084084,    0.085085,    0.086086,    0.087087,    0.088088,    0.089089,     0.09009,    0.091091,    0.092092,    0.093093,    0.094094,    0.095095,\n",
      "          0.096096,    0.097097,    0.098098,    0.099099,      0.1001,      0.1011,      0.1021,      0.1031,      0.1041,     0.10511,     0.10611,     0.10711,     0.10811,     0.10911,     0.11011,     0.11111,     0.11211,     0.11311,     0.11411,     0.11512,     0.11612,     0.11712,     0.11812,     0.11912,\n",
      "           0.12012,     0.12112,     0.12212,     0.12312,     0.12412,     0.12513,     0.12613,     0.12713,     0.12813,     0.12913,     0.13013,     0.13113,     0.13213,     0.13313,     0.13413,     0.13514,     0.13614,     0.13714,     0.13814,     0.13914,     0.14014,     0.14114,     0.14214,     0.14314,\n",
      "           0.14414,     0.14515,     0.14615,     0.14715,     0.14815,     0.14915,     0.15015,     0.15115,     0.15215,     0.15315,     0.15415,     0.15516,     0.15616,     0.15716,     0.15816,     0.15916,     0.16016,     0.16116,     0.16216,     0.16316,     0.16416,     0.16517,     0.16617,     0.16717,\n",
      "           0.16817,     0.16917,     0.17017,     0.17117,     0.17217,     0.17317,     0.17417,     0.17518,     0.17618,     0.17718,     0.17818,     0.17918,     0.18018,     0.18118,     0.18218,     0.18318,     0.18418,     0.18519,     0.18619,     0.18719,     0.18819,     0.18919,     0.19019,     0.19119,\n",
      "           0.19219,     0.19319,     0.19419,      0.1952,      0.1962,      0.1972,      0.1982,      0.1992,      0.2002,      0.2012,      0.2022,      0.2032,      0.2042,     0.20521,     0.20621,     0.20721,     0.20821,     0.20921,     0.21021,     0.21121,     0.21221,     0.21321,     0.21421,     0.21522,\n",
      "           0.21622,     0.21722,     0.21822,     0.21922,     0.22022,     0.22122,     0.22222,     0.22322,     0.22422,     0.22523,     0.22623,     0.22723,     0.22823,     0.22923,     0.23023,     0.23123,     0.23223,     0.23323,     0.23423,     0.23524,     0.23624,     0.23724,     0.23824,     0.23924,\n",
      "           0.24024,     0.24124,     0.24224,     0.24324,     0.24424,     0.24525,     0.24625,     0.24725,     0.24825,     0.24925,     0.25025,     0.25125,     0.25225,     0.25325,     0.25425,     0.25526,     0.25626,     0.25726,     0.25826,     0.25926,     0.26026,     0.26126,     0.26226,     0.26326,\n",
      "           0.26426,     0.26527,     0.26627,     0.26727,     0.26827,     0.26927,     0.27027,     0.27127,     0.27227,     0.27327,     0.27427,     0.27528,     0.27628,     0.27728,     0.27828,     0.27928,     0.28028,     0.28128,     0.28228,     0.28328,     0.28428,     0.28529,     0.28629,     0.28729,\n",
      "           0.28829,     0.28929,     0.29029,     0.29129,     0.29229,     0.29329,     0.29429,      0.2953,      0.2963,      0.2973,      0.2983,      0.2993,      0.3003,      0.3013,      0.3023,      0.3033,      0.3043,     0.30531,     0.30631,     0.30731,     0.30831,     0.30931,     0.31031,     0.31131,\n",
      "           0.31231,     0.31331,     0.31431,     0.31532,     0.31632,     0.31732,     0.31832,     0.31932,     0.32032,     0.32132,     0.32232,     0.32332,     0.32432,     0.32533,     0.32633,     0.32733,     0.32833,     0.32933,     0.33033,     0.33133,     0.33233,     0.33333,     0.33433,     0.33534,\n",
      "           0.33634,     0.33734,     0.33834,     0.33934,     0.34034,     0.34134,     0.34234,     0.34334,     0.34434,     0.34535,     0.34635,     0.34735,     0.34835,     0.34935,     0.35035,     0.35135,     0.35235,     0.35335,     0.35435,     0.35536,     0.35636,     0.35736,     0.35836,     0.35936,\n",
      "           0.36036,     0.36136,     0.36236,     0.36336,     0.36436,     0.36537,     0.36637,     0.36737,     0.36837,     0.36937,     0.37037,     0.37137,     0.37237,     0.37337,     0.37437,     0.37538,     0.37638,     0.37738,     0.37838,     0.37938,     0.38038,     0.38138,     0.38238,     0.38338,\n",
      "           0.38438,     0.38539,     0.38639,     0.38739,     0.38839,     0.38939,     0.39039,     0.39139,     0.39239,     0.39339,     0.39439,      0.3954,      0.3964,      0.3974,      0.3984,      0.3994,      0.4004,      0.4014,      0.4024,      0.4034,      0.4044,     0.40541,     0.40641,     0.40741,\n",
      "           0.40841,     0.40941,     0.41041,     0.41141,     0.41241,     0.41341,     0.41441,     0.41542,     0.41642,     0.41742,     0.41842,     0.41942,     0.42042,     0.42142,     0.42242,     0.42342,     0.42442,     0.42543,     0.42643,     0.42743,     0.42843,     0.42943,     0.43043,     0.43143,\n",
      "           0.43243,     0.43343,     0.43443,     0.43544,     0.43644,     0.43744,     0.43844,     0.43944,     0.44044,     0.44144,     0.44244,     0.44344,     0.44444,     0.44545,     0.44645,     0.44745,     0.44845,     0.44945,     0.45045,     0.45145,     0.45245,     0.45345,     0.45445,     0.45546,\n",
      "           0.45646,     0.45746,     0.45846,     0.45946,     0.46046,     0.46146,     0.46246,     0.46346,     0.46446,     0.46547,     0.46647,     0.46747,     0.46847,     0.46947,     0.47047,     0.47147,     0.47247,     0.47347,     0.47447,     0.47548,     0.47648,     0.47748,     0.47848,     0.47948,\n",
      "           0.48048,     0.48148,     0.48248,     0.48348,     0.48448,     0.48549,     0.48649,     0.48749,     0.48849,     0.48949,     0.49049,     0.49149,     0.49249,     0.49349,     0.49449,      0.4955,      0.4965,      0.4975,      0.4985,      0.4995,      0.5005,      0.5015,      0.5025,      0.5035,\n",
      "            0.5045,     0.50551,     0.50651,     0.50751,     0.50851,     0.50951,     0.51051,     0.51151,     0.51251,     0.51351,     0.51451,     0.51552,     0.51652,     0.51752,     0.51852,     0.51952,     0.52052,     0.52152,     0.52252,     0.52352,     0.52452,     0.52553,     0.52653,     0.52753,\n",
      "           0.52853,     0.52953,     0.53053,     0.53153,     0.53253,     0.53353,     0.53453,     0.53554,     0.53654,     0.53754,     0.53854,     0.53954,     0.54054,     0.54154,     0.54254,     0.54354,     0.54454,     0.54555,     0.54655,     0.54755,     0.54855,     0.54955,     0.55055,     0.55155,\n",
      "           0.55255,     0.55355,     0.55455,     0.55556,     0.55656,     0.55756,     0.55856,     0.55956,     0.56056,     0.56156,     0.56256,     0.56356,     0.56456,     0.56557,     0.56657,     0.56757,     0.56857,     0.56957,     0.57057,     0.57157,     0.57257,     0.57357,     0.57457,     0.57558,\n",
      "           0.57658,     0.57758,     0.57858,     0.57958,     0.58058,     0.58158,     0.58258,     0.58358,     0.58458,     0.58559,     0.58659,     0.58759,     0.58859,     0.58959,     0.59059,     0.59159,     0.59259,     0.59359,     0.59459,      0.5956,      0.5966,      0.5976,      0.5986,      0.5996,\n",
      "            0.6006,      0.6016,      0.6026,      0.6036,      0.6046,     0.60561,     0.60661,     0.60761,     0.60861,     0.60961,     0.61061,     0.61161,     0.61261,     0.61361,     0.61461,     0.61562,     0.61662,     0.61762,     0.61862,     0.61962,     0.62062,     0.62162,     0.62262,     0.62362,\n",
      "           0.62462,     0.62563,     0.62663,     0.62763,     0.62863,     0.62963,     0.63063,     0.63163,     0.63263,     0.63363,     0.63463,     0.63564,     0.63664,     0.63764,     0.63864,     0.63964,     0.64064,     0.64164,     0.64264,     0.64364,     0.64464,     0.64565,     0.64665,     0.64765,\n",
      "           0.64865,     0.64965,     0.65065,     0.65165,     0.65265,     0.65365,     0.65465,     0.65566,     0.65666,     0.65766,     0.65866,     0.65966,     0.66066,     0.66166,     0.66266,     0.66366,     0.66466,     0.66567,     0.66667,     0.66767,     0.66867,     0.66967,     0.67067,     0.67167,\n",
      "           0.67267,     0.67367,     0.67467,     0.67568,     0.67668,     0.67768,     0.67868,     0.67968,     0.68068,     0.68168,     0.68268,     0.68368,     0.68468,     0.68569,     0.68669,     0.68769,     0.68869,     0.68969,     0.69069,     0.69169,     0.69269,     0.69369,     0.69469,      0.6957,\n",
      "            0.6967,      0.6977,      0.6987,      0.6997,      0.7007,      0.7017,      0.7027,      0.7037,      0.7047,     0.70571,     0.70671,     0.70771,     0.70871,     0.70971,     0.71071,     0.71171,     0.71271,     0.71371,     0.71471,     0.71572,     0.71672,     0.71772,     0.71872,     0.71972,\n",
      "           0.72072,     0.72172,     0.72272,     0.72372,     0.72472,     0.72573,     0.72673,     0.72773,     0.72873,     0.72973,     0.73073,     0.73173,     0.73273,     0.73373,     0.73473,     0.73574,     0.73674,     0.73774,     0.73874,     0.73974,     0.74074,     0.74174,     0.74274,     0.74374,\n",
      "           0.74474,     0.74575,     0.74675,     0.74775,     0.74875,     0.74975,     0.75075,     0.75175,     0.75275,     0.75375,     0.75475,     0.75576,     0.75676,     0.75776,     0.75876,     0.75976,     0.76076,     0.76176,     0.76276,     0.76376,     0.76476,     0.76577,     0.76677,     0.76777,\n",
      "           0.76877,     0.76977,     0.77077,     0.77177,     0.77277,     0.77377,     0.77477,     0.77578,     0.77678,     0.77778,     0.77878,     0.77978,     0.78078,     0.78178,     0.78278,     0.78378,     0.78478,     0.78579,     0.78679,     0.78779,     0.78879,     0.78979,     0.79079,     0.79179,\n",
      "           0.79279,     0.79379,     0.79479,      0.7958,      0.7968,      0.7978,      0.7988,      0.7998,      0.8008,      0.8018,      0.8028,      0.8038,      0.8048,     0.80581,     0.80681,     0.80781,     0.80881,     0.80981,     0.81081,     0.81181,     0.81281,     0.81381,     0.81481,     0.81582,\n",
      "           0.81682,     0.81782,     0.81882,     0.81982,     0.82082,     0.82182,     0.82282,     0.82382,     0.82482,     0.82583,     0.82683,     0.82783,     0.82883,     0.82983,     0.83083,     0.83183,     0.83283,     0.83383,     0.83483,     0.83584,     0.83684,     0.83784,     0.83884,     0.83984,\n",
      "           0.84084,     0.84184,     0.84284,     0.84384,     0.84484,     0.84585,     0.84685,     0.84785,     0.84885,     0.84985,     0.85085,     0.85185,     0.85285,     0.85385,     0.85485,     0.85586,     0.85686,     0.85786,     0.85886,     0.85986,     0.86086,     0.86186,     0.86286,     0.86386,\n",
      "           0.86486,     0.86587,     0.86687,     0.86787,     0.86887,     0.86987,     0.87087,     0.87187,     0.87287,     0.87387,     0.87487,     0.87588,     0.87688,     0.87788,     0.87888,     0.87988,     0.88088,     0.88188,     0.88288,     0.88388,     0.88488,     0.88589,     0.88689,     0.88789,\n",
      "           0.88889,     0.88989,     0.89089,     0.89189,     0.89289,     0.89389,     0.89489,      0.8959,      0.8969,      0.8979,      0.8989,      0.8999,      0.9009,      0.9019,      0.9029,      0.9039,      0.9049,     0.90591,     0.90691,     0.90791,     0.90891,     0.90991,     0.91091,     0.91191,\n",
      "           0.91291,     0.91391,     0.91491,     0.91592,     0.91692,     0.91792,     0.91892,     0.91992,     0.92092,     0.92192,     0.92292,     0.92392,     0.92492,     0.92593,     0.92693,     0.92793,     0.92893,     0.92993,     0.93093,     0.93193,     0.93293,     0.93393,     0.93493,     0.93594,\n",
      "           0.93694,     0.93794,     0.93894,     0.93994,     0.94094,     0.94194,     0.94294,     0.94394,     0.94494,     0.94595,     0.94695,     0.94795,     0.94895,     0.94995,     0.95095,     0.95195,     0.95295,     0.95395,     0.95495,     0.95596,     0.95696,     0.95796,     0.95896,     0.95996,\n",
      "           0.96096,     0.96196,     0.96296,     0.96396,     0.96496,     0.96597,     0.96697,     0.96797,     0.96897,     0.96997,     0.97097,     0.97197,     0.97297,     0.97397,     0.97497,     0.97598,     0.97698,     0.97798,     0.97898,     0.97998,     0.98098,     0.98198,     0.98298,     0.98398,\n",
      "           0.98498,     0.98599,     0.98699,     0.98799,     0.98899,     0.98999,     0.99099,     0.99199,     0.99299,     0.99399,     0.99499,       0.996,       0.997,       0.998,       0.999,           1]), array([[          1,           1,           1,           1,           1,           1,           1,           1,           1,           1,           1,           1,           1,           1,           1,           1,           1,           1,           1,           1,           1,           1,           1,\n",
      "                  1,           1,           1,           1,           1,           1,           1,           1,           1,           1,           1,           1,           1,           1,           1,           1,           1,           1,           1,           1,           1,           1,           1,\n",
      "                  1,           1,           1,           1,           1,           1,           1,           1,           1,           1,           1,           1,           1,           1,           1,           1,           1,           1,           1,           1,           1,           1,           1,\n",
      "                  1,           1,           1,           1,           1,           1,           1,           1,           1,           1,           1,           1,           1,           1,           1,           1,           1,           1,           1,           1,           1,           1,           1,\n",
      "                  1,           1,           1,           1,           1,           1,           1,           1,           1,           1,           1,           1,           1,           1,           1,           1,           1,           1,           1,           1,           1,           1,           1,\n",
      "                  1,           1,           1,           1,           1,           1,           1,           1,           1,           1,           1,           1,           1,           1,           1,           1,           1,           1,           1,           1,           1,           1,           1,\n",
      "                  1,           1,           1,           1,           1,           1,           1,           1,           1,           1,           1,           1,           1,           1,           1,           1,           1,           1,           1,           1,           1,           1,           1,\n",
      "                  1,           1,           1,           1,           1,           1,           1,           1,           1,           1,           1,           1,           1,           1,           1,           1,           1,           1,           1,           1,           1,           1,           1,\n",
      "                  1,           1,           1,           1,           1,           1,           1,           1,           1,           1,           1,           1,           1,           1,           1,           1,           1,           1,           1,           1,           1,           1,           1,\n",
      "                  1,           1,           1,           1,           1,           1,           1,           1,           1,           1,           1,           1,           1,           1,           1,           1,           1,           1,           1,           1,           1,           1,           1,\n",
      "                  1,           1,           1,           1,           1,           1,           1,           1,           1,           1,           1,           1,           1,           1,           1,           1,           1,           1,           1,           1,           1,           1,           1,\n",
      "                  1,           1,           1,           1,           1,           1,           1,           1,           1,           1,           1,           1,           1,           1,           1,           1,           1,           1,           1,           1,           1,           1,           1,\n",
      "                  1,           1,           1,           1,           1,           1,           1,           1,           1,           1,           1,           1,           1,           1,           1,           1,           1,           1,           1,           1,           1,           1,           1,\n",
      "                  1,           1,           1,           1,           1,           1,           1,           1,           1,           1,           1,           1,           1,           1,           1,           1,           1,           1,           1,           1,           1,           1,           1,\n",
      "                  1,           1,           1,           1,           1,           1,           1,           1,           1,           1,           1,           1,           1,           1,           1,           1,           1,           1,           1,           1,           1,           1,           1,\n",
      "                  1,           1,           1,           1,           1,           1,           1,           1,           1,           1,           1,           1,           1,           1,           1,           1,           1,           1,           1,           1,           1,           1,           1,\n",
      "                  1,           1,           1,           1,           1,           1,           1,           1,           1,           1,           1,           1,           1,           1,           1,           1,           1,           1,           1,           1,           1,           1,           1,\n",
      "                  1,           1,           1,           1,           1,           1,           1,           1,           1,           1,           1,           1,           1,           1,           1,           1,           1,           1,           1,           1,           1,           1,           1,\n",
      "                  1,           1,           1,           1,           1,           1,           1,           1,           1,           1,           1,           1,           1,           1,           1,           1,           1,           1,           1,           1,           1,           1,           1,\n",
      "                  1,           1,           1,           1,           1,           1,           1,           1,           1,           1,           1,           1,           1,           1,           1,           1,           1,           1,           1,           1,           1,           1,           1,\n",
      "                  1,           1,           1,           1,           1,           1,           1,           1,           1,           1,           1,           1,           1,           1,           1,           1,           1,           1,           1,           1,           1,           1,           1,\n",
      "                  1,           1,           1,           1,           1,           1,           1,           1,           1,           1,           1,           1,           1,           1,           1,           1,           1,           1,           1,           1,           1,           1,           1,\n",
      "                  1,           1,           1,           1,           1,           1,           1,           1,           1,           1,           1,           1,           1,           1,           1,           1,           1,           1,           1,           1,           1,           1,           1,\n",
      "                  1,           1,           1,           1,           1,           1,           1,           1,           1,           1,           1,           1,           1,           1,           1,           1,           1,           1,           1,           1,           1,           1,           1,\n",
      "                  1,           1,           1,           1,           1,           1,           1,           1,           1,           1,           1,           1,           1,           1,           1,           1,           1,           1,           1,           1,           1,           1,           1,\n",
      "                  1,           1,           1,           1,           1,           1,           1,           1,           1,           1,           1,           1,           1,           1,           1,           1,           1,           1,           1,           1,           1,           1,           1,\n",
      "                  1,           1,           1,           1,           1,           1,           1,           1,           1,           1,           1,           1,           1,           1,           1,           1,           1,           1,           1,           1,           1,           1,           1,\n",
      "                  1,           1,           1,           1,           1,           1,           1,           1,           1,           1,           1,           1,           1,           1,           1,           1,           1,           1,           1,           1,           1,           1,           1,\n",
      "                  1,           1,           1,           1,           1,           1,           1,           1,           1,           1,           1,           1,           1,           1,           1,           1,           1,           1,           1,           1,           1,           1,           1,\n",
      "                  1,           1,           1,           1,           1,           1,           1,           1,           1,           1,           1,           1,           1,           1,           1,           1,           1,           1,           1,           1,           1,           1,           1,\n",
      "                  1,           1,           1,           1,           1,           1,           1,           1,           1,           1,           1,           1,           1,           1,           1,           1,           1,           1,           1,           1,           1,           1,           1,\n",
      "                  1,           1,           1,           1,           1,           1,           1,           1,           1,           1,           1,           1,           1,           1,           1,           1,           1,           1,           1,           1,           1,           1,           1,\n",
      "                  1,           1,           1,           1,           1,           1,           1,           1,           1,           1,           1,           1,           1,           1,           1,           1,           1,           1,           1,           1,           1,           1,           1,\n",
      "                  1,           1,           1,           1,           1,           1,           1,           1,           1,           1,     0.99993,     0.99986,     0.99979,     0.99971,     0.99964,     0.99956,     0.99949,     0.99942,     0.99934,     0.99927,     0.99919,     0.99912,     0.99905,\n",
      "            0.99897,      0.9989,     0.99883,     0.99875,     0.99868,      0.9986,     0.99853,     0.99846,     0.99838,     0.99831,     0.99823,     0.99816,     0.99809,     0.99801,     0.99794,     0.99787,     0.99779,     0.99772,     0.99764,     0.99757,      0.9975,     0.99742,     0.99735,\n",
      "            0.99727,      0.9972,     0.99713,     0.99705,     0.99698,     0.99691,     0.99683,     0.99676,     0.99668,     0.99661,     0.99654,     0.99646,     0.99639,     0.99631,     0.99624,     0.99617,     0.99609,     0.99602,     0.99594,     0.99587,      0.9958,     0.99572,     0.99565,\n",
      "            0.99558,      0.9955,     0.99543,     0.99535,     0.99528,     0.99521,     0.99513,     0.99506,     0.99498,     0.99491,     0.99484,     0.99476,     0.99469,     0.99462,     0.99454,     0.99447,     0.99439,     0.99432,     0.99425,     0.99417,      0.9941,     0.99402,     0.99395,\n",
      "            0.99388,      0.9938,     0.99373,     0.99366,     0.99358,     0.99351,     0.99343,     0.99336,     0.99329,     0.99321,     0.99314,     0.99306,     0.99299,     0.99292,     0.99284,     0.99277,     0.99269,     0.99262,     0.99255,     0.99247,      0.9924,     0.99233,     0.99225,\n",
      "            0.99218,      0.9921,     0.99203,     0.99196,     0.99188,     0.99181,     0.99173,     0.99166,     0.99159,     0.99151,     0.99144,     0.99137,     0.99129,     0.99122,     0.99114,     0.99107,       0.991,     0.99092,     0.99085,     0.99077,      0.9907,     0.99063,     0.99055,\n",
      "            0.99048,     0.99041,     0.99033,     0.99026,     0.99018,     0.99011,     0.99004,     0.98996,     0.98989,     0.98981,     0.98974,     0.98967,     0.98959,     0.98952,     0.98945,     0.98937,      0.9893,     0.98922,     0.98915,     0.98908,       0.989,     0.98893,     0.98885,\n",
      "            0.98878,     0.98871,     0.98863,     0.98856,     0.98848,     0.98841,     0.98834,     0.98826,     0.98819,     0.98812,     0.98804,     0.98797,     0.98789,     0.98782,     0.98775,     0.98767,      0.9876,     0.98752,     0.98745,     0.98738,      0.9873,     0.98723,     0.98716,\n",
      "            0.98708,     0.98701,     0.98693,     0.98686,     0.98679,     0.98671,     0.98664,     0.98656,     0.98649,     0.98642,     0.98634,     0.98627,      0.9862,     0.98612,     0.98605,     0.98597,      0.9859,     0.98583,     0.98575,     0.98438,     0.98164,     0.97891,     0.97618,\n",
      "            0.97345,     0.97087,     0.96875,     0.96662,      0.9645,     0.96238,     0.96025,     0.95813,     0.94084,     0.93689,     0.93294,     0.92899,     0.92528,     0.92159,      0.9179,      0.9142,     0.90989,     0.90558,     0.90127,     0.89427,     0.88615,     0.87778,     0.85466,\n",
      "            0.84945,     0.84424,     0.82376,      0.7842,     0.72309,     0.67744,      0.6032,     0.40369,      0.1404,    0.053787,           0]]), 'Confidence', 'Recall']]\n",
      "fitness: np.float64(0.9606838355509608)\n",
      "keys: ['metrics/precision(B)', 'metrics/recall(B)', 'metrics/mAP50(B)', 'metrics/mAP50-95(B)']\n",
      "maps: array([    0.95704])\n",
      "names: {0: 'problem'}\n",
      "plot: True\n",
      "results_dict: {'metrics/precision(B)': np.float64(0.9859114332537584), 'metrics/recall(B)': np.float64(0.9997117610168472), 'metrics/mAP50(B)': np.float64(0.9934507042253521), 'metrics/mAP50-95(B)': np.float64(0.9570430723649173), 'fitness': np.float64(0.9606838355509608)}\n",
      "save_dir: WindowsPath('c:/Users/SSAFY/Desktop/개인폴더/Dan-C/runs/detect/train112')\n",
      "speed: {'preprocess': 1.1158461538448488, 'inference': 141.5779230769221, 'loss': 9.230769557269433e-05, 'postprocess': 0.8387538461490224}\n",
      "task: 'detect'\n"
     ]
    }
   ],
   "source": [
    "# 테스트\n",
    "results = model.val(data='dataset/data.yaml')\n",
    "print(results)"
   ]
  },
  {
   "cell_type": "code",
   "execution_count": 12,
   "metadata": {},
   "outputs": [],
   "source": [
    "# 모델 저장\n",
    "model_path = \"danbi-m-v1.pt\"\n",
    "model.save(model_path)"
   ]
  },
  {
   "cell_type": "markdown",
   "metadata": {},
   "source": [
    "# 잘 동작하는지 테스트"
   ]
  },
  {
   "cell_type": "code",
   "execution_count": 14,
   "metadata": {},
   "outputs": [
    {
     "name": "stdout",
     "output_type": "stream",
     "text": [
      "\n",
      "image 1/1 c:\\Users\\SSAFY\\Desktop\\\\Dan-C\\image.png: 640x480 6 problems, 124.7ms\n",
      "Speed: 1.7ms preprocess, 124.7ms inference, 0.5ms postprocess per image at shape (1, 3, 640, 480)\n",
      "결과 이미지가 detect_test-m3.png로 저장되었습니다.\n"
     ]
    }
   ],
   "source": [
    "from ultralytics import YOLO\n",
    "import cv2\n",
    "# import matplotlib.pyplot as plt\n",
    "\n",
    "# 저장된 모델 불러오기\n",
    "model = YOLO(\"danbi-m-v1.pt\")\n",
    "\n",
    "target_img = \"image.png\"\n",
    "\n",
    "# 이미지 예측\n",
    "results = model.predict(source=target_img, save=False, show=False)  # 이미지 경로 설정\n",
    "\n",
    "# 예측된 결과 가져오기\n",
    "predictions = results[0]  # 첫 번째 이미지 결과 (리스트 형식)\n",
    "\n",
    "# 이미지 읽기\n",
    "image = cv2.imread(target_img)\n",
    "\n",
    "# 바운딩 박스 그리기\n",
    "for box in predictions.boxes:\n",
    "    x1, y1, x2, y2 = box.xyxy[0]  # 좌표 추출\n",
    "    label = int(box.cls)  # 클래스 인덱스\n",
    "    confidence = box.conf[0]  # 확률\n",
    "    label_name = predictions.names[label]  # 클래스 이름\n",
    "\n",
    "    # 바운딩 박스 그리기\n",
    "    cv2.rectangle(image, (int(x1), int(y1)), (int(x2), int(y2)), (0, 255, 0), 2)\n",
    "    cv2.putText(image, f'{label_name} {confidence:.2f}', (int(x1), int(y1) - 10), cv2.FONT_HERSHEY_SIMPLEX, 0.9, (0, 255, 0), 2)\n",
    "\n",
    "# 이미지 저장\n",
    "output_filename = \"detect_test-m3.png\"\n",
    "cv2.imwrite(output_filename, image)\n",
    "\n",
    "print(f\"결과 이미지가 {output_filename}로 저장되었습니다.\")\n"
   ]
  },
  {
   "cell_type": "code",
   "execution_count": null,
   "metadata": {},
   "outputs": [],
   "source": [
    "# # small은 잘 보이는데 x는 안보여서 일단 사용 정지\n",
    "# from ultralytics import YOLO\n",
    "# import cv2\n",
    "# import matplotlib.pyplot as plt\n",
    "\n",
    "# # 저장된 모델 불러오기\n",
    "# model = YOLO(\"danbi-x-v1.pt\")\n",
    "\n",
    "# target_img = \"output2/page_16.jpg\"\n",
    "\n",
    "# # 이미지 예측\n",
    "# results = model.predict(source=target_img, save=False, show=False)  # 이미지 경로 설정\n",
    "\n",
    "# # 예측된 결과 가져오기\n",
    "# predictions = results[0]  # 첫 번째 이미지 결과 (리스트 형식)\n",
    "\n",
    "# # 이미지 읽기\n",
    "# image = cv2.imread(target_img)\n",
    "\n",
    "# # 바운딩 박스 그리기\n",
    "# for box in predictions.boxes:\n",
    "#     x1, y1, x2, y2 = box.xyxy[0]  # 좌표 추출\n",
    "#     label = int(box.cls)  # 클래스 인덱스\n",
    "#     confidence = box.conf[0]  # 확률\n",
    "#     label_name = predictions.names[label]  # 클래스 이름\n",
    "\n",
    "#     # 바운딩 박스 그리기\n",
    "#     cv2.rectangle(image, (int(x1), int(y1)), (int(x2), int(y2)), (0, 255, 0), 2)\n",
    "#     cv2.putText(image, f'{label_name} {confidence:.2f}', (int(x1), int(y1) - 10), cv2.FONT_HERSHEY_SIMPLEX, 0.9, (0, 255, 0), 2)\n",
    "\n",
    "# # Matplotlib을 이용해 이미지 출력\n",
    "# plt.figure(figsize=(10, 10))\n",
    "# plt.imshow(cv2.cvtColor(image, cv2.COLOR_BGR2RGB))\n",
    "# plt.axis('off')\n",
    "# plt.show()"
   ]
  },
  {
   "cell_type": "markdown",
   "metadata": {},
   "source": [
    "# 인식한 객체 자르기까지 수행"
   ]
  },
  {
   "cell_type": "code",
   "execution_count": null,
   "metadata": {},
   "outputs": [],
   "source": [
    "# 인식한 객체 크기로 자르기\n",
    "\n",
    "import os\n",
    "from ultralytics import YOLO\n",
    "import cv2\n",
    "import matplotlib.pyplot as plt\n",
    "\n",
    "# 저장된 모델 불러오기\n",
    "model = YOLO(\"danbi-m-v1.pt\")\n",
    "\n",
    "target_img = \"output2/page_30.jpg\"\n",
    "\n",
    "# 파일 이름 추출 (확장자 제거)\n",
    "base_name = os.path.splitext(os.path.basename(target_img))[0]\n",
    "\n",
    "# 예측된 이미지의 DPI를 600으로 설정하는 함수\n",
    "def save_image_with_dpi(image, path, dpi=600):\n",
    "    height, width = image.shape[:2]\n",
    "    fig = plt.figure(figsize=(width / dpi, height / dpi), dpi=dpi)\n",
    "    ax = fig.add_subplot(111)\n",
    "    ax.imshow(cv2.cvtColor(image, cv2.COLOR_BGR2RGB))\n",
    "    ax.axis('off')\n",
    "    fig.savefig(path, dpi=dpi, bbox_inches='tight', pad_inches=0)\n",
    "    plt.close(fig)\n",
    "\n",
    "# 예측된 이미지로부터 객체 자르기 및 저장하기\n",
    "def save_detected_objects(image, predictions, base_name, folder_name='detect_problem'):\n",
    "    if not os.path.exists(folder_name):\n",
    "        os.makedirs(folder_name)\n",
    "\n",
    "    object_count = 1  # 이미지 번호를 1부터 시작\n",
    "    for box in predictions.boxes:\n",
    "        x1, y1, x2, y2 = box.xyxy[0]  # 좌표 추출\n",
    "        cropped_img = image[int(y1):int(y2), int(x1):int(x2)]  # 객체 영역 자르기\n",
    "        \n",
    "        # 객체를 파일로 저장 (base_name 기반)\n",
    "        file_path = os.path.join(folder_name, f'{base_name}_{object_count}.png')\n",
    "        save_image_with_dpi(cropped_img, file_path, dpi=600)\n",
    "        object_count += 1\n",
    "\n",
    "    print(f\"{object_count - 1} objects saved in {folder_name} folder with base name '{base_name}'.\")\n",
    "\n",
    "# 이미지 예측\n",
    "results = model.predict(source=target_img, save=False, show=False)  # 이미지 경로 설정\n",
    "\n",
    "# 예측된 결과 가져오기\n",
    "predictions = results[0]  # 첫 번째 이미지 결과 (리스트 형식)\n",
    "\n",
    "# 이미지 읽기\n",
    "image = cv2.imread(target_img)\n",
    "\n",
    "# 예측된 객체를 잘라서 저장 (base_name 기반)\n",
    "save_detected_objects(image, predictions, base_name, folder_name='detect_problem')\n",
    "\n",
    "# 바운딩 박스 그린 결과 이미지 보여주기 (옵션)\n",
    "for box in predictions.boxes:\n",
    "    x1, y1, x2, y2 = box.xyxy[0]  # 좌표 추출\n",
    "    label = int(box.cls)  # 클래스 인덱스\n",
    "    confidence = box.conf[0]  # 확률\n",
    "    label_name = predictions.names[label]  # 클래스 이름\n",
    "\n",
    "    # 바운딩 박스 그리기\n",
    "    cv2.rectangle(image, (int(x1), int(y1)), (int(x2), int(y2)), (0, 255, 0), 2)\n",
    "    cv2.putText(image, f'{label_name} {confidence:.2f}', (int(x1), int(y1) - 10), cv2.FONT_HERSHEY_SIMPLEX, 0.9, (0, 255, 0), 2)\n",
    "\n",
    "# Matplotlib을 이용해 바운딩 박스가 그려진 이미지 출력 (옵션)\n",
    "plt.figure(figsize=(10, 10))\n",
    "plt.imshow(cv2.cvtColor(image, cv2.COLOR_BGR2RGB))\n",
    "plt.axis('off')\n",
    "plt.show()\n"
   ]
  },
  {
   "cell_type": "markdown",
   "metadata": {},
   "source": [
    "---"
   ]
  },
  {
   "cell_type": "markdown",
   "metadata": {},
   "source": [
    "# OpenCV로 시도 (실패)"
   ]
  },
  {
   "cell_type": "code",
   "execution_count": null,
   "metadata": {},
   "outputs": [],
   "source": [
    "import cv2\n",
    "\n",
    "# GPU 지원 확인\n",
    "if cv2.cuda.getCudaEnabledDeviceCount() > 0:\n",
    "    print(\"CUDA GPU 사용 가능!\")\n",
    "    # 예시로 이미지 처리 작업을 GPU로 수행\n",
    "    img = cv2.imread('image.jpg')\n",
    "    gpu_img = cv2.cuda_GpuMat()\n",
    "    gpu_img.upload(img)\n",
    "\n",
    "    # GPU에서 블러링 수행\n",
    "    gpu_result = cv2.cuda.filter2D(gpu_img, -1, kernel)\n",
    "    result = gpu_result.download()  # 결과를 CPU로 다운로드\n",
    "else:\n",
    "    print(\"CUDA GPU 사용 불가\")"
   ]
  },
  {
   "cell_type": "code",
   "execution_count": null,
   "metadata": {},
   "outputs": [],
   "source": [
    "# import cv2\n",
    "\n",
    "# # 이미지 불러오기\n",
    "# image = cv2.imread('output_jpg_images/page_12.jpg')\n",
    "\n",
    "# # 1. 그레이스케일 변환\n",
    "# gray = cv2.cvtColor(image, cv2.COLOR_BGR2GRAY)\n",
    "\n",
    "# # 2. 블러 적용 (노이즈 제거)\n",
    "# blurred = cv2.GaussianBlur(gray, (5, 5), 0)\n",
    "\n",
    "# # 3. 엣지 검출 (Canny Edge Detection)\n",
    "# edges = cv2.Canny(blurred, 50, 150)\n",
    "\n",
    "# # 4. 윤곽선 검출\n",
    "# contours, _ = cv2.findContours(edges, cv2.RETR_EXTERNAL, cv2.CHAIN_APPROX_SIMPLE)\n",
    "\n",
    "# # 5. 특정 크기 이상의 윤곽선만 처리 (너무 작은 영역은 무시)\n",
    "# min_width, min_height = 20, 20  # 최소 크기 기준을 문제의 크기에 맞춰 설정\n",
    "\n",
    "# for contour in contours:\n",
    "#     x, y, w, h = cv2.boundingRect(contour)\n",
    "    \n",
    "#     # 큰 문제 단위만 처리\n",
    "#     if w > min_width and h > min_height:\n",
    "#         # 원본 이미지 위에 사각형 그리기\n",
    "#         cv2.rectangle(image, (x, y), (x + w, y + h), (0, 255, 0), 2)  # 초록색 사각형\n",
    "\n",
    "# # 6. 결과 이미지를 파일로 저장\n",
    "# cv2.imwrite('char_detect.jpg', image)\n"
   ]
  },
  {
   "cell_type": "code",
   "execution_count": null,
   "metadata": {},
   "outputs": [],
   "source": [
    "# import cv2\n",
    "# import numpy as np\n",
    "\n",
    "# # 이미지 불러오기\n",
    "# image = cv2.imread('output_jpg_images/page_12.jpg')\n",
    "\n",
    "# # 1. 그레이스케일 변환\n",
    "# gray = cv2.cvtColor(image, cv2.COLOR_BGR2GRAY)\n",
    "\n",
    "# # 2. 이진화 적용 (adaptive thresholding)\n",
    "# binary = cv2.adaptiveThreshold(gray, 255, cv2.ADAPTIVE_THRESH_GAUSSIAN_C, cv2.THRESH_BINARY_INV, 15, 10)\n",
    "\n",
    "# # 3. 모폴로지 변환 적용 (침식 후 팽창, 즉 closing 작업으로 글자들이 모여있는 영역 인식)\n",
    "# kernel = cv2.getStructuringElement(cv2.MORPH_RECT, (15, 15))  # 블록 크기를 조정하여 인식할 영역 크기 변경 가능\n",
    "# morphed = cv2.morphologyEx(binary, cv2.MORPH_CLOSE, kernel)\n",
    "\n",
    "# # 4. 윤곽선 검출 (모폴로지 변환 후 텍스트 블록 찾기)\n",
    "# contours, _ = cv2.findContours(morphed, cv2.RETR_EXTERNAL, cv2.CHAIN_APPROX_SIMPLE)\n",
    "\n",
    "# # 5. 윤곽선 기반으로 사각형 그리기 (글자 집합으로 인식된 영역)\n",
    "# for contour in contours:\n",
    "#     x, y, w, h = cv2.boundingRect(contour)\n",
    "    \n",
    "#     # 특정 크기 이상의 윤곽선만 처리 (너무 작은 영역은 무시)\n",
    "#     if w > 100 and h > 100:  # 이 값을 조정하여 작은 텍스트는 무시 가능\n",
    "#         # 원본 이미지 위에 사각형 그리기\n",
    "#         cv2.rectangle(image, (x, y), (x + w, y + h), (0, 255, 0), 2)  # 초록색 사각형\n",
    "\n",
    "# # 6. 결과 이미지를 파일로 저장\n",
    "# cv2.imwrite('text_detect.jpg', image)\n"
   ]
  },
  {
   "cell_type": "code",
   "execution_count": null,
   "metadata": {},
   "outputs": [],
   "source": [
    "# 그나마 나은 버전\n",
    "\n",
    "import cv2\n",
    "import numpy as np\n",
    "\n",
    "# 이미지 불러오기\n",
    "image = cv2.imread('output1/page_12.jpg')\n",
    "\n",
    "# 1. 그레이스케일 변환\n",
    "gray = cv2.cvtColor(image, cv2.COLOR_BGR2GRAY)\n",
    "\n",
    "# 2. 이미지 이진화 (Global Threshold 적용)\n",
    "_, binary = cv2.threshold(gray, 150, 255, cv2.THRESH_BINARY_INV)\n",
    "\n",
    "# 3. 모폴로지 연산으로 텍스트 영역 강조 (Close 연산: 팽창 후 침식)\n",
    "kernel = cv2.getStructuringElement(cv2.MORPH_RECT, (15, 5))  # 텍스트 블록의 가로길이를 고려한 커널 설정\n",
    "morphed = cv2.morphologyEx(binary, cv2.MORPH_CLOSE, kernel)\n",
    "\n",
    "# 4. 윤곽선 검출\n",
    "contours, _ = cv2.findContours(morphed, cv2.RETR_EXTERNAL, cv2.CHAIN_APPROX_SIMPLE)\n",
    "\n",
    "# 5. 윤곽선 기반으로 사각형 그리기\n",
    "for contour in contours:\n",
    "    x, y, w, h = cv2.boundingRect(contour)\n",
    "    \n",
    "    # 특정 크기 이상의 윤곽선만 처리 (너무 작은 영역은 무시)\n",
    "    if w > 100 and h > 20:  # 너비와 높이 기준을 조정하여 작은 텍스트 제외\n",
    "        # 원본 이미지 위에 사각형 그리기\n",
    "        cv2.rectangle(image, (x, y), (x + w, y + h), (0, 255, 0), 2)  # 초록색 사각형\n",
    "\n",
    "# 6. 결과 이미지 저장\n",
    "cv2.imwrite('text_detect_2.jpg', image)\n"
   ]
  },
  {
   "cell_type": "code",
   "execution_count": null,
   "metadata": {},
   "outputs": [],
   "source": [
    "# import cv2\n",
    "\n",
    "# # 이미지 불러오기\n",
    "# image = cv2.imread('output_jpg_images/page_12.jpg')\n",
    "\n",
    "# # 1. 그레이스케일 변환\n",
    "# gray = cv2.cvtColor(image, cv2.COLOR_BGR2GRAY)\n",
    "\n",
    "# # 2. 이진화 적용 (글로벌 이진화 적용)\n",
    "# _, binary = cv2.threshold(gray, 150, 255, cv2.THRESH_BINARY_INV)\n",
    "\n",
    "# # 3. 모폴로지 연산으로 텍스트 영역 강조 (Close 연산: 글자들 간의 간격을 메움)\n",
    "# kernel = cv2.getStructuringElement(cv2.MORPH_RECT, (30, 5))  # 가로로 긴 커널을 사용하여 텍스트가 포함된 블록 검출\n",
    "# morphed = cv2.morphologyEx(binary, cv2.MORPH_CLOSE, kernel)\n",
    "\n",
    "# # 4. 윤곽선 검출\n",
    "# contours, _ = cv2.findContours(morphed, cv2.RETR_EXTERNAL, cv2.CHAIN_APPROX_SIMPLE)\n",
    "\n",
    "# # 5. 윤곽선 필터링 및 사각형 그리기\n",
    "# for contour in contours:\n",
    "#     x, y, w, h = cv2.boundingRect(contour)\n",
    "    \n",
    "#     # 너무 크거나 작은 윤곽선은 무시\n",
    "#     if 100 < w < 1000 and 50 < h < 300:  # 그림을 제외하기 위한 크기 조건 설정\n",
    "#         # 원본 이미지 위에 사각형 그리기\n",
    "#         cv2.rectangle(image, (x, y), (x + w, y + h), (0, 255, 0), 2)\n",
    "\n",
    "# # 6. 결과 이미지를 파일로 저장\n",
    "# cv2.imwrite('detected_problems.jpg', image)\n"
   ]
  }
 ],
 "metadata": {
  "kernelspec": {
   "display_name": "venv",
   "language": "python",
   "name": "python3"
  },
  "language_info": {
   "codemirror_mode": {
    "name": "ipython",
    "version": 3
   },
   "file_extension": ".py",
   "mimetype": "text/x-python",
   "name": "python",
   "nbconvert_exporter": "python",
   "pygments_lexer": "ipython3",
   "version": "3.9.13"
  }
 },
 "nbformat": 4,
 "nbformat_minor": 2
}
